{
  "nbformat": 4,
  "nbformat_minor": 0,
  "metadata": {
    "colab": {
      "name": "Patternz.ipynb",
      "provenance": [],
      "collapsed_sections": [],
      "include_colab_link": true
    },
    "kernelspec": {
      "name": "python3",
      "display_name": "Python 3"
    },
    "accelerator": "GPU"
  },
  "cells": [
    {
      "cell_type": "markdown",
      "metadata": {
        "id": "view-in-github",
        "colab_type": "text"
      },
      "source": [
        "<a href=\"https://colab.research.google.com/github/kajendranL/GoogleColabs/blob/master/Patternz.ipynb\" target=\"_parent\"><img src=\"https://colab.research.google.com/assets/colab-badge.svg\" alt=\"Open In Colab\"/></a>"
      ]
    },
    {
      "cell_type": "markdown",
      "metadata": {
        "id": "utiFarzmZ2Nk",
        "colab_type": "text"
      },
      "source": [
        "# Pattern I"
      ]
    },
    {
      "cell_type": "code",
      "metadata": {
        "id": "wFpX3V7yUhyy",
        "colab_type": "code",
        "outputId": "d6fc6691-fe75-4ab0-fb68-eaca65b24492",
        "colab": {
          "base_uri": "https://localhost:8080/",
          "height": 302
        }
      },
      "source": [
        "n = int(input(\"Enter the number of rows: \"))\n",
        "\n",
        "for i in range(1, n+1):\n",
        "  print(\"*\"* n)\n",
        "\n",
        "for i in range(1, n+1):\n",
        "  for j in range(1,n+1):\n",
        "    print(' ', chr(65+n-1),end='')\n",
        "  print()\n",
        "\n"
      ],
      "execution_count": 34,
      "outputs": [
        {
          "output_type": "stream",
          "text": [
            "Enter the number of rows: 8\n",
            "********\n",
            "********\n",
            "********\n",
            "********\n",
            "********\n",
            "********\n",
            "********\n",
            "********\n",
            "  H  H  H  H  H  H  H  H\n",
            "  H  H  H  H  H  H  H  H\n",
            "  H  H  H  H  H  H  H  H\n",
            "  H  H  H  H  H  H  H  H\n",
            "  H  H  H  H  H  H  H  H\n",
            "  H  H  H  H  H  H  H  H\n",
            "  H  H  H  H  H  H  H  H\n",
            "  H  H  H  H  H  H  H  H\n"
          ],
          "name": "stdout"
        }
      ]
    },
    {
      "cell_type": "markdown",
      "metadata": {
        "id": "TKHDMqbKZ4-B",
        "colab_type": "text"
      },
      "source": [
        "# Pattern II"
      ]
    },
    {
      "cell_type": "code",
      "metadata": {
        "id": "J1Zq0JemU3qh",
        "colab_type": "code",
        "outputId": "450c2023-5276-44a5-b670-8795eb59e94e",
        "colab": {
          "base_uri": "https://localhost:8080/",
          "height": 319
        }
      },
      "source": [
        "n= int(input(\"Enter a number: \"))\n",
        "\n",
        "for i in range(1, n+1):\n",
        "  for j in range(1,n+1):\n",
        "    print(' ',i, end='')\n",
        "  print()\n",
        "\n",
        "print(\"Model 2\")\n",
        "\n",
        "\n",
        "\n",
        "for i in range (1, n+1):\n",
        "  for j in range (1, n+1):\n",
        "    print(' ' ,j,end='')\n",
        "  print()\n"
      ],
      "execution_count": 19,
      "outputs": [
        {
          "output_type": "stream",
          "text": [
            "Enter a number: 8\n",
            "  1  1  1  1  1  1  1  1\n",
            "  2  2  2  2  2  2  2  2\n",
            "  3  3  3  3  3  3  3  3\n",
            "  4  4  4  4  4  4  4  4\n",
            "  5  5  5  5  5  5  5  5\n",
            "  6  6  6  6  6  6  6  6\n",
            "  7  7  7  7  7  7  7  7\n",
            "  8  8  8  8  8  8  8  8\n",
            "Model 2\n",
            "  1  2  3  4  5  6  7  8\n",
            "  1  2  3  4  5  6  7  8\n",
            "  1  2  3  4  5  6  7  8\n",
            "  1  2  3  4  5  6  7  8\n",
            "  1  2  3  4  5  6  7  8\n",
            "  1  2  3  4  5  6  7  8\n",
            "  1  2  3  4  5  6  7  8\n",
            "  1  2  3  4  5  6  7  8\n"
          ],
          "name": "stdout"
        }
      ]
    },
    {
      "cell_type": "markdown",
      "metadata": {
        "id": "5U1g2Jh9ZhgR",
        "colab_type": "text"
      },
      "source": [
        "# Pattern III"
      ]
    },
    {
      "cell_type": "code",
      "metadata": {
        "id": "3gUAQz-KVSZK",
        "colab_type": "code",
        "colab": {
          "base_uri": "https://localhost:8080/",
          "height": 319
        },
        "outputId": "d8549afe-741f-4f6a-c544-60f36c81ad6f"
      },
      "source": [
        "n = int(input(\"Enter a number: \"))\n",
        "\n",
        "for i in range (1, n+1):\n",
        "  for j in range (1, n+1):\n",
        "    print(' ',chr(64+i),end='')\n",
        "  print()\n",
        "\n",
        "print(  \"Model 2\")\n",
        "\n",
        "for i in range(1,n+1):\n",
        "  for j in range (1,n+1):\n",
        "    print(' ', chr(64+j),end='')\n",
        "  print()\n"
      ],
      "execution_count": 20,
      "outputs": [
        {
          "output_type": "stream",
          "text": [
            "Enter a number: 8\n",
            "  A  A  A  A  A  A  A  A\n",
            "  B  B  B  B  B  B  B  B\n",
            "  C  C  C  C  C  C  C  C\n",
            "  D  D  D  D  D  D  D  D\n",
            "  E  E  E  E  E  E  E  E\n",
            "  F  F  F  F  F  F  F  F\n",
            "  G  G  G  G  G  G  G  G\n",
            "  H  H  H  H  H  H  H  H\n",
            "Model 2\n",
            "  A  B  C  D  E  F  G  H\n",
            "  A  B  C  D  E  F  G  H\n",
            "  A  B  C  D  E  F  G  H\n",
            "  A  B  C  D  E  F  G  H\n",
            "  A  B  C  D  E  F  G  H\n",
            "  A  B  C  D  E  F  G  H\n",
            "  A  B  C  D  E  F  G  H\n",
            "  A  B  C  D  E  F  G  H\n"
          ],
          "name": "stdout"
        }
      ]
    },
    {
      "cell_type": "markdown",
      "metadata": {
        "id": "kfafyGldaHXj",
        "colab_type": "text"
      },
      "source": [
        "# Pattern IV"
      ]
    },
    {
      "cell_type": "code",
      "metadata": {
        "id": "_6KYIsYZZlTM",
        "colab_type": "code",
        "colab": {
          "base_uri": "https://localhost:8080/",
          "height": 319
        },
        "outputId": "e941d25d-4818-472a-e3b2-37356b86c7c4"
      },
      "source": [
        "n = int(input(\"Enter a number: \"))\n",
        "\n",
        "for i in range(1,n+1):\n",
        "  for j in range(1,n+1):\n",
        "    print(' ',n+1 - i, end='')\n",
        "  print()\n",
        "\n",
        "print('   ' \"Model 2\")\n",
        "\n",
        "for i in range(1, n+1):\n",
        "  for j in range(1, n+1):\n",
        "    print(' ',n+1-j,end='')\n",
        "  print()\n"
      ],
      "execution_count": 21,
      "outputs": [
        {
          "output_type": "stream",
          "text": [
            "Enter a number: 8\n",
            "  8  8  8  8  8  8  8  8\n",
            "  7  7  7  7  7  7  7  7\n",
            "  6  6  6  6  6  6  6  6\n",
            "  5  5  5  5  5  5  5  5\n",
            "  4  4  4  4  4  4  4  4\n",
            "  3  3  3  3  3  3  3  3\n",
            "  2  2  2  2  2  2  2  2\n",
            "  1  1  1  1  1  1  1  1\n",
            "   Model 2\n",
            "  8  7  6  5  4  3  2  1\n",
            "  8  7  6  5  4  3  2  1\n",
            "  8  7  6  5  4  3  2  1\n",
            "  8  7  6  5  4  3  2  1\n",
            "  8  7  6  5  4  3  2  1\n",
            "  8  7  6  5  4  3  2  1\n",
            "  8  7  6  5  4  3  2  1\n",
            "  8  7  6  5  4  3  2  1\n"
          ],
          "name": "stdout"
        }
      ]
    },
    {
      "cell_type": "markdown",
      "metadata": {
        "id": "cMi2fmmFdC48",
        "colab_type": "text"
      },
      "source": [
        "# Pattern V"
      ]
    },
    {
      "cell_type": "code",
      "metadata": {
        "id": "9MbNLiz8b4iz",
        "colab_type": "code",
        "colab": {
          "base_uri": "https://localhost:8080/",
          "height": 302
        },
        "outputId": "1d8af485-77cf-4a3f-9b99-fa8baa9e7012"
      },
      "source": [
        "Row = 8\n",
        "\n",
        "for i in range (1,n+1):\n",
        "  for j in range(1,n+1):\n",
        "    print(' ',chr(65+n-i), end='')\n",
        "  print()\n",
        "print()\n",
        "\n",
        "for i in range(1, n+1):\n",
        "  for j in range(1,n+1):\n",
        "    print(' ', chr(65+n-j),end='')\n",
        "  print()"
      ],
      "execution_count": 27,
      "outputs": [
        {
          "output_type": "stream",
          "text": [
            "  H  H  H  H  H  H  H  H\n",
            "  G  G  G  G  G  G  G  G\n",
            "  F  F  F  F  F  F  F  F\n",
            "  E  E  E  E  E  E  E  E\n",
            "  D  D  D  D  D  D  D  D\n",
            "  C  C  C  C  C  C  C  C\n",
            "  B  B  B  B  B  B  B  B\n",
            "  A  A  A  A  A  A  A  A\n",
            "\n",
            "  H  G  F  E  D  C  B  A\n",
            "  H  G  F  E  D  C  B  A\n",
            "  H  G  F  E  D  C  B  A\n",
            "  H  G  F  E  D  C  B  A\n",
            "  H  G  F  E  D  C  B  A\n",
            "  H  G  F  E  D  C  B  A\n",
            "  H  G  F  E  D  C  B  A\n",
            "  H  G  F  E  D  C  B  A\n"
          ],
          "name": "stdout"
        }
      ]
    },
    {
      "cell_type": "markdown",
      "metadata": {
        "id": "cr3pmYMSfIpw",
        "colab_type": "text"
      },
      "source": [
        "# Pattern VI"
      ]
    },
    {
      "cell_type": "code",
      "metadata": {
        "id": "IZ_CJNDudlGX",
        "colab_type": "code",
        "colab": {
          "base_uri": "https://localhost:8080/",
          "height": 605
        },
        "outputId": "5deea08d-ebc1-4cc1-bfab-08f32c1c08f9"
      },
      "source": [
        "n = 8\n",
        "\n",
        "for i in range(1,n+1):\n",
        "  for j in range(1,i+1):\n",
        "    print('*',end='')\n",
        "  print()\n",
        "\n",
        "print()\n",
        "\n",
        "for i in range(1,n+1):\n",
        "  for j in range(1,j-1):\n",
        "    print('*', end='')\n",
        "  print()\n",
        "\n",
        "print()\n",
        "\n",
        "for i in range(1,n+1):\n",
        "  print('*'*i)\n",
        "print()\n",
        "\n",
        "print()\n",
        "\n",
        "for i in range(1,n+1):\n",
        "  print('*'*j)\n",
        "print()"
      ],
      "execution_count": 53,
      "outputs": [
        {
          "output_type": "stream",
          "text": [
            "*\n",
            "**\n",
            "***\n",
            "****\n",
            "*****\n",
            "******\n",
            "*******\n",
            "********\n",
            "\n",
            "******\n",
            "****\n",
            "**\n",
            "\n",
            "\n",
            "\n",
            "\n",
            "*\n",
            "**\n",
            "***\n",
            "****\n",
            "*****\n",
            "******\n",
            "*******\n",
            "********\n",
            "\n",
            "\n",
            "**\n",
            "**\n",
            "**\n",
            "**\n",
            "**\n",
            "**\n",
            "**\n",
            "**\n",
            "\n"
          ],
          "name": "stdout"
        }
      ]
    },
    {
      "cell_type": "code",
      "metadata": {
        "id": "_Fewdm2ffdrX",
        "colab_type": "code",
        "colab": {}
      },
      "source": [
        ""
      ],
      "execution_count": 0,
      "outputs": []
    }
  ]
}