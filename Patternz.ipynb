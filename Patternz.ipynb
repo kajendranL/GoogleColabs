{
  "nbformat": 4,
  "nbformat_minor": 0,
  "metadata": {
    "colab": {
      "name": "Patternz.ipynb",
      "provenance": [],
      "collapsed_sections": [],
      "include_colab_link": true
    },
    "kernelspec": {
      "name": "python3",
      "display_name": "Python 3"
    },
    "accelerator": "GPU"
  },
  "cells": [
    {
      "cell_type": "markdown",
      "metadata": {
        "id": "view-in-github",
        "colab_type": "text"
      },
      "source": [
        "<a href=\"https://colab.research.google.com/github/kajendranL/GoogleColabs/blob/master/Patternz.ipynb\" target=\"_parent\"><img src=\"https://colab.research.google.com/assets/colab-badge.svg\" alt=\"Open In Colab\"/></a>"
      ]
    },
    {
      "cell_type": "markdown",
      "metadata": {
        "id": "utiFarzmZ2Nk",
        "colab_type": "text"
      },
      "source": [
        "# Pattern I"
      ]
    },
    {
      "cell_type": "code",
      "metadata": {
        "id": "wFpX3V7yUhyy",
        "colab_type": "code",
        "outputId": "d6fc6691-fe75-4ab0-fb68-eaca65b24492",
        "colab": {
          "base_uri": "https://localhost:8080/",
          "height": 302
        }
      },
      "source": [
        "n = int(input(\"Enter the number of rows: \"))\n",
        "\n",
        "for i in range(1, n+1):\n",
        "  print(\"*\"* n)\n",
        "\n",
        "for i in range(1, n+1):\n",
        "  for j in range(1,n+1):\n",
        "    print(' ', chr(65+n-1),end='')\n",
        "  print()\n",
        "\n"
      ],
      "execution_count": 0,
      "outputs": [
        {
          "output_type": "stream",
          "text": [
            "Enter the number of rows: 8\n",
            "********\n",
            "********\n",
            "********\n",
            "********\n",
            "********\n",
            "********\n",
            "********\n",
            "********\n",
            "  H  H  H  H  H  H  H  H\n",
            "  H  H  H  H  H  H  H  H\n",
            "  H  H  H  H  H  H  H  H\n",
            "  H  H  H  H  H  H  H  H\n",
            "  H  H  H  H  H  H  H  H\n",
            "  H  H  H  H  H  H  H  H\n",
            "  H  H  H  H  H  H  H  H\n",
            "  H  H  H  H  H  H  H  H\n"
          ],
          "name": "stdout"
        }
      ]
    },
    {
      "cell_type": "markdown",
      "metadata": {
        "id": "TKHDMqbKZ4-B",
        "colab_type": "text"
      },
      "source": [
        "# Pattern II"
      ]
    },
    {
      "cell_type": "code",
      "metadata": {
        "id": "J1Zq0JemU3qh",
        "colab_type": "code",
        "outputId": "450c2023-5276-44a5-b670-8795eb59e94e",
        "colab": {
          "base_uri": "https://localhost:8080/",
          "height": 319
        }
      },
      "source": [
        "n= int(input(\"Enter a number: \"))\n",
        "\n",
        "for i in range(1, n+1):\n",
        "  for j in range(1,n+1):\n",
        "    print(' ',i, end='')\n",
        "  print()\n",
        "\n",
        "print(\"Model 2\")\n",
        "\n",
        "\n",
        "\n",
        "for i in range (1, n+1):\n",
        "  for j in range (1, n+1):\n",
        "    print(' ' ,j,end='')\n",
        "  print()\n"
      ],
      "execution_count": 0,
      "outputs": [
        {
          "output_type": "stream",
          "text": [
            "Enter a number: 8\n",
            "  1  1  1  1  1  1  1  1\n",
            "  2  2  2  2  2  2  2  2\n",
            "  3  3  3  3  3  3  3  3\n",
            "  4  4  4  4  4  4  4  4\n",
            "  5  5  5  5  5  5  5  5\n",
            "  6  6  6  6  6  6  6  6\n",
            "  7  7  7  7  7  7  7  7\n",
            "  8  8  8  8  8  8  8  8\n",
            "Model 2\n",
            "  1  2  3  4  5  6  7  8\n",
            "  1  2  3  4  5  6  7  8\n",
            "  1  2  3  4  5  6  7  8\n",
            "  1  2  3  4  5  6  7  8\n",
            "  1  2  3  4  5  6  7  8\n",
            "  1  2  3  4  5  6  7  8\n",
            "  1  2  3  4  5  6  7  8\n",
            "  1  2  3  4  5  6  7  8\n"
          ],
          "name": "stdout"
        }
      ]
    },
    {
      "cell_type": "markdown",
      "metadata": {
        "id": "5U1g2Jh9ZhgR",
        "colab_type": "text"
      },
      "source": [
        "# Pattern III"
      ]
    },
    {
      "cell_type": "code",
      "metadata": {
        "id": "3gUAQz-KVSZK",
        "colab_type": "code",
        "outputId": "d8549afe-741f-4f6a-c544-60f36c81ad6f",
        "colab": {
          "base_uri": "https://localhost:8080/",
          "height": 319
        }
      },
      "source": [
        "n = int(input(\"Enter a number: \"))\n",
        "\n",
        "for i in range (1, n+1):\n",
        "  for j in range (1, n+1):\n",
        "    print(' ',chr(64+i),end='')\n",
        "  print()\n",
        "\n",
        "print(  \"Model 2\")\n",
        "\n",
        "for i in range(1,n+1):\n",
        "  for j in range (1,n+1):\n",
        "    print(' ', chr(64+j),end='')\n",
        "  print()\n"
      ],
      "execution_count": 0,
      "outputs": [
        {
          "output_type": "stream",
          "text": [
            "Enter a number: 8\n",
            "  A  A  A  A  A  A  A  A\n",
            "  B  B  B  B  B  B  B  B\n",
            "  C  C  C  C  C  C  C  C\n",
            "  D  D  D  D  D  D  D  D\n",
            "  E  E  E  E  E  E  E  E\n",
            "  F  F  F  F  F  F  F  F\n",
            "  G  G  G  G  G  G  G  G\n",
            "  H  H  H  H  H  H  H  H\n",
            "Model 2\n",
            "  A  B  C  D  E  F  G  H\n",
            "  A  B  C  D  E  F  G  H\n",
            "  A  B  C  D  E  F  G  H\n",
            "  A  B  C  D  E  F  G  H\n",
            "  A  B  C  D  E  F  G  H\n",
            "  A  B  C  D  E  F  G  H\n",
            "  A  B  C  D  E  F  G  H\n",
            "  A  B  C  D  E  F  G  H\n"
          ],
          "name": "stdout"
        }
      ]
    },
    {
      "cell_type": "markdown",
      "metadata": {
        "id": "kfafyGldaHXj",
        "colab_type": "text"
      },
      "source": [
        "# Pattern IV"
      ]
    },
    {
      "cell_type": "code",
      "metadata": {
        "id": "_6KYIsYZZlTM",
        "colab_type": "code",
        "outputId": "e941d25d-4818-472a-e3b2-37356b86c7c4",
        "colab": {
          "base_uri": "https://localhost:8080/",
          "height": 319
        }
      },
      "source": [
        "n = int(input(\"Enter a number: \"))\n",
        "\n",
        "for i in range(1,n+1):\n",
        "  for j in range(1,n+1):\n",
        "    print(' ',n+1 - i, end='')\n",
        "  print()\n",
        "\n",
        "print('   ' \"Model 2\")\n",
        "\n",
        "for i in range(1, n+1):\n",
        "  for j in range(1, n+1):\n",
        "    print(' ',n+1-j,end='')\n",
        "  print()\n"
      ],
      "execution_count": 0,
      "outputs": [
        {
          "output_type": "stream",
          "text": [
            "Enter a number: 8\n",
            "  8  8  8  8  8  8  8  8\n",
            "  7  7  7  7  7  7  7  7\n",
            "  6  6  6  6  6  6  6  6\n",
            "  5  5  5  5  5  5  5  5\n",
            "  4  4  4  4  4  4  4  4\n",
            "  3  3  3  3  3  3  3  3\n",
            "  2  2  2  2  2  2  2  2\n",
            "  1  1  1  1  1  1  1  1\n",
            "   Model 2\n",
            "  8  7  6  5  4  3  2  1\n",
            "  8  7  6  5  4  3  2  1\n",
            "  8  7  6  5  4  3  2  1\n",
            "  8  7  6  5  4  3  2  1\n",
            "  8  7  6  5  4  3  2  1\n",
            "  8  7  6  5  4  3  2  1\n",
            "  8  7  6  5  4  3  2  1\n",
            "  8  7  6  5  4  3  2  1\n"
          ],
          "name": "stdout"
        }
      ]
    },
    {
      "cell_type": "markdown",
      "metadata": {
        "id": "cMi2fmmFdC48",
        "colab_type": "text"
      },
      "source": [
        "# Pattern V"
      ]
    },
    {
      "cell_type": "code",
      "metadata": {
        "id": "9MbNLiz8b4iz",
        "colab_type": "code",
        "outputId": "1d8af485-77cf-4a3f-9b99-fa8baa9e7012",
        "colab": {
          "base_uri": "https://localhost:8080/",
          "height": 302
        }
      },
      "source": [
        "Row = 8\n",
        "\n",
        "for i in range (1,n+1):\n",
        "  for j in range(1,n+1):\n",
        "    print(' ',chr(65+n-i), end='')\n",
        "  print()\n",
        "print()\n",
        "\n",
        "for i in range(1, n+1):\n",
        "  for j in range(1,n+1):\n",
        "    print(' ', chr(65+n-j),end='')\n",
        "  print()"
      ],
      "execution_count": 0,
      "outputs": [
        {
          "output_type": "stream",
          "text": [
            "  H  H  H  H  H  H  H  H\n",
            "  G  G  G  G  G  G  G  G\n",
            "  F  F  F  F  F  F  F  F\n",
            "  E  E  E  E  E  E  E  E\n",
            "  D  D  D  D  D  D  D  D\n",
            "  C  C  C  C  C  C  C  C\n",
            "  B  B  B  B  B  B  B  B\n",
            "  A  A  A  A  A  A  A  A\n",
            "\n",
            "  H  G  F  E  D  C  B  A\n",
            "  H  G  F  E  D  C  B  A\n",
            "  H  G  F  E  D  C  B  A\n",
            "  H  G  F  E  D  C  B  A\n",
            "  H  G  F  E  D  C  B  A\n",
            "  H  G  F  E  D  C  B  A\n",
            "  H  G  F  E  D  C  B  A\n",
            "  H  G  F  E  D  C  B  A\n"
          ],
          "name": "stdout"
        }
      ]
    },
    {
      "cell_type": "markdown",
      "metadata": {
        "id": "cr3pmYMSfIpw",
        "colab_type": "text"
      },
      "source": [
        "# Pattern VI"
      ]
    },
    {
      "cell_type": "code",
      "metadata": {
        "id": "IZ_CJNDudlGX",
        "colab_type": "code",
        "outputId": "09f39410-5a1a-4e88-db2c-b02366741c4b",
        "colab": {
          "base_uri": "https://localhost:8080/",
          "height": 622
        }
      },
      "source": [
        "n = 8\n",
        "\n",
        "for i in range(1,n+1):\n",
        "  for j in range(1,i+1):\n",
        "    print('*',end='')\n",
        "  print()\n",
        "\n",
        "print()\n",
        "\n",
        "for i in range(1,n+1):\n",
        "  for j in range(1,j):\n",
        "    print('*', end='')\n",
        "  print()\n",
        "\n",
        "print()\n",
        "\n",
        "for i in range(1,n+1):\n",
        "  print('*'*i)\n",
        "print()\n",
        "\n",
        "print()\n",
        "\n",
        "for i in range(1,n+1):\n",
        "  for j in range (1,i+1):\n",
        "    print(j,end='')\n",
        "  print()"
      ],
      "execution_count": 0,
      "outputs": [
        {
          "output_type": "stream",
          "text": [
            "*\n",
            "**\n",
            "***\n",
            "****\n",
            "*****\n",
            "******\n",
            "*******\n",
            "********\n",
            "\n",
            "*******\n",
            "******\n",
            "*****\n",
            "****\n",
            "***\n",
            "**\n",
            "*\n",
            "\n",
            "\n",
            "*\n",
            "**\n",
            "***\n",
            "****\n",
            "*****\n",
            "******\n",
            "*******\n",
            "********\n",
            "\n",
            "\n",
            "1\n",
            "12\n",
            "123\n",
            "1234\n",
            "12345\n",
            "123456\n",
            "1234567\n",
            "12345678\n"
          ],
          "name": "stdout"
        }
      ]
    },
    {
      "cell_type": "markdown",
      "metadata": {
        "id": "FfslDMYJl40g",
        "colab_type": "text"
      },
      "source": [
        "# Pattern VII"
      ]
    },
    {
      "cell_type": "code",
      "metadata": {
        "id": "_Fewdm2ffdrX",
        "colab_type": "code",
        "outputId": "11b2de2e-12d9-426f-ac33-26790a83dd69",
        "colab": {
          "base_uri": "https://localhost:8080/",
          "height": 302
        }
      },
      "source": [
        "n =8\n",
        "for i in range(1,n+1):\n",
        "  for j in range(1,i+1):\n",
        "    print(chr(65),end='')\n",
        "  print()\n",
        "\n",
        "for i in range(1,n+1):\n",
        "  for j in range(1,j):\n",
        "    print(chr(65),end='')\n",
        "  print()\n",
        "\n",
        "print()\n"
      ],
      "execution_count": 0,
      "outputs": [
        {
          "output_type": "stream",
          "text": [
            "A\n",
            "AA\n",
            "AAA\n",
            "AAAA\n",
            "AAAAA\n",
            "AAAAAA\n",
            "AAAAAAA\n",
            "AAAAAAAA\n",
            "AAAAAAA\n",
            "AAAAAA\n",
            "AAAAA\n",
            "AAAA\n",
            "AAA\n",
            "AA\n",
            "A\n",
            "\n",
            "\n"
          ],
          "name": "stdout"
        }
      ]
    },
    {
      "cell_type": "code",
      "metadata": {
        "id": "82V0jrgbtYWv",
        "colab_type": "code",
        "outputId": "417795b8-af54-4d50-c1cd-54e4bd4a7571",
        "colab": {
          "base_uri": "https://localhost:8080/",
          "height": 302
        }
      },
      "source": [
        "n =8\n",
        "for i in range(1,n+1):\n",
        "  for j in range(1,i+1):\n",
        "    print(chr(65+i),end='')\n",
        "  print()\n",
        "\n",
        "for i in range(1,n+1):\n",
        "  for j in range(1,j):\n",
        "    print(chr(65+i),end='')\n",
        "  print()\n",
        "\n",
        "print()"
      ],
      "execution_count": 0,
      "outputs": [
        {
          "output_type": "stream",
          "text": [
            "B\n",
            "CC\n",
            "DDD\n",
            "EEEE\n",
            "FFFFF\n",
            "GGGGGG\n",
            "HHHHHHH\n",
            "IIIIIIII\n",
            "BBBBBBB\n",
            "CCCCCC\n",
            "DDDDD\n",
            "EEEE\n",
            "FFF\n",
            "GG\n",
            "H\n",
            "\n",
            "\n"
          ],
          "name": "stdout"
        }
      ]
    },
    {
      "cell_type": "code",
      "metadata": {
        "id": "t4IKbbwpvqml",
        "colab_type": "code",
        "outputId": "a6bf8260-4e96-4697-8e5e-e7cc5b0f9a98",
        "colab": {
          "base_uri": "https://localhost:8080/",
          "height": 286
        }
      },
      "source": [
        "n=8\n",
        "\n",
        "for i in range(1,n+1):\n",
        "  for j in range(1,n+2-i):\n",
        "    print(\"*\",end='')\n",
        "  print()\n",
        "\n",
        "for i in range(1,n+1):\n",
        "  for j in range(1,i+1):\n",
        "    print(\"*\",end='')\n",
        "  print()"
      ],
      "execution_count": 0,
      "outputs": [
        {
          "output_type": "stream",
          "text": [
            "********\n",
            "*******\n",
            "******\n",
            "*****\n",
            "****\n",
            "***\n",
            "**\n",
            "*\n",
            "*\n",
            "**\n",
            "***\n",
            "****\n",
            "*****\n",
            "******\n",
            "*******\n",
            "********\n"
          ],
          "name": "stdout"
        }
      ]
    },
    {
      "cell_type": "code",
      "metadata": {
        "id": "InpH7rIByCDB",
        "colab_type": "code",
        "outputId": "687e347a-0919-4482-bd39-d97c2d1c8f00",
        "colab": {
          "base_uri": "https://localhost:8080/",
          "height": 890
        }
      },
      "source": [
        "n= 8\n",
        "for i in range(1,n+1):\n",
        "  for j in range(1,n+2-i):\n",
        "    print(i,end='')\n",
        "  print()\n",
        "\n",
        "for i in range(1,n+1):\n",
        "  for j in range(1,n+2-i):\n",
        "    print(j,end='')\n",
        "  print()\n",
        "print()\n",
        "for i in range(1,n+1):\n",
        "  for j in range(1,n+2-1):\n",
        "    print(i,end='')\n",
        "  print()\n",
        "print()\n",
        "for i in range(1,n+1):\n",
        "  for j in range(1,n+2-1):\n",
        "    print(j,end='')\n",
        "  print()\n",
        "print()\n",
        "for i in range(1,n+1):\n",
        "  for j in range(1,n+2-j):\n",
        "    print(i,end='')\n",
        "  print()\n",
        "print()\n",
        "for i in range(1,n+1):\n",
        "  for j in range(1,n+2-j):\n",
        "    print(j,end='')\n",
        "  print()"
      ],
      "execution_count": 0,
      "outputs": [
        {
          "output_type": "stream",
          "text": [
            "11111111\n",
            "2222222\n",
            "333333\n",
            "44444\n",
            "5555\n",
            "666\n",
            "77\n",
            "8\n",
            "12345678\n",
            "1234567\n",
            "123456\n",
            "12345\n",
            "1234\n",
            "123\n",
            "12\n",
            "1\n",
            "\n",
            "11111111\n",
            "22222222\n",
            "33333333\n",
            "44444444\n",
            "55555555\n",
            "66666666\n",
            "77777777\n",
            "88888888\n",
            "\n",
            "12345678\n",
            "12345678\n",
            "12345678\n",
            "12345678\n",
            "12345678\n",
            "12345678\n",
            "12345678\n",
            "12345678\n",
            "\n",
            "1\n",
            "22222222\n",
            "3\n",
            "44444444\n",
            "5\n",
            "66666666\n",
            "7\n",
            "88888888\n",
            "\n",
            "1\n",
            "12345678\n",
            "1\n",
            "12345678\n",
            "1\n",
            "12345678\n",
            "1\n",
            "12345678\n"
          ],
          "name": "stdout"
        }
      ]
    },
    {
      "cell_type": "code",
      "metadata": {
        "id": "1GXJs07izLmp",
        "colab_type": "code",
        "outputId": "216227cf-baa3-4e27-927f-1317450ddfdf",
        "colab": {
          "base_uri": "https://localhost:8080/",
          "height": 1000
        }
      },
      "source": [
        "n = 8\n",
        "\n",
        "for i in range(1,n+1):\n",
        "  for j in range(1,n+2-i):\n",
        "    print(i,end='')\n",
        "  print()\n",
        "\n",
        "for i in range(1,n+1):\n",
        "  for j in range(1,i+1):\n",
        "    print(i,end='')\n",
        "  print()\n",
        "\n",
        "\n",
        "for i in range(1,n+1):\n",
        "  for j in range(1,n+2-i):\n",
        "    print(j,end='')\n",
        "  print()\n",
        "for i in range(1,n+1):\n",
        "  for j in range(1,i+1):\n",
        "    print(j,end='')\n",
        "  print()\n",
        "\n",
        "for i in range(1,n+1):\n",
        "  for j in range(1,n+2-i):\n",
        "    print(chr(64+i),end='')\n",
        "  print()\n",
        "for i in range(1,n+1):\n",
        "  for j in range(1,i+1):\n",
        "    print(chr(64+i),end='')\n",
        "  print()\n",
        "for i in range(1,n+1):\n",
        "  for j in range(1,n+2-i):\n",
        "    print(chr(64+j),end='')\n",
        "  print()\n",
        "for i in range(1,n+1):\n",
        "  for j in range(1,i+1):\n",
        "    print(chr(64+j),end='')\n",
        "  print()\n",
        "\n"
      ],
      "execution_count": 0,
      "outputs": [
        {
          "output_type": "stream",
          "text": [
            "11111111\n",
            "2222222\n",
            "333333\n",
            "44444\n",
            "5555\n",
            "666\n",
            "77\n",
            "8\n",
            "1\n",
            "22\n",
            "333\n",
            "4444\n",
            "55555\n",
            "666666\n",
            "7777777\n",
            "88888888\n",
            "12345678\n",
            "1234567\n",
            "123456\n",
            "12345\n",
            "1234\n",
            "123\n",
            "12\n",
            "1\n",
            "1\n",
            "12\n",
            "123\n",
            "1234\n",
            "12345\n",
            "123456\n",
            "1234567\n",
            "12345678\n",
            "AAAAAAAA\n",
            "BBBBBBB\n",
            "CCCCCC\n",
            "DDDDD\n",
            "EEEE\n",
            "FFF\n",
            "GG\n",
            "H\n",
            "A\n",
            "BB\n",
            "CCC\n",
            "DDDD\n",
            "EEEEE\n",
            "FFFFFF\n",
            "GGGGGGG\n",
            "HHHHHHHH\n",
            "ABCDEFGH\n",
            "ABCDEFG\n",
            "ABCDEF\n",
            "ABCDE\n",
            "ABCD\n",
            "ABC\n",
            "AB\n",
            "A\n",
            "A\n",
            "AB\n",
            "ABC\n",
            "ABCD\n",
            "ABCDE\n",
            "ABCDEF\n",
            "ABCDEFG\n",
            "ABCDEFGH\n"
          ],
          "name": "stdout"
        }
      ]
    },
    {
      "cell_type": "markdown",
      "metadata": {
        "id": "rysdsSe4-Add",
        "colab_type": "text"
      },
      "source": [
        "#Patternz relearning\n"
      ]
    },
    {
      "cell_type": "markdown",
      "metadata": {
        "id": "8HOjEkAO-Gcl",
        "colab_type": "text"
      },
      "source": [
        "#pattern 1"
      ]
    },
    {
      "cell_type": "code",
      "metadata": {
        "id": "gJBpWU9q1oEF",
        "colab_type": "code",
        "outputId": "dd4dbeb0-8833-4363-f28e-725fba50be35",
        "colab": {
          "base_uri": "https://localhost:8080/",
          "height": 907
        }
      },
      "source": [
        "for x in range(1,6):\n",
        "  for y in range(1,6):\n",
        "    print(\"*\", end= '')\n",
        "  print()\n",
        "\n",
        "print()\n",
        "\n",
        "for x in range(1,6):\n",
        "  for y in range(1,6):\n",
        "    print(x, end='')\n",
        "  print()\n",
        "\n",
        "print()\n",
        "\n",
        "for x in range(1,6):\n",
        "  for y in range(1,6):\n",
        "    print(y, end='')\n",
        "  print()\n",
        "\n",
        "print()\n",
        "\n",
        "for x in range(1,6):\n",
        "  for y in range(1,6):\n",
        "    print(chr(64+x),end='')\n",
        "  print()\n",
        "print()\n",
        "for x in range(1,6):\n",
        "  for y in range(1,6):\n",
        "    print(chr(64+y),end='')\n",
        "  print()\n",
        "\n",
        "print()\n",
        "\n",
        "for x in range(5,0,-1):\n",
        "  for y in range(5,0,-1):\n",
        "    print(x,end='')\n",
        "  print()\n",
        "\n",
        "print()\n",
        "for x in range(5,0,-1):\n",
        "  for y in range(5,0,-1):\n",
        "    print(y, end='')\n",
        "  print()\n",
        "\n",
        "print()\n",
        "for x in range(5,0,-1):\n",
        "  for y in range(5,0,-1):\n",
        "    print(chr(64+x), end='')\n",
        "  print()\n",
        "print()\n",
        "for x in range(5,0,-1):\n",
        "  for y in range(5,0,-1):\n",
        "    print(chr(64+y), end='')\n",
        "  print()"
      ],
      "execution_count": 0,
      "outputs": [
        {
          "output_type": "stream",
          "text": [
            "*****\n",
            "*****\n",
            "*****\n",
            "*****\n",
            "*****\n",
            "\n",
            "11111\n",
            "22222\n",
            "33333\n",
            "44444\n",
            "55555\n",
            "\n",
            "12345\n",
            "12345\n",
            "12345\n",
            "12345\n",
            "12345\n",
            "\n",
            "AAAAA\n",
            "BBBBB\n",
            "CCCCC\n",
            "DDDDD\n",
            "EEEEE\n",
            "\n",
            "ABCDE\n",
            "ABCDE\n",
            "ABCDE\n",
            "ABCDE\n",
            "ABCDE\n",
            "\n",
            "55555\n",
            "44444\n",
            "33333\n",
            "22222\n",
            "11111\n",
            "\n",
            "54321\n",
            "54321\n",
            "54321\n",
            "54321\n",
            "54321\n",
            "\n",
            "EEEEE\n",
            "DDDDD\n",
            "CCCCC\n",
            "BBBBB\n",
            "AAAAA\n",
            "\n",
            "EDCBA\n",
            "EDCBA\n",
            "EDCBA\n",
            "EDCBA\n",
            "EDCBA\n"
          ],
          "name": "stdout"
        }
      ]
    },
    {
      "cell_type": "markdown",
      "metadata": {
        "id": "og9zEmSfv2gk",
        "colab_type": "text"
      },
      "source": [
        "#Patterns 2"
      ]
    },
    {
      "cell_type": "code",
      "metadata": {
        "id": "RZdNI0d-v5RG",
        "colab_type": "code",
        "colab": {
          "base_uri": "https://localhost:8080/",
          "height": 521
        },
        "outputId": "6c50e125-e166-4bc8-bf7d-4d11eaf1ff84"
      },
      "source": [
        "for x in range(0,6):\n",
        "  for y in range(1, x+1):\n",
        "    print(\"*\", end=' ')\n",
        "  print()\n",
        "\n",
        "for i in range (0,6):\n",
        "  for m in range(1,i+1):\n",
        "    print(i,end=\" \")\n",
        "  print()\n",
        "\n",
        "for i in range (0,6):\n",
        "  for j in range(1,i+1):\n",
        "    print(j,end=' ')\n",
        "  print()\n",
        "\n",
        "  \n",
        "for s in range(0,6):\n",
        "  for k in range (1,s+1):\n",
        "    print(chr(64+s),end=' ')\n",
        "  print()\n",
        "\n",
        "for u in range(0,6):\n",
        "  for w in range(1,u+1):\n",
        "    print(chr(64+w),end=' ')\n",
        "  print()"
      ],
      "execution_count": 9,
      "outputs": [
        {
          "output_type": "stream",
          "text": [
            "\n",
            "* \n",
            "* * \n",
            "* * * \n",
            "* * * * \n",
            "* * * * * \n",
            "\n",
            "1 \n",
            "2 2 \n",
            "3 3 3 \n",
            "4 4 4 4 \n",
            "5 5 5 5 5 \n",
            "\n",
            "1 \n",
            "1 2 \n",
            "1 2 3 \n",
            "1 2 3 4 \n",
            "1 2 3 4 5 \n",
            "\n",
            "A \n",
            "B B \n",
            "C C C \n",
            "D D D D \n",
            "E E E E E \n",
            "\n",
            "A \n",
            "A B \n",
            "A B C \n",
            "A B C D \n",
            "A B C D E \n"
          ],
          "name": "stdout"
        }
      ]
    },
    {
      "cell_type": "markdown",
      "metadata": {
        "id": "FU14GmGoxzjo",
        "colab_type": "text"
      },
      "source": [
        "##patterns 3"
      ]
    },
    {
      "cell_type": "code",
      "metadata": {
        "id": "ueqAtTWHx2v3",
        "colab_type": "code",
        "colab": {}
      },
      "source": [
        "for x in range(0,6):\n",
        "  for y in range(6,x,-1):\n",
        "    print(x,end=' ')\n",
        "  print()\n",
        "\n",
        "for s in range(0,6):\n",
        "  for t in range (6,x,-1):\n",
        "    print(t,end=' ')\n",
        "  print()"
      ],
      "execution_count": 0,
      "outputs": []
    },
    {
      "cell_type": "code",
      "metadata": {
        "id": "4wi30ZF1yLLu",
        "colab_type": "code",
        "colab": {}
      },
      "source": [
        ""
      ],
      "execution_count": 0,
      "outputs": []
    }
  ]
}