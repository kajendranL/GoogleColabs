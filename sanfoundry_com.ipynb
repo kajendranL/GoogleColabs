{
  "nbformat": 4,
  "nbformat_minor": 0,
  "metadata": {
    "colab": {
      "name": "sanfoundry.com.ipynb",
      "provenance": [],
      "authorship_tag": "ABX9TyMeVARKQKOx0KqRb2QAPX6b",
      "include_colab_link": true
    },
    "kernelspec": {
      "name": "python3",
      "display_name": "Python 3"
    }
  },
  "cells": [
    {
      "cell_type": "markdown",
      "metadata": {
        "id": "view-in-github",
        "colab_type": "text"
      },
      "source": [
        "<a href=\"https://colab.research.google.com/github/kajendranL/GoogleColabs/blob/master/sanfoundry_com.ipynb\" target=\"_parent\"><img src=\"https://colab.research.google.com/assets/colab-badge.svg\" alt=\"Open In Colab\"/></a>"
      ]
    },
    {
      "cell_type": "markdown",
      "metadata": {
        "id": "wRjgBOxfKhfn",
        "colab_type": "text"
      },
      "source": [
        "#Simple Python Programs\n",
        "\n",
        "#Problem Description\n",
        "The program takes the elements of the list one by one and displays the average of the elements of the list."
      ]
    },
    {
      "cell_type": "code",
      "metadata": {
        "id": "2AjQHxdzKjAa",
        "colab_type": "code",
        "outputId": "fa930343-88bf-4f85-9488-4d987ff7c061",
        "colab": {
          "base_uri": "https://localhost:8080/",
          "height": 102
        }
      },
      "source": [
        "# 1. Take the number of elements to be stored in the list as input.\n",
        "# 2. Use a for loop to input elements into the list.\n",
        "# 3. Calculate the total sum of elements in the list.\n",
        "# 4. Divide the sum by total number of elements in the list.\n",
        "# 5. Exit\n",
        "\n",
        "List1= int(input(\"Enter the number: \"))\n",
        "a = []\n",
        "for i in range (List1):\n",
        "  element = int(input(\"Enter a number:-\"))\n",
        "  a.append(element)\n",
        "\n",
        "b=sum(a)/List1\n",
        "print(\"avg element in the list is\",round(b,2))\n",
        "\n",
        "\n"
      ],
      "execution_count": 0,
      "outputs": [
        {
          "output_type": "stream",
          "text": [
            "Enter the number: 3\n",
            "Enter a number:-45\n",
            "Enter a number:-54\n",
            "Enter a number:-65\n",
            "avg element in the list is 54.67\n"
          ],
          "name": "stdout"
        }
      ]
    },
    {
      "cell_type": "markdown",
      "metadata": {
        "id": "kjpox_IyQeES",
        "colab_type": "text"
      },
      "source": [
        "#Python Program to Exchange the Values of Two Numbers Without Using a Temporary Variable\n",
        "\n",
        "\n",
        "Problem Description\n",
        "The program takes both the values from the user and swaps them without using temporary variable"
      ]
    },
    {
      "cell_type": "code",
      "metadata": {
        "id": "oFi_mzw2OdY2",
        "colab_type": "code",
        "outputId": "5275be7e-005f-442b-ab45-5c5a0e3bf066",
        "colab": {
          "base_uri": "https://localhost:8080/",
          "height": 68
        }
      },
      "source": [
        "# Problem Solution\n",
        "# 1. Take the values of both the elements from the user.\n",
        "\n",
        "a = int(input(\"A number: \"))\n",
        "b = int(input(\"Another number :\"))\n",
        "# 2. Store the values in separate variables.\n",
        "# 3. Add both the variables and store it in the first variable.\n",
        "a = (a+b)\n",
        "# 4. Subtract the second variable from the first and store it in the second variable.\n",
        "b = (a-b)\n",
        "\n",
        "# 5. Then, subtract the first variable from the second variable and store it in the first variable.\n",
        "a = (a-b)\n",
        "# 6. Print the swapped values.\n",
        "print( a,b)\n",
        "# 7. Exit.\n",
        "\n"
      ],
      "execution_count": 0,
      "outputs": [
        {
          "output_type": "stream",
          "text": [
            "A number: 7\n",
            "Another number :5\n",
            "5 7\n"
          ],
          "name": "stdout"
        }
      ]
    },
    {
      "cell_type": "markdown",
      "metadata": {
        "id": "__JV-JSwMghx",
        "colab_type": "text"
      },
      "source": [
        "#Python Program to Read a Mumber n and Compute n+nn+nnn\n",
        "\n",
        "Problem Description\n",
        "The program takes a number n and computes n+nn+nnn."
      ]
    },
    {
      "cell_type": "code",
      "metadata": {
        "id": "MetJXcUbR3kW",
        "colab_type": "code",
        "outputId": "eee6674f-489d-4963-8cbc-83177afba0fc",
        "colab": {
          "base_uri": "https://localhost:8080/",
          "height": 51
        }
      },
      "source": [
        "# Problem Solution\n",
        "# 1. Take the value of a element and store in a variable n.\n",
        "n = int(input())\n",
        "\n",
        "# 2. Convert the integer into string and store it in another variable.\n",
        "p = str(n)\n",
        "# 3. Add the string twice so the string gets concatenated and store it in another variable.\n",
        "p1 =(p+p)\n",
        "\n",
        "# 4. Then add the string thrice and assign the value to the third variable.\n",
        "p2 = (p+p+p)\n",
        "# 5. Convert the strings in the second and third variables into integers.\n",
        "# 6. Add the values in all the integers.\n",
        "fin = n+int(p1)+int(p2)\n",
        "\n",
        "\n",
        "# 7. Print the total value of the expression.\n",
        "print(fin)\n",
        "\n",
        "# 8. Exit.\n",
        "\n"
      ],
      "execution_count": 0,
      "outputs": [
        {
          "output_type": "stream",
          "text": [
            "5\n",
            "615\n"
          ],
          "name": "stdout"
        }
      ]
    },
    {
      "cell_type": "markdown",
      "metadata": {
        "id": "mZHL1oenMR6B",
        "colab_type": "text"
      },
      "source": [
        "#Python Program to Reverse a Given Number\n",
        "\n",
        "Problem Description\n",
        "The program takes a number and reverses it."
      ]
    },
    {
      "cell_type": "code",
      "metadata": {
        "id": "N3TBgxSRNgaA",
        "colab_type": "code",
        "colab": {
          "base_uri": "https://localhost:8080/",
          "height": 51
        },
        "outputId": "aef987f8-f285-44bd-9a06-8cb443915572"
      },
      "source": [
        "# 1. Take the value of the integer and store in a variable.\n",
        "# 2. Using a while loop, get each digit of the number and store the reversed number in another variable.\n",
        "# 3. Print the reverse of the number.\n",
        "# 4. Exit.\n",
        "\n",
        "\n",
        "n = int(input(\"Enter a number:\" ))\n",
        "rev= 0\n",
        "while n>0:\n",
        "  lastDigit = n%10\n",
        "  rev = (rev*10)+lastDigit\n",
        "  n=n//10\n",
        "\n",
        "print(\"The reversed digits are :\", rev)\n",
        "\n"
      ],
      "execution_count": 2,
      "outputs": [
        {
          "output_type": "stream",
          "text": [
            "Enter a number:1234\n",
            "The reversed digits are : 4321\n"
          ],
          "name": "stdout"
        }
      ]
    },
    {
      "cell_type": "markdown",
      "metadata": {
        "id": "8attnzE3PsmU",
        "colab_type": "text"
      },
      "source": [
        "#Python Program to Check Whether a Number is Positive or Negative\n",
        "\n",
        "Problem Description\n",
        "The program takes a number and checks whether it is positive or negative."
      ]
    },
    {
      "cell_type": "code",
      "metadata": {
        "id": "V0DTgEDMPHsa",
        "colab_type": "code",
        "colab": {
          "base_uri": "https://localhost:8080/",
          "height": 51
        },
        "outputId": "17e18f88-928a-4ed2-ad83-636512649d5a"
      },
      "source": [
        "n = int(input(\"Enter a number: \"))\n",
        "\n",
        "if n >0:\n",
        "  print (n , \"is a Positive number\")\n",
        "else:\n",
        "  print(n, \"Is a Negative number\")\n"
      ],
      "execution_count": 3,
      "outputs": [
        {
          "output_type": "stream",
          "text": [
            "Enter a number: -1\n",
            "-1 Is a Negative number\n"
          ],
          "name": "stdout"
        }
      ]
    },
    {
      "cell_type": "markdown",
      "metadata": {
        "id": "BPTqN7ZnQX4_",
        "colab_type": "text"
      },
      "source": [
        "# Python Program to Take in the Marks of 5 Subjects and Display the Grade\n",
        "This is a Python Program to take in the marks of 5 subjects and display the grade.\n",
        "\n",
        "Problem Description\n",
        "The program takes in the marks of 5 subjects and displays the grade.\n",
        "\n",
        "Problem Solution\n",
        "1. Take in the marks of 5 subjects from the user and store it in different variables.\n",
        "2. Find the average of the marks.\n",
        "3. Use an else condition to decide the grade based on the average of the marks.\n",
        "4. Exit."
      ]
    },
    {
      "cell_type": "code",
      "metadata": {
        "id": "RTKzCEMQQJdK",
        "colab_type": "code",
        "colab": {}
      },
      "source": [
        ""
      ],
      "execution_count": 0,
      "outputs": []
    }
  ]
}