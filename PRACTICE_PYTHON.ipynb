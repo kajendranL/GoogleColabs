{
  "nbformat": 4,
  "nbformat_minor": 0,
  "metadata": {
    "colab": {
      "name": "PRACTICE PYTHON.ipynb",
      "provenance": [],
      "include_colab_link": true
    },
    "kernelspec": {
      "name": "python3",
      "display_name": "Python 3"
    },
    "accelerator": "GPU"
  },
  "cells": [
    {
      "cell_type": "markdown",
      "metadata": {
        "id": "view-in-github",
        "colab_type": "text"
      },
      "source": [
        "<a href=\"https://colab.research.google.com/github/kajendranL/GoogleColabs/blob/master/PRACTICE_PYTHON.ipynb\" target=\"_parent\"><img src=\"https://colab.research.google.com/assets/colab-badge.svg\" alt=\"Open In Colab\"/></a>"
      ]
    },
    {
      "cell_type": "markdown",
      "metadata": {
        "id": "DJdXvS3jcmjK",
        "colab_type": "text"
      },
      "source": [
        "# Beginner Python exercises\n",
        "\n",
        "\n",
        "Odd Or Even Solutions\n",
        "Ask the user for a number. Depending on whether the number is even or odd, print out an appropriate message to the user.\n",
        "\n",
        "Hint: how does an even / odd number react differently when divided by 2?\n",
        "\n",
        "Extras:\n",
        "\n",
        "If the number is a multiple of 4, print out a different message.\n",
        "Ask the user for two numbers: one number to check (call it num) and one number to divide by (check). If check divides evenly into num, tell that to the user. If not, print a different appropriate message."
      ]
    },
    {
      "cell_type": "code",
      "metadata": {
        "id": "MrtyYOktcBHf",
        "colab_type": "code",
        "colab": {
          "base_uri": "https://localhost:8080/",
          "height": 50
        },
        "outputId": "1af5eea2-ba62-4aa5-8094-24f644d07766"
      },
      "source": [
        "num = int(input(\"Enter a number: \"))\n",
        "if num % 2 == 0:\n",
        "  print(\"It is an even number\")\n",
        "else:\n",
        "  print(\"It is an odd number\")\n",
        "\n"
      ],
      "execution_count": 2,
      "outputs": [
        {
          "output_type": "stream",
          "text": [
            "Enter a number: 89\n",
            "It is an odd number\n"
          ],
          "name": "stdout"
        }
      ]
    },
    {
      "cell_type": "code",
      "metadata": {
        "id": "kIQiut8id4Iv",
        "colab_type": "code",
        "colab": {
          "base_uri": "https://localhost:8080/",
          "height": 84
        },
        "outputId": "be927e79-0098-4758-ffc1-5f574c1c5c3f"
      },
      "source": [
        "num = int(input(\"Enter a number : \"))\n",
        "check = int(input(\"Enter another number: \"))\n",
        "\n",
        "if num % 4 == 0:\n",
        "  print(\"The number can be divided by 4\")\n",
        "elif num % 2 == 0:\n",
        "  print(\"It is an Even number\")\n",
        "else:\n",
        "  print(\"It is an Odd number\")\n",
        "if num % check == 0:\n",
        "  print(num,\"can be divided by \",check)\n",
        "else:\n",
        "  print(num,\"Cannot be divided by \",check)\n",
        "  \n"
      ],
      "execution_count": 3,
      "outputs": [
        {
          "output_type": "stream",
          "text": [
            "Enter a number : 89\n",
            "Enter another number: 6\n",
            "It is an Odd number\n",
            "89 Cannot be divided by  6\n"
          ],
          "name": "stdout"
        }
      ]
    },
    {
      "cell_type": "markdown",
      "metadata": {
        "id": "YLqjRqEvf8ha",
        "colab_type": "text"
      },
      "source": [
        "# Exercise 3 List Less Than Ten\n",
        "\n",
        "Take a list, say for example this one:\n",
        "  a = [1, 1, 2, 3, 5, 8, 13, 21, 34, 55, 89]\n",
        "and write a program that prints out all the elements of the list that are less than 5.\n",
        "Extras:\n",
        "Instead of printing the elements one by one, make a new list that has all the elements less than 5 from this list in it and print out this new list.\n",
        "Write this in one line of Python.\n",
        "Ask the user for a number and return a list that contains only elements from the original list a that are smaller than that number given by the user."
      ]
    },
    {
      "cell_type": "code",
      "metadata": {
        "id": "-bdFvqNMe_UV",
        "colab_type": "code",
        "colab": {
          "base_uri": "https://localhost:8080/",
          "height": 34
        },
        "outputId": "1641d77f-5e46-485a-9f0c-9a5798bc8a11"
      },
      "source": [
        "a = [1, 1, 2, 3, 5, 8, 13, 21, 34, 55, 89] \n",
        "for i in a:\n",
        "  if i <= 5:\n",
        "    print(i,end=',')"
      ],
      "execution_count": 5,
      "outputs": [
        {
          "output_type": "stream",
          "text": [
            "1,1,2,3,5,"
          ],
          "name": "stdout"
        }
      ]
    },
    {
      "cell_type": "code",
      "metadata": {
        "id": "kI6yvF6fgY9H",
        "colab_type": "code",
        "colab": {
          "base_uri": "https://localhost:8080/",
          "height": 34
        },
        "outputId": "09d2e5ab-414e-4f63-fffa-522a669e3f17"
      },
      "source": [
        "print(list(filter(lambda x:x<5, [ 1, 1, 2, 3, 5, 8, 13, 21, 34, 55, 89])))"
      ],
      "execution_count": 8,
      "outputs": [
        {
          "output_type": "stream",
          "text": [
            "[1, 1, 2, 3]\n"
          ],
          "name": "stdout"
        }
      ]
    },
    {
      "cell_type": "markdown",
      "metadata": {
        "id": "F01q1UhACHAv",
        "colab_type": "text"
      },
      "source": [
        "# Exercise 4 Divisors\n",
        "\n",
        "Create a program that asks the user for a number and then prints out a list of all the divisors of that number. (If you don’t know what a divisor is, it is a number that divides evenly into another number. For example, 13 is a divisor of 26 because 26 / 13 has no remainder.)"
      ]
    },
    {
      "cell_type": "code",
      "metadata": {
        "id": "Ah36Ne62hCY2",
        "colab_type": "code",
        "colab": {
          "base_uri": "https://localhost:8080/",
          "height": 101
        },
        "outputId": "767304ac-1a19-41df-e6ef-a078a3ae0121"
      },
      "source": [
        "num = int(input(\"Enter a number: \"))\n",
        "for i in range(1, num+1):\n",
        "  if num % i==0:\n",
        "    print(i)"
      ],
      "execution_count": 3,
      "outputs": [
        {
          "output_type": "stream",
          "text": [
            "Enter a number: 26\n",
            "1\n",
            "2\n",
            "13\n",
            "26\n"
          ],
          "name": "stdout"
        }
      ]
    },
    {
      "cell_type": "markdown",
      "metadata": {
        "id": "TF55b6XlC8Nd",
        "colab_type": "text"
      },
      "source": [
        "# Exercise 5 List Overlap\n",
        "\n",
        "Take two lists, say for example these two:\n",
        "  a = [1, 1, 2, 3, 5, 8, 13, 21, 34, 55, 89]\n",
        "  b = [1, 2, 3, 4, 5, 6, 7, 8, 9, 10, 11, 12, 13]\n",
        "and write a program that returns a list that contains only the elements that are common between the lists (without duplicates). Make sure your program works on two lists of different sizes.\n",
        "Extras:\n",
        "Randomly generate two lists to test this\n",
        "Write this in one line of Python (don’t worry if you can’t figure this out at this point - we’ll get to it soon)"
      ]
    },
    {
      "cell_type": "code",
      "metadata": {
        "id": "fG9tqibnCesg",
        "colab_type": "code",
        "colab": {}
      },
      "source": [
        "a = [1, 1, 2, 3, 5, 8, 13, 21, 34, 55, 89] \n",
        "b = [1, 2, 3, 4, 5, 6, 7, 8, 9, 10, 11, 12, 13]\n",
        "\n",
        "print(a.intersection(b))\n"
      ],
      "execution_count": 0,
      "outputs": []
    },
    {
      "cell_type": "code",
      "metadata": {
        "id": "R0o3KhaNDVov",
        "colab_type": "code",
        "colab": {}
      },
      "source": [
        ""
      ],
      "execution_count": 0,
      "outputs": []
    }
  ]
}