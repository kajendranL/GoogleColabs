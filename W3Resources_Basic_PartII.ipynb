{
  "nbformat": 4,
  "nbformat_minor": 0,
  "metadata": {
    "colab": {
      "name": "W3Resources_Basic_PartII.ipynb",
      "provenance": [],
      "collapsed_sections": [],
      "include_colab_link": true
    },
    "kernelspec": {
      "name": "python3",
      "display_name": "Python 3"
    },
    "accelerator": "GPU"
  },
  "cells": [
    {
      "cell_type": "markdown",
      "metadata": {
        "id": "view-in-github",
        "colab_type": "text"
      },
      "source": [
        "<a href=\"https://colab.research.google.com/github/kajendranL/GoogleColabs/blob/master/W3Resources_Basic_PartII.ipynb\" target=\"_parent\"><img src=\"https://colab.research.google.com/assets/colab-badge.svg\" alt=\"Open In Colab\"/></a>"
      ]
    },
    {
      "cell_type": "markdown",
      "metadata": {
        "id": "9xcw2gVd_9C7",
        "colab_type": "text"
      },
      "source": [
        "# 1. Write a Python function that takes a sequence of numbers and determines if all the numbers are different from each other."
      ]
    },
    {
      "cell_type": "markdown",
      "metadata": {
        "id": "Q8VvP_Vm_5Ex",
        "colab_type": "text"
      },
      "source": [
        ""
      ]
    },
    {
      "cell_type": "code",
      "metadata": {
        "id": "uMF5JqdL_i55",
        "colab_type": "code",
        "outputId": "0ada345e-2391-4f86-994a-61686fc1e21b",
        "colab": {
          "base_uri": "https://localhost:8080/",
          "height": 67
        }
      },
      "source": [
        "def different(lst):\n",
        "  if len(lst) == len(set(lst)):\n",
        "    return True\n",
        "  else:\n",
        "    return False\n",
        "\n",
        "print(different([1,5,9,7,6,8]))\n",
        "print(different([4,5,6,7,8]))\n",
        "print(different([6,5,4,9,8,9,7]))\n",
        "\n"
      ],
      "execution_count": 0,
      "outputs": [
        {
          "output_type": "stream",
          "text": [
            "True\n",
            "True\n",
            "False\n"
          ],
          "name": "stdout"
        }
      ]
    },
    {
      "cell_type": "markdown",
      "metadata": {
        "id": "Uhtb7E53BWRc",
        "colab_type": "text"
      },
      "source": [
        "# 2. Write a Python program to create all possible strings by using 'a', 'e', 'i', 'o', 'u'. Use the characters exactly once."
      ]
    },
    {
      "cell_type": "code",
      "metadata": {
        "id": "A65hNP9eBKMx",
        "colab_type": "code",
        "outputId": "3d590744-33b0-4090-bafc-cb8cf35aabca",
        "colab": {
          "base_uri": "https://localhost:8080/",
          "height": 67
        }
      },
      "source": [
        "import random\n",
        "\n",
        "def possible_str(chars):\n",
        "  random.shuffle(chars)\n",
        "  return (''.join(chars))\n",
        "\n",
        "\n",
        "print(possible_str([\"a\",\"e\",'i','o','u']))\n",
        "print(possible_str([\"a\",\"e\",'i','o','u']))\n",
        "print(possible_str([\"a\",\"e\",'i','o','u']))\n"
      ],
      "execution_count": 0,
      "outputs": [
        {
          "output_type": "stream",
          "text": [
            "aiueo\n",
            "oaeiu\n",
            "eouia\n"
          ],
          "name": "stdout"
        }
      ]
    },
    {
      "cell_type": "markdown",
      "metadata": {
        "id": "B3o494tqEefS",
        "colab_type": "text"
      },
      "source": [
        "# 3. Write a Python program to remove and print every third number from a list of numbers until the list becomes empty."
      ]
    },
    {
      "cell_type": "code",
      "metadata": {
        "id": "pFuKhJP0B94b",
        "colab_type": "code",
        "outputId": "9a6a127a-bf15-4402-e577-db3c9cc88182",
        "colab": {
          "base_uri": "https://localhost:8080/",
          "height": 185
        }
      },
      "source": [
        "def remove(int_list):\n",
        "  pos = 3-1\n",
        "  idx = 0\n",
        "  len_list = len(int_list)\n",
        "\n",
        "  while len_list>0:\n",
        "    idx = (pos+idx)% len_list\n",
        "    print(int_list.pop(idx))\n",
        "    len_list -=1\n",
        "\n",
        "nums = [10,0,20,30,40,50,60,70,80,90]\n",
        "remove(nums)"
      ],
      "execution_count": 0,
      "outputs": [
        {
          "output_type": "stream",
          "text": [
            "20\n",
            "50\n",
            "80\n",
            "0\n",
            "60\n",
            "10\n",
            "70\n",
            "40\n",
            "90\n",
            "30\n"
          ],
          "name": "stdout"
        }
      ]
    },
    {
      "cell_type": "code",
      "metadata": {
        "id": "iC7CM7lLDy93",
        "colab_type": "code",
        "colab": {}
      },
      "source": [
        ""
      ],
      "execution_count": 0,
      "outputs": []
    }
  ]
}