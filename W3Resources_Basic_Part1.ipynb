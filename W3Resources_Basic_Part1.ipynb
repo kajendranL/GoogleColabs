{
  "nbformat": 4,
  "nbformat_minor": 0,
  "metadata": {
    "colab": {
      "name": "W3Resources_Basic_Part1.ipynb",
      "provenance": [],
      "collapsed_sections": [],
      "include_colab_link": true
    },
    "kernelspec": {
      "name": "python3",
      "display_name": "Python 3"
    },
    "accelerator": "GPU"
  },
  "cells": [
    {
      "cell_type": "markdown",
      "metadata": {
        "id": "view-in-github",
        "colab_type": "text"
      },
      "source": [
        "<a href=\"https://colab.research.google.com/github/kajendranL/GoogleColabs/blob/master/W3Resources_Basic_Part1.ipynb\" target=\"_parent\"><img src=\"https://colab.research.google.com/assets/colab-badge.svg\" alt=\"Open In Colab\"/></a>"
      ]
    },
    {
      "cell_type": "markdown",
      "metadata": {
        "id": "_mod5QYUR3B_",
        "colab_type": "text"
      },
      "source": [
        "# Python basic (Part -I) [150 exercises with solution]\n"
      ]
    },
    {
      "cell_type": "markdown",
      "metadata": {
        "id": "Fhpi6OAmSj1o",
        "colab_type": "text"
      },
      "source": [
        "#1. Write a Python program to print the following string in a specific format (see the output). Go to the editor\n",
        "Sample String : \"Twinkle, twinkle, little star, How I wonder what you are! Up above the world so high, Like a diamond in the sky. Twinkle, twinkle, little star, How I wonder what you are\" Output :\n",
        "\n",
        "Twinkle, twinkle, little star,\n",
        "\tHow I wonder what you are! \n",
        "\t\tUp above the world so high,   \t\t\n",
        "\t\tLike a diamond in the sky. \n",
        "Twinkle, twinkle, little star, \n",
        "\tHow I wonder what you are"
      ]
    },
    {
      "cell_type": "code",
      "metadata": {
        "id": "CeLueBpwRTvv",
        "colab_type": "code",
        "outputId": "d570f151-d690-44e0-8bc4-46f9e9c65b1f",
        "colab": {
          "base_uri": "https://localhost:8080/",
          "height": 118
        }
      },
      "source": [
        "print(\"Twinke, twinkle, little star, \\n\\tHow I wonder What you are! \\n\\t\\tUp above the world so high, \\n\\t\\tLike a diamond in the sky. \\nTwinkle,twinkle,little star,\\n\\tHow i wonder whar you are\")"
      ],
      "execution_count": 0,
      "outputs": [
        {
          "output_type": "stream",
          "text": [
            "Twinke, twinkle, little star, \n",
            "\tHow I wonder What you are! \n",
            "\t\tUp above the world so high, \n",
            "\t\tLike a diamond in the sky. \n",
            "Twinkle,twinkle,little star,\n",
            "\tHow i wonder whar you are\n"
          ],
          "name": "stdout"
        }
      ]
    },
    {
      "cell_type": "markdown",
      "metadata": {
        "id": "Bl1rAsJdTWV0",
        "colab_type": "text"
      },
      "source": [
        "#2.Write a Python program to get the Python version you are using"
      ]
    },
    {
      "cell_type": "code",
      "metadata": {
        "id": "VkGL2GBsTWGN",
        "colab_type": "code",
        "outputId": "b217cd19-44fc-428c-c100-9c74fed0aebf",
        "colab": {
          "base_uri": "https://localhost:8080/",
          "height": 67
        }
      },
      "source": [
        "import sys\n",
        "print(\"Python version\", sys.version)\n",
        "print(\"Python version info\", sys.version_info)"
      ],
      "execution_count": 0,
      "outputs": [
        {
          "output_type": "stream",
          "text": [
            "Python version 3.6.8 (default, Jan 14 2019, 11:02:34) \n",
            "[GCC 8.0.1 20180414 (experimental) [trunk revision 259383]]\n",
            "Python version info sys.version_info(major=3, minor=6, micro=8, releaselevel='final', serial=0)\n"
          ],
          "name": "stdout"
        }
      ]
    },
    {
      "cell_type": "markdown",
      "metadata": {
        "id": "b7vaBqw7T-Xs",
        "colab_type": "text"
      },
      "source": [
        "# 3. Write a Python program to display the current date and time.\n",
        "Sample Output :\n",
        "Current date and time :\n",
        "2014-07-05 14:34:14"
      ]
    },
    {
      "cell_type": "code",
      "metadata": {
        "id": "nHk7mkxqTImc",
        "colab_type": "code",
        "outputId": "2e5b26be-ded0-4afc-ac4e-a025eeccda6b",
        "colab": {
          "base_uri": "https://localhost:8080/",
          "height": 50
        }
      },
      "source": [
        "import datetime\n",
        "time = datetime.datetime.now()\n",
        "print(\"Current date and time:\" ,time)\n",
        "print(time.strftime(\"%y-%m-%d %H:%M:%S\"))"
      ],
      "execution_count": 0,
      "outputs": [
        {
          "output_type": "stream",
          "text": [
            "Current date and time: 2019-10-13 13:34:54.242968\n",
            "19-10-13 13:34:54\n"
          ],
          "name": "stdout"
        }
      ]
    },
    {
      "cell_type": "markdown",
      "metadata": {
        "id": "07dpUE6pVNH-",
        "colab_type": "text"
      },
      "source": [
        "# 4. Write a Python program which accepts the radius of a circle from the user and compute the area. \n",
        "Sample Output :\n",
        "r = 1.1\n",
        "Area = 3.8013271108436504\n",
        "\n",
        "πr2. "
      ]
    },
    {
      "cell_type": "code",
      "metadata": {
        "id": "SeeyHerVUJvI",
        "colab_type": "code",
        "outputId": "2e02d2a3-7e9e-4aa1-b620-ff769074e695",
        "colab": {
          "base_uri": "https://localhost:8080/",
          "height": 50
        }
      },
      "source": [
        "from math import pi\n",
        "r = float(input(\"Enter the radius of the circle\"))\n",
        "Circle = (pi*r**2)\n",
        "\n",
        "print(\"The area of the circle with the radius,\",r , \"is:\", Circle)"
      ],
      "execution_count": 0,
      "outputs": [
        {
          "output_type": "stream",
          "text": [
            "Enter the radius of the circle3.5\n",
            "The area of the circle with the radius, 3.5 is: 38.48451000647496\n"
          ],
          "name": "stdout"
        }
      ]
    },
    {
      "cell_type": "markdown",
      "metadata": {
        "id": "fz6H9colWupQ",
        "colab_type": "text"
      },
      "source": [
        "# 5. Write a Python program which accepts the user's first and last name and print them in reverse order with a space between them"
      ]
    },
    {
      "cell_type": "code",
      "metadata": {
        "id": "JMLQKvcZWYcJ",
        "colab_type": "code",
        "outputId": "efc14ed3-46fa-4ee5-d9ef-46aea4d8a926",
        "colab": {
          "base_uri": "https://localhost:8080/",
          "height": 67
        }
      },
      "source": [
        "first = input(\"What is your first name?: \")\n",
        "last = input(\"What is your last name?: \")\n",
        "print(last +\" \"+  first)"
      ],
      "execution_count": 0,
      "outputs": [
        {
          "output_type": "stream",
          "text": [
            "What is your first name?: Joseph\n",
            "What is your last name?: Epifano\n",
            "Epifano Joseph\n"
          ],
          "name": "stdout"
        }
      ]
    },
    {
      "cell_type": "markdown",
      "metadata": {
        "id": "ouyYwczeXymC",
        "colab_type": "text"
      },
      "source": [
        "# 6.Write a Python program which accepts a sequence of comma-separated numbers from user and generate a list and a tuple with those numbers. "
      ]
    },
    {
      "cell_type": "code",
      "metadata": {
        "id": "Yv1BM7JEXMBn",
        "colab_type": "code",
        "outputId": "c80010e7-1e03-4644-b8dd-4c330941c2ec",
        "colab": {
          "base_uri": "https://localhost:8080/",
          "height": 67
        }
      },
      "source": [
        "csn = input('Enter comma separated numbers: ')\n",
        "list = csn.split(',')\n",
        "\n",
        "print(list)\n",
        "print(tuple(list))"
      ],
      "execution_count": 0,
      "outputs": [
        {
          "output_type": "stream",
          "text": [
            "Enter comma separated numbers: 15 48 96 35 \n",
            "['15 48 96 35 ']\n",
            "('15 48 96 35 ',)\n"
          ],
          "name": "stdout"
        }
      ]
    },
    {
      "cell_type": "markdown",
      "metadata": {
        "id": "EZaRNN3IZdvh",
        "colab_type": "text"
      },
      "source": [
        "# 7. Write a Python program to accept a filename from the user and print the extension of that.\n",
        "Sample filename : abc.java\n",
        "Output : java"
      ]
    },
    {
      "cell_type": "code",
      "metadata": {
        "id": "g5Ke3VBqYK1D",
        "colab_type": "code",
        "outputId": "6ea61eae-2143-48a7-f41f-3de8504965b1",
        "colab": {
          "base_uri": "https://localhost:8080/",
          "height": 50
        }
      },
      "source": [
        "fname1 = input(\"What is the name of the file? \")\n",
        "\n",
        "extname = fname1.split('.')\n",
        "\n",
        "print(\"The extension name is: \",extname[-1])\n"
      ],
      "execution_count": 0,
      "outputs": [
        {
          "output_type": "stream",
          "text": [
            "What is the name of the file? abc.csv\n",
            "csv\n"
          ],
          "name": "stdout"
        }
      ]
    },
    {
      "cell_type": "markdown",
      "metadata": {
        "id": "wDF82TlkbCuA",
        "colab_type": "text"
      },
      "source": [
        ""
      ]
    },
    {
      "cell_type": "markdown",
      "metadata": {
        "id": "ItIjLeZ_bA2S",
        "colab_type": "text"
      },
      "source": [
        "# 8. Write a Python program to display the first and last colors from the following list.\n",
        "color_list = [\"Red\",\"Green\",\"White\" ,\"Black\"]"
      ]
    },
    {
      "cell_type": "code",
      "metadata": {
        "id": "Ce8GW4Gtad11",
        "colab_type": "code",
        "outputId": "330988d8-6db6-43cc-8cd0-082a4cdfefdd",
        "colab": {
          "base_uri": "https://localhost:8080/",
          "height": 34
        }
      },
      "source": [
        "color_list = [\"Red\",\"Green\",\"White\" ,\"Black\"]\n",
        "\n",
        "print(color_list[0],color_list[-1])"
      ],
      "execution_count": 0,
      "outputs": [
        {
          "output_type": "stream",
          "text": [
            "Red Black\n"
          ],
          "name": "stdout"
        }
      ]
    },
    {
      "cell_type": "markdown",
      "metadata": {
        "id": "S90bHxX8bc2G",
        "colab_type": "text"
      },
      "source": [
        "# 9. Write a Python program to display the examination schedule. (extract the date from exam_st_date).\n",
        "\n",
        "exam_st_date = (11, 12, 2014)\n",
        "Sample Output : The examination will start from : 11 / 12 / 2014"
      ]
    },
    {
      "cell_type": "code",
      "metadata": {
        "id": "qEHNz36ubUMC",
        "colab_type": "code",
        "outputId": "8152a55b-ef93-4d7a-f919-5ddad548a6ed",
        "colab": {
          "base_uri": "https://localhost:8080/",
          "height": 34
        }
      },
      "source": [
        "exam_st_date = (11, 12, 2014)\n",
        "\n",
        "print(\"The exam will start from %i / %i / %i \"%exam_st_date)\n"
      ],
      "execution_count": 0,
      "outputs": [
        {
          "output_type": "stream",
          "text": [
            "The exam will start from 11 / 12 / 2014 \n"
          ],
          "name": "stdout"
        }
      ]
    },
    {
      "cell_type": "markdown",
      "metadata": {
        "id": "BZReiRrJercl",
        "colab_type": "text"
      },
      "source": [
        "# 10. Write a Python program that accepts an integer (n) and computes the value of n+nn+nnn. \n",
        "Sample value of n is 5\n",
        "Expected Result : 615"
      ]
    },
    {
      "cell_type": "code",
      "metadata": {
        "id": "Fwu5xvXcb7dP",
        "colab_type": "code",
        "outputId": "bbe05a5b-7cf8-4cac-b409-0a67355f232d",
        "colab": {
          "base_uri": "https://localhost:8080/",
          "height": 50
        }
      },
      "source": [
        "n = int(input(\"Enter a number:\"))\n",
        "\n",
        "n1 = int(\"%s\" %(n))\n",
        "n2 = int(\"%s%s\"%(n,n))\n",
        "n3 = int('%s%s%s'%(n,n,n))\n",
        "\n",
        "print(n1+n2+n3)"
      ],
      "execution_count": 0,
      "outputs": [
        {
          "output_type": "stream",
          "text": [
            "Enter a number:5\n",
            "615\n"
          ],
          "name": "stdout"
        }
      ]
    },
    {
      "cell_type": "markdown",
      "metadata": {
        "id": "ThleVd1kpVW1",
        "colab_type": "text"
      },
      "source": [
        "# 11. Write a Python program to print the documents (syntax, description etc.) of Python built-in function(s)."
      ]
    },
    {
      "cell_type": "code",
      "metadata": {
        "id": "CjrRCCjufAms",
        "colab_type": "code",
        "outputId": "128aa2e9-1c5d-4c0b-c599-573f5e7eb5c8",
        "colab": {
          "base_uri": "https://localhost:8080/",
          "height": 34
        }
      },
      "source": [
        "print(abs.__doc__)"
      ],
      "execution_count": 0,
      "outputs": [
        {
          "output_type": "stream",
          "text": [
            "Return the absolute value of the argument.\n"
          ],
          "name": "stdout"
        }
      ]
    },
    {
      "cell_type": "markdown",
      "metadata": {
        "id": "8q7pu-zcqf5f",
        "colab_type": "text"
      },
      "source": [
        "# 12. Write a Python program to print the calendar of a given month and year.\n",
        "Note : Use 'calendar' module.\n"
      ]
    },
    {
      "cell_type": "code",
      "metadata": {
        "id": "uJEH-Lgjpdyb",
        "colab_type": "code",
        "outputId": "cf752dee-63d3-4614-d618-6e315a1dd8f1",
        "colab": {
          "base_uri": "https://localhost:8080/",
          "height": 185
        }
      },
      "source": [
        "import calendar\n",
        "y = int(input(\"The number of year \"))\n",
        "m = int(input(\"The number of the month \"))\n",
        "\n",
        "print(calendar.month(y,m))"
      ],
      "execution_count": 0,
      "outputs": [
        {
          "output_type": "stream",
          "text": [
            "The number of year 2020\n",
            "The number of the month 4\n",
            "     April 2020\n",
            "Mo Tu We Th Fr Sa Su\n",
            "       1  2  3  4  5\n",
            " 6  7  8  9 10 11 12\n",
            "13 14 15 16 17 18 19\n",
            "20 21 22 23 24 25 26\n",
            "27 28 29 30\n",
            "\n"
          ],
          "name": "stdout"
        }
      ]
    },
    {
      "cell_type": "markdown",
      "metadata": {
        "id": "qIU4HdW9sDsQ",
        "colab_type": "text"
      },
      "source": [
        "# 13. Write a Python program to print the following here document.\n"
      ]
    },
    {
      "cell_type": "code",
      "metadata": {
        "id": "Vmpf_D7gqogD",
        "colab_type": "code",
        "outputId": "64f511c4-aa48-4fe7-e19f-22d3cee9f111",
        "colab": {
          "base_uri": "https://localhost:8080/",
          "height": 84
        }
      },
      "source": [
        "print('''a string that you \"don't\" have to escape\n",
        "This\n",
        "is a ....... multi-line\n",
        "heredoc string --------> example''')"
      ],
      "execution_count": 0,
      "outputs": [
        {
          "output_type": "stream",
          "text": [
            "a string that you \"don't\" have to escape\n",
            "This\n",
            "is a ....... multi-line\n",
            "heredoc string --------> example\n"
          ],
          "name": "stdout"
        }
      ]
    },
    {
      "cell_type": "markdown",
      "metadata": {
        "id": "xGwg8OlHsT8Z",
        "colab_type": "text"
      },
      "source": [
        "# 14. Write a Python program to calculate number of days between two dates"
      ]
    },
    {
      "cell_type": "code",
      "metadata": {
        "id": "4ODd_SflsLCK",
        "colab_type": "code",
        "outputId": "f65258f8-680b-4ba6-a480-f3a2b12d84da",
        "colab": {
          "base_uri": "https://localhost:8080/",
          "height": 34
        }
      },
      "source": [
        "from datetime import date\n",
        "\n",
        "fdate = date(2019, 7, 14)\n",
        "ldate = date(2019, 10, 13)\n",
        "\n",
        "print(\"The difference between number of days:\", (ldate - fdate).days)"
      ],
      "execution_count": 0,
      "outputs": [
        {
          "output_type": "stream",
          "text": [
            "The difference between number of days: 91\n"
          ],
          "name": "stdout"
        }
      ]
    },
    {
      "cell_type": "markdown",
      "metadata": {
        "id": "E1_zm2KPt8Rv",
        "colab_type": "text"
      },
      "source": [
        "# Write a Python program to get the volume of a sphere with radius 6."
      ]
    },
    {
      "cell_type": "code",
      "metadata": {
        "id": "_dw1gJXCsozN",
        "colab_type": "code",
        "outputId": "26d19bae-df0e-4617-beef-ab812552c0e0",
        "colab": {
          "base_uri": "https://localhost:8080/",
          "height": 34
        }
      },
      "source": [
        "from math import pi\n",
        "\n",
        "\n",
        "rad = 6\n",
        "\n",
        "formu = 4/3*pi*rad*rad*rad \n",
        "\n",
        "print(\"The volume of the sphere is: \", formu)\n"
      ],
      "execution_count": 0,
      "outputs": [
        {
          "output_type": "stream",
          "text": [
            "The volume of the sphere is:  904.7786842338604\n"
          ],
          "name": "stdout"
        }
      ]
    },
    {
      "cell_type": "markdown",
      "metadata": {
        "id": "nwPIcVnZwL5w",
        "colab_type": "text"
      },
      "source": [
        "# 16. Write a Python program to get the difference between a given number and 17, if the number is greater than 17 return double the absolute difference."
      ]
    },
    {
      "cell_type": "code",
      "metadata": {
        "id": "0tT9imROvEjp",
        "colab_type": "code",
        "outputId": "55672e7d-6f07-4d4e-8949-609cfcd6306f",
        "colab": {
          "base_uri": "https://localhost:8080/",
          "height": 50
        }
      },
      "source": [
        "def gname(n):\n",
        "  if n <= 17:\n",
        "    return n-17\n",
        "  else:\n",
        "    return (n-17)*2\n",
        "\n",
        "n= int(input(\"Enter a number: \"))\n",
        "\n",
        "gname(n)\n"
      ],
      "execution_count": 0,
      "outputs": [
        {
          "output_type": "stream",
          "text": [
            "Enter a number: 14\n"
          ],
          "name": "stdout"
        },
        {
          "output_type": "execute_result",
          "data": {
            "text/plain": [
              "-3"
            ]
          },
          "metadata": {
            "tags": []
          },
          "execution_count": 34
        }
      ]
    },
    {
      "cell_type": "markdown",
      "metadata": {
        "id": "17l9tO6VzA7k",
        "colab_type": "text"
      },
      "source": [
        "# 17. Write a Python program to test whether a number is within 100 of 1000 or 2000."
      ]
    },
    {
      "cell_type": "code",
      "metadata": {
        "id": "ZmMs4o5YxAwh",
        "colab_type": "code",
        "outputId": "42ee9284-24d2-4194-a48c-f7f6aeee7c51",
        "colab": {
          "base_uri": "https://localhost:8080/",
          "height": 67
        }
      },
      "source": [
        "def near_thousand(n):\n",
        "\n",
        "  return ((abs(1000-n)<=100)or(abs(2000-n)<=100))\n",
        "\n",
        "\n",
        "print(near_thousand(2000))\n",
        "print(near_thousand(600))\n",
        "print(near_thousand(1000))"
      ],
      "execution_count": 0,
      "outputs": [
        {
          "output_type": "stream",
          "text": [
            "True\n",
            "False\n",
            "True\n"
          ],
          "name": "stdout"
        }
      ]
    },
    {
      "cell_type": "code",
      "metadata": {
        "id": "JzIwHFetzy6M",
        "colab_type": "code",
        "colab": {}
      },
      "source": [
        ""
      ],
      "execution_count": 0,
      "outputs": []
    },
    {
      "cell_type": "markdown",
      "metadata": {
        "id": "S5Y6Y6Z70Vlp",
        "colab_type": "text"
      },
      "source": [
        "# 18. Write a Python program to calculate the sum of three given numbers, if the values are equal then return three times of their sum."
      ]
    },
    {
      "cell_type": "code",
      "metadata": {
        "id": "zzT1IfGQ0W43",
        "colab_type": "code",
        "outputId": "d2f0b543-19e5-42b6-946c-f1c14e8e68ed",
        "colab": {
          "base_uri": "https://localhost:8080/",
          "height": 50
        }
      },
      "source": [
        "def three_num(a,b,c):\n",
        "  sum  = a+b+c\n",
        "\n",
        "  if a==b==c:\n",
        "    sum = sum*3  \n",
        "  return sum\n",
        "\n",
        "\n",
        "print(three_num(1,2,3))\n",
        "print(three_num(5,5,5))\n",
        "\n"
      ],
      "execution_count": 0,
      "outputs": [
        {
          "output_type": "stream",
          "text": [
            "6\n",
            "45\n"
          ],
          "name": "stdout"
        }
      ]
    },
    {
      "cell_type": "markdown",
      "metadata": {
        "id": "0Pwja45o3bEc",
        "colab_type": "text"
      },
      "source": [
        "# 19. Write a Python program to get a new string from a given string where \"Is\" has been added to the front. If the given string already begins with \"Is\" then return the string unchanged."
      ]
    },
    {
      "cell_type": "code",
      "metadata": {
        "id": "iasQXu8b1C6X",
        "colab_type": "code",
        "outputId": "f79fa81e-ac8d-4062-b0ba-9d25bc302f09",
        "colab": {
          "base_uri": "https://localhost:8080/",
          "height": 84
        }
      },
      "source": [
        "def isstring(str):\n",
        "  if str.startswith('Is'):\n",
        "    return str\n",
        "  else:\n",
        "    return 'Is' + ' '+ str \n",
        "\n",
        "print(isstring(\"Is empty\"))\n",
        "print(isstring(\"Python is\"))\n",
        "print(isstring(\"Is Yazhini\"))\n",
        "print(isstring(\"Epifano\"))\n",
        "\n"
      ],
      "execution_count": 0,
      "outputs": [
        {
          "output_type": "stream",
          "text": [
            "Is empty\n",
            "Is Python is\n",
            "Is Yazhini\n",
            "Is Epifano\n"
          ],
          "name": "stdout"
        }
      ]
    },
    {
      "cell_type": "markdown",
      "metadata": {
        "id": "JOMGgIHQ5G26",
        "colab_type": "text"
      },
      "source": [
        "# 20. Write a Python program to get a string which is n (non-negative integer) copies of a given string. "
      ]
    },
    {
      "cell_type": "code",
      "metadata": {
        "id": "4a7GP_KW4oWU",
        "colab_type": "code",
        "outputId": "bcd824ea-e92a-4e90-8f2d-28977a49c30f",
        "colab": {
          "base_uri": "https://localhost:8080/",
          "height": 34
        }
      },
      "source": [
        "def str_copy(str,n):\n",
        "  return str*n\n",
        "\n",
        "print(str_copy(\"test\",3))"
      ],
      "execution_count": 0,
      "outputs": [
        {
          "output_type": "stream",
          "text": [
            "testtesttest\n"
          ],
          "name": "stdout"
        }
      ]
    },
    {
      "cell_type": "code",
      "metadata": {
        "id": "JwKxY9vT5sNg",
        "colab_type": "code",
        "colab": {}
      },
      "source": [
        ""
      ],
      "execution_count": 0,
      "outputs": []
    },
    {
      "cell_type": "markdown",
      "metadata": {
        "id": "BCYseql66MvV",
        "colab_type": "text"
      },
      "source": [
        "# 21. Write a Python program to find whether a given number (accept from the user) is even or odd, print out an appropriate message to the user."
      ]
    },
    {
      "cell_type": "code",
      "metadata": {
        "id": "T8NOjcWh6Nxd",
        "colab_type": "code",
        "outputId": "04e74a94-4120-4118-d834-427db29bb4e4",
        "colab": {
          "base_uri": "https://localhost:8080/",
          "height": 67
        }
      },
      "source": [
        "def accept_num(n):\n",
        "  Even = []\n",
        "  Odd = []\n",
        "  for i in range(n):\n",
        "\n",
        "    if i % 2 ==0:\n",
        "      Even.append(i)\n",
        "    else:\n",
        "      Odd.append(i)\n",
        "\n",
        "      \n",
        "  print(\"Even numbers are \", Even)\n",
        "  print(\"The Odd numbers are :\",Odd)\n",
        "\n",
        "\n",
        "y = int(input(\"Enter a number of your choice: \"))\n",
        "accept_num(y)"
      ],
      "execution_count": 0,
      "outputs": [
        {
          "output_type": "stream",
          "text": [
            "Enter a number of your choice: 10\n",
            "Even numbers are  [0, 2, 4, 6, 8]\n",
            "The Odd numbers are : [1, 3, 5, 7, 9]\n"
          ],
          "name": "stdout"
        }
      ]
    },
    {
      "cell_type": "markdown",
      "metadata": {
        "id": "PJFAHy8Q9aOQ",
        "colab_type": "text"
      },
      "source": [
        "# 22. Write a Python program to count the number 4 in a given list."
      ]
    },
    {
      "cell_type": "code",
      "metadata": {
        "id": "28VWv-ut63cM",
        "colab_type": "code",
        "outputId": "1fbab631-bc0c-4853-bf3b-5ff85e07ed34",
        "colab": {
          "base_uri": "https://localhost:8080/",
          "height": 50
        }
      },
      "source": [
        "def find_four(lst):\n",
        "  four = 0\n",
        "  for i in lst:\n",
        "    if i == 4:\n",
        "      four +=1\n",
        "     \n",
        "  return four \n",
        "\n",
        "\n",
        "print(\"The number of times Four appear\")\n",
        "lst= [ 1, 4, 5, 4 , 6, 4 ]\n",
        "print(find_four(lst))\n"
      ],
      "execution_count": 0,
      "outputs": [
        {
          "output_type": "stream",
          "text": [
            "The number of times Four appear\n",
            "3\n"
          ],
          "name": "stdout"
        }
      ]
    },
    {
      "cell_type": "markdown",
      "metadata": {
        "id": "e88-rh5LA_c-",
        "colab_type": "text"
      },
      "source": [
        "# 23. Write a Python program to get the n (non-negative integer) copies of the first 2 characters of a given string. Return the n copies of the whole string if the length is less than 2."
      ]
    },
    {
      "cell_type": "code",
      "metadata": {
        "id": "QM8cucE8_UB5",
        "colab_type": "code",
        "outputId": "49a7e63e-effc-45e9-c092-17d9b81cda6b",
        "colab": {
          "base_uri": "https://localhost:8080/",
          "height": 67
        }
      },
      "source": [
        "def copy_str(str,n):\n",
        "  if len(str) < 2:\n",
        "    return str*n\n",
        "  else:\n",
        "    return str[:2]*n\n",
        "  \n",
        " \n",
        "\n",
        "\n",
        "print(copy_str(\"abc\",2))\n",
        "print(copy_str('Python',3))\n",
        "print(copy_str('k',3))\n"
      ],
      "execution_count": 0,
      "outputs": [
        {
          "output_type": "stream",
          "text": [
            "abab\n",
            "PyPyPy\n",
            "kkk\n"
          ],
          "name": "stdout"
        }
      ]
    },
    {
      "cell_type": "code",
      "metadata": {
        "id": "HPfe2BiyB00C",
        "colab_type": "code",
        "colab": {}
      },
      "source": [
        ""
      ],
      "execution_count": 0,
      "outputs": []
    },
    {
      "cell_type": "markdown",
      "metadata": {
        "id": "yzuO0-EIEEU8",
        "colab_type": "text"
      },
      "source": [
        "# 24. Write a Python program to test whether a passed letter is a vowel or not. "
      ]
    },
    {
      "cell_type": "code",
      "metadata": {
        "id": "rayTqtUGEFfe",
        "colab_type": "code",
        "outputId": "c2bf0772-08ec-46b8-e906-79b6442f5ecf",
        "colab": {
          "base_uri": "https://localhost:8080/",
          "height": 50
        }
      },
      "source": [
        "def find_out(V):\n",
        "  vowels = 'A','a','E','e','I','i','O','o','U','u'\n",
        "  \n",
        "  if V in vowels:\n",
        "    return (V, \"is a Vowel\")\n",
        "  else:\n",
        "    return (V, \"is not a vowel\")\n",
        "\n",
        "V= input(\"Enter a letter:  \")\n",
        "print(find_out(V))\n",
        "\n"
      ],
      "execution_count": 0,
      "outputs": [
        {
          "output_type": "stream",
          "text": [
            "Enter a letter:  M\n",
            "('M', 'is not a vowel')\n"
          ],
          "name": "stdout"
        }
      ]
    },
    {
      "cell_type": "markdown",
      "metadata": {
        "id": "ClrtsH45GtlX",
        "colab_type": "text"
      },
      "source": [
        "# 25. Write a Python program to check whether a specified value is contained in a group of values."
      ]
    },
    {
      "cell_type": "code",
      "metadata": {
        "id": "VmNrvzsHFo1U",
        "colab_type": "code",
        "outputId": "d8f4b111-297a-4eef-a7a4-26f98fe2ac09",
        "colab": {
          "base_uri": "https://localhost:8080/",
          "height": 50
        }
      },
      "source": [
        "def specific_Values(Vals, n):\n",
        "  if n in Vals:\n",
        "    return(n, \"is found in the group of values\")\n",
        "  else:\n",
        "    return(n,\"is not found in the group of values\")\n",
        "\n",
        "print(specific_Values([1,2,3,4,5,6],3))\n",
        "print(specific_Values([15,13,12,14,18,19,20,21],6))"
      ],
      "execution_count": 0,
      "outputs": [
        {
          "output_type": "stream",
          "text": [
            "(3, 'is found in the group of values')\n",
            "(6, 'is not found in the group of values')\n"
          ],
          "name": "stdout"
        }
      ]
    },
    {
      "cell_type": "code",
      "metadata": {
        "id": "hShmfmM7HojO",
        "colab_type": "code",
        "colab": {}
      },
      "source": [
        ""
      ],
      "execution_count": 0,
      "outputs": []
    },
    {
      "cell_type": "markdown",
      "metadata": {
        "id": "uGXFRIg6ICYG",
        "colab_type": "text"
      },
      "source": [
        "# 26. Write a Python program to create a histogram from a given list of integers."
      ]
    },
    {
      "cell_type": "code",
      "metadata": {
        "id": "lYIVB390IDZi",
        "colab_type": "code",
        "outputId": "fcde8ac6-5cca-4908-f13f-9b1a3ca300c1",
        "colab": {
          "base_uri": "https://localhost:8080/",
          "height": 235
        }
      },
      "source": [
        "def histogram(items):\n",
        "  for i in items:\n",
        "    output = ''\n",
        "    times = i\n",
        "\n",
        "    while(times >0):\n",
        "      output +='*'\n",
        "      times = times-1\n",
        "    print(output)\n",
        "\n",
        "print(histogram([2, 3, 6, 5]))\n",
        "print()\n",
        "print(histogram([2,3,4,5,6,7]))"
      ],
      "execution_count": 0,
      "outputs": [
        {
          "output_type": "stream",
          "text": [
            "**\n",
            "***\n",
            "******\n",
            "*****\n",
            "None\n",
            "\n",
            "**\n",
            "***\n",
            "****\n",
            "*****\n",
            "******\n",
            "*******\n",
            "None\n"
          ],
          "name": "stdout"
        }
      ]
    },
    {
      "cell_type": "markdown",
      "metadata": {
        "id": "bZkMS4B7J45J",
        "colab_type": "text"
      },
      "source": [
        "# 27. Write a Python program to concatenate all elements in a list into a string and return it."
      ]
    },
    {
      "cell_type": "code",
      "metadata": {
        "id": "dWbVnn0dJKqo",
        "colab_type": "code",
        "outputId": "70667dd7-705e-4998-945e-c648ce86b1cf",
        "colab": {
          "base_uri": "https://localhost:8080/",
          "height": 34
        }
      },
      "source": [
        "def lst_str(C):\n",
        "  joint = ''\n",
        "  for i in C:\n",
        "    joint +=str(i)\n",
        "  return (joint)\n",
        "\n",
        "lst_str([45,1,23,6])\n",
        "\n"
      ],
      "execution_count": 0,
      "outputs": [
        {
          "output_type": "execute_result",
          "data": {
            "text/plain": [
              "'451236'"
            ]
          },
          "metadata": {
            "tags": []
          },
          "execution_count": 126
        }
      ]
    },
    {
      "cell_type": "markdown",
      "metadata": {
        "id": "1JSd-wYYLCWn",
        "colab_type": "text"
      },
      "source": [
        "# 28. Write a Python program to print all even numbers from a given numbers list in the same order and stop the printing if any numbers that come after 237 in the sequence. Go to the editor\n",
        "Sample numbers list :\n",
        "\n",
        "numbers = [    \n",
        "    386, 462, 47, 418, 907, 344, 236, 375, 823, 566, 597, 978, 328, 615, 953, 345, \n",
        "    399, 162, 758, 219, 918, 237, 412, 566, 826, 248, 866, 950, 626, 949, 687, 217, \n",
        "    815, 67, 104, 58, 512, 24, 892, 894, 767, 553, 81, 379, 843, 831, 445, 742, 717, \n",
        "    958,743, 527\n",
        "    ]"
      ]
    },
    {
      "cell_type": "code",
      "metadata": {
        "id": "BEUZA1QpKtbT",
        "colab_type": "code",
        "outputId": "bfdf9565-1e55-4cbe-89a0-32b856e11227",
        "colab": {
          "base_uri": "https://localhost:8080/",
          "height": 34
        }
      },
      "source": [
        "numbers = [386, 462, 47, 418, 907, 344, 236, 375, 823, 566, 597, 978, 328, 615, 953, 345, 399, 162, 758, 219, 918, 237, 412, 566, 826, 248, 866, 950, 626, 949, 687, 217, 815, 67, 104, 58, 512, 24, 892, 894, 767, 553, 81, 379, 843, 831, 445, 742, 717, 958,743, 527 ]\n",
        "Even = []\n",
        "\n",
        "for i in (numbers):\n",
        "  if i == 237:\n",
        "      break\n",
        "\n",
        "  elif i % 2 ==0:\n",
        "    Even.append(i)\n",
        "    \n",
        "print(Even)\n",
        "\n"
      ],
      "execution_count": 0,
      "outputs": [
        {
          "output_type": "stream",
          "text": [
            "[386, 462, 418, 344, 236, 566, 978, 328, 162, 758, 918]\n"
          ],
          "name": "stdout"
        }
      ]
    },
    {
      "cell_type": "markdown",
      "metadata": {
        "id": "_DAW5UGvMRGh",
        "colab_type": "text"
      },
      "source": [
        "# 29. Write a Python program to print out a set containing all the colors from color_list_1 which are not present in color_list_2. Go to the editor\n",
        "Test Data :\n",
        "color_list_1 = set([\"White\", \"Black\", \"Red\"])\n",
        "color_list_2 = set([\"Red\", \"Green\"])\n",
        "Expected Output :\n",
        "{'Black', 'White'}"
      ]
    },
    {
      "cell_type": "code",
      "metadata": {
        "id": "TcJtEuwvLi1A",
        "colab_type": "code",
        "outputId": "f123f55f-b6d0-4f65-b70d-0071eec553a7",
        "colab": {
          "base_uri": "https://localhost:8080/",
          "height": 34
        }
      },
      "source": [
        "def color_lst(lst1,lst2):\n",
        "  return lst1.difference(lst2)\n",
        "\n",
        "color_list_1 = set([\"White\", \"Black\", \"Red\"]) \n",
        "color_list_2 = set([\"Red\", \"Green\"])\n",
        "\n",
        "print(color_lst(color_list_1, color_list_2))"
      ],
      "execution_count": 0,
      "outputs": [
        {
          "output_type": "stream",
          "text": [
            "{'Black', 'White'}\n"
          ],
          "name": "stdout"
        }
      ]
    },
    {
      "cell_type": "markdown",
      "metadata": {
        "id": "__aZHGJ4OGuM",
        "colab_type": "text"
      },
      "source": [
        "# 30. Write a Python program that will accept the base and height of a triangle and compute the area."
      ]
    },
    {
      "cell_type": "code",
      "metadata": {
        "id": "nFMpH7-ZNqia",
        "colab_type": "code",
        "outputId": "f38039af-1e0f-490e-9f7f-78bdd334486e",
        "colab": {
          "base_uri": "https://localhost:8080/",
          "height": 67
        }
      },
      "source": [
        "def triangle(base, height):\n",
        "  Area =  base*height/2\n",
        "  return Area\n",
        "\n",
        "B = eval(input(\"What is the base?\"))\n",
        "H = eval(input(\"What is the Height?\"))\n",
        "\n",
        "triangle(B,H)"
      ],
      "execution_count": 0,
      "outputs": [
        {
          "output_type": "stream",
          "text": [
            "What is the base?20\n",
            "What is the Height?40\n"
          ],
          "name": "stdout"
        },
        {
          "output_type": "execute_result",
          "data": {
            "text/plain": [
              "400.0"
            ]
          },
          "metadata": {
            "tags": []
          },
          "execution_count": 133
        }
      ]
    },
    {
      "cell_type": "markdown",
      "metadata": {
        "id": "lRQ1KeAOPQsP",
        "colab_type": "text"
      },
      "source": [
        "# 31. Write a Python program to compute the greatest common divisor (GCD) of two positive integers."
      ]
    },
    {
      "cell_type": "code",
      "metadata": {
        "id": "7KXdgrBxO0rU",
        "colab_type": "code",
        "outputId": "88afb6b4-19cd-4860-dd91-7a8f46b22ae8",
        "colab": {
          "base_uri": "https://localhost:8080/",
          "height": 34
        }
      },
      "source": [
        "def hcf_GCD(x,y):\n",
        "\n",
        "  if x > y:\n",
        "    smaller = y\n",
        "  else: \n",
        "    smaller = x\n",
        "\n",
        "  for i in range(1,smaller+1):\n",
        "    if ((x % i == 0) and ( y % i == 0)):\n",
        "      gcd = i\n",
        "  return gcd\n",
        "\n",
        "num1 =54\n",
        "num2 = 24\n",
        "\n",
        "print(\"The GCD of\",num1,\"and\",num2, \"is\",(hcf_GCD(num1,num2)))"
      ],
      "execution_count": 0,
      "outputs": [
        {
          "output_type": "stream",
          "text": [
            "The GCD of 54 and 24 is 6\n"
          ],
          "name": "stdout"
        }
      ]
    },
    {
      "cell_type": "markdown",
      "metadata": {
        "id": "dq_BGo4DThwp",
        "colab_type": "text"
      },
      "source": [
        "# 32. Write a Python program to get the least common multiple (LCM) of two positive integers."
      ]
    },
    {
      "cell_type": "code",
      "metadata": {
        "id": "9FLKyuZpRr9O",
        "colab_type": "code",
        "outputId": "2444d1b5-3e7f-4e07-b865-cb337ced12ec",
        "colab": {
          "base_uri": "https://localhost:8080/",
          "height": 34
        }
      },
      "source": [
        "def LCM(x,y):\n",
        "\n",
        "  if x > y:\n",
        "    greater = x\n",
        "  else:\n",
        "    greater = y\n",
        "\n",
        "  while True:\n",
        "    if ((greater % x == 0) and (greater % y ==0)):\n",
        "      lcm = greater\n",
        "\n",
        "      break\n",
        "    greater +=1\n",
        "  return lcm\n",
        "\n",
        "\n",
        "num1 = 54\n",
        "num2 =24\n",
        "\n",
        "print(\"The LCM of\",num1,\"and\",num2,\"is\",(LCM(num1,num2)))\n"
      ],
      "execution_count": 0,
      "outputs": [
        {
          "output_type": "stream",
          "text": [
            "The LCM of 54 and 24 is 216\n"
          ],
          "name": "stdout"
        }
      ]
    },
    {
      "cell_type": "markdown",
      "metadata": {
        "id": "xhaHhh-uVSoY",
        "colab_type": "text"
      },
      "source": [
        "# 33. Write a Python program to sum of three given integers. However, if two values are equal sum will be zero."
      ]
    },
    {
      "cell_type": "code",
      "metadata": {
        "id": "87kB2oEGUk7Z",
        "colab_type": "code",
        "outputId": "48198dd7-21c2-4885-a8de-7373d976f701",
        "colab": {
          "base_uri": "https://localhost:8080/",
          "height": 84
        }
      },
      "source": [
        "def three_int(m,n,o):\n",
        "  if ((m ==n) or (n == o) or (m==o)):\n",
        "    sum= 0\n",
        "  else:\n",
        "    sum = m+n+o\n",
        "  return sum\n",
        "\n",
        "print(three_int(2, 1, 2))\n",
        "print(three_int(3, 2, 2))\n",
        "print(three_int(2, 2, 2))\n",
        "print(three_int(1, 2, 3))\n"
      ],
      "execution_count": 0,
      "outputs": [
        {
          "output_type": "stream",
          "text": [
            "0\n",
            "0\n",
            "0\n",
            "6\n"
          ],
          "name": "stdout"
        }
      ]
    },
    {
      "cell_type": "markdown",
      "metadata": {
        "id": "JINSgQkdXcyk",
        "colab_type": "text"
      },
      "source": [
        "# 34. Write a Python program to sum of two given integers. However, if the sum is between 15 to 20 it will return 20."
      ]
    },
    {
      "cell_type": "code",
      "metadata": {
        "id": "noFtFq3pWSQQ",
        "colab_type": "code",
        "outputId": "0a9812be-1ba7-4392-d064-d77b56f12ddb",
        "colab": {
          "base_uri": "https://localhost:8080/",
          "height": 67
        }
      },
      "source": [
        "def sum_two(j,k):\n",
        "  sum = j+k\n",
        "  if sum in range(15,20):\n",
        "    sum = 20\n",
        "    return sum\n",
        "\n",
        "  else:\n",
        "    sum = j+k\n",
        "  return sum\n",
        "\n",
        "print(sum_two(5,10))\n",
        "print(sum_two(20,25))\n",
        "print(sum_two(9,10))"
      ],
      "execution_count": 0,
      "outputs": [
        {
          "output_type": "stream",
          "text": [
            "20\n",
            "45\n",
            "20\n"
          ],
          "name": "stdout"
        }
      ]
    },
    {
      "cell_type": "markdown",
      "metadata": {
        "id": "ZHynk1WPYgOS",
        "colab_type": "text"
      },
      "source": [
        "# 35. Write a Python program that will return true if the two given integer values are equal or their sum or difference is 5."
      ]
    },
    {
      "cell_type": "code",
      "metadata": {
        "id": "2h_7rmQ3YQB5",
        "colab_type": "code",
        "outputId": "80f7de1b-0b54-43df-ef30-dced68475461",
        "colab": {
          "base_uri": "https://localhost:8080/",
          "height": 84
        }
      },
      "source": [
        "def sumORdiff(x,y):\n",
        "  if x == y or abs(x-y) ==5 or (x+y) == 5:\n",
        "    return True\n",
        "  else:\n",
        "    return False\n",
        "\n",
        "print(sumORdiff(7,3))\n",
        "print(sumORdiff(3,2))\n",
        "print(sumORdiff(2,2))\n",
        "print(sumORdiff(4,2))\n",
        "\n",
        "\n"
      ],
      "execution_count": 0,
      "outputs": [
        {
          "output_type": "stream",
          "text": [
            "False\n",
            "True\n",
            "True\n",
            "False\n"
          ],
          "name": "stdout"
        }
      ]
    },
    {
      "cell_type": "markdown",
      "metadata": {
        "id": "xhHRnH_BcBVV",
        "colab_type": "text"
      },
      "source": [
        "# 36. Write a Python program to add two objects if both objects are an integer type."
      ]
    },
    {
      "cell_type": "code",
      "metadata": {
        "id": "TJp66GYnbLQm",
        "colab_type": "code",
        "outputId": "25d56d4d-353e-41f4-917c-6954fd308b7b",
        "colab": {
          "base_uri": "https://localhost:8080/",
          "height": 380
        }
      },
      "source": [
        "def two_obj(h,i):\n",
        "  if not (isinstance(h,int) and isinstance(i,int)):\n",
        "    raise TypeError(\"Inputs must be integers\")\n",
        "  return (h+i)\n",
        "\n",
        "print(two_obj(7,3))\n",
        "print(two_obj(8,200))\n",
        "print(two_obj('a','b'))\n",
        "\n",
        "\n"
      ],
      "execution_count": 0,
      "outputs": [
        {
          "output_type": "stream",
          "text": [
            "10\n",
            "208\n"
          ],
          "name": "stdout"
        },
        {
          "output_type": "error",
          "ename": "TypeError",
          "evalue": "ignored",
          "traceback": [
            "\u001b[0;31m---------------------------------------------------------------------------\u001b[0m",
            "\u001b[0;31mTypeError\u001b[0m                                 Traceback (most recent call last)",
            "\u001b[0;32m<ipython-input-7-4290036b18e2>\u001b[0m in \u001b[0;36m<module>\u001b[0;34m()\u001b[0m\n\u001b[1;32m      6\u001b[0m \u001b[0mprint\u001b[0m\u001b[0;34m(\u001b[0m\u001b[0mtwo_obj\u001b[0m\u001b[0;34m(\u001b[0m\u001b[0;36m7\u001b[0m\u001b[0;34m,\u001b[0m\u001b[0;36m3\u001b[0m\u001b[0;34m)\u001b[0m\u001b[0;34m)\u001b[0m\u001b[0;34m\u001b[0m\u001b[0;34m\u001b[0m\u001b[0m\n\u001b[1;32m      7\u001b[0m \u001b[0mprint\u001b[0m\u001b[0;34m(\u001b[0m\u001b[0mtwo_obj\u001b[0m\u001b[0;34m(\u001b[0m\u001b[0;36m8\u001b[0m\u001b[0;34m,\u001b[0m\u001b[0;36m200\u001b[0m\u001b[0;34m)\u001b[0m\u001b[0;34m)\u001b[0m\u001b[0;34m\u001b[0m\u001b[0;34m\u001b[0m\u001b[0m\n\u001b[0;32m----> 8\u001b[0;31m \u001b[0mprint\u001b[0m\u001b[0;34m(\u001b[0m\u001b[0mtwo_obj\u001b[0m\u001b[0;34m(\u001b[0m\u001b[0;34m'a'\u001b[0m\u001b[0;34m,\u001b[0m\u001b[0;34m'b'\u001b[0m\u001b[0;34m)\u001b[0m\u001b[0;34m)\u001b[0m\u001b[0;34m\u001b[0m\u001b[0;34m\u001b[0m\u001b[0m\n\u001b[0m\u001b[1;32m      9\u001b[0m \u001b[0;34m\u001b[0m\u001b[0m\n\u001b[1;32m     10\u001b[0m \u001b[0;34m\u001b[0m\u001b[0m\n",
            "\u001b[0;32m<ipython-input-7-4290036b18e2>\u001b[0m in \u001b[0;36mtwo_obj\u001b[0;34m(h, i)\u001b[0m\n\u001b[1;32m      1\u001b[0m \u001b[0;32mdef\u001b[0m \u001b[0mtwo_obj\u001b[0m\u001b[0;34m(\u001b[0m\u001b[0mh\u001b[0m\u001b[0;34m,\u001b[0m\u001b[0mi\u001b[0m\u001b[0;34m)\u001b[0m\u001b[0;34m:\u001b[0m\u001b[0;34m\u001b[0m\u001b[0;34m\u001b[0m\u001b[0m\n\u001b[1;32m      2\u001b[0m   \u001b[0;32mif\u001b[0m \u001b[0;32mnot\u001b[0m \u001b[0;34m(\u001b[0m\u001b[0misinstance\u001b[0m\u001b[0;34m(\u001b[0m\u001b[0mh\u001b[0m\u001b[0;34m,\u001b[0m\u001b[0mint\u001b[0m\u001b[0;34m)\u001b[0m \u001b[0;32mand\u001b[0m \u001b[0misinstance\u001b[0m\u001b[0;34m(\u001b[0m\u001b[0mi\u001b[0m\u001b[0;34m,\u001b[0m\u001b[0mint\u001b[0m\u001b[0;34m)\u001b[0m\u001b[0;34m)\u001b[0m\u001b[0;34m:\u001b[0m\u001b[0;34m\u001b[0m\u001b[0;34m\u001b[0m\u001b[0m\n\u001b[0;32m----> 3\u001b[0;31m     \u001b[0;32mraise\u001b[0m \u001b[0mTypeError\u001b[0m\u001b[0;34m(\u001b[0m\u001b[0;34m\"Inputs must be integers\"\u001b[0m\u001b[0;34m)\u001b[0m\u001b[0;34m\u001b[0m\u001b[0;34m\u001b[0m\u001b[0m\n\u001b[0m\u001b[1;32m      4\u001b[0m   \u001b[0;32mreturn\u001b[0m \u001b[0;34m(\u001b[0m\u001b[0mh\u001b[0m\u001b[0;34m+\u001b[0m\u001b[0mi\u001b[0m\u001b[0;34m)\u001b[0m\u001b[0;34m\u001b[0m\u001b[0;34m\u001b[0m\u001b[0m\n\u001b[1;32m      5\u001b[0m \u001b[0;34m\u001b[0m\u001b[0m\n",
            "\u001b[0;31mTypeError\u001b[0m: Inputs must be integers"
          ]
        }
      ]
    },
    {
      "cell_type": "markdown",
      "metadata": {
        "id": "UddH1tQL8Aiw",
        "colab_type": "text"
      },
      "source": [
        "# 37. Write a Python program to display your details like name, age, address in three different lines."
      ]
    },
    {
      "cell_type": "code",
      "metadata": {
        "id": "b6A4rmGn6HHY",
        "colab_type": "code",
        "outputId": "21d6640b-24e9-4873-cfee-6ca112c2ed51",
        "colab": {
          "base_uri": "https://localhost:8080/",
          "height": 67
        }
      },
      "source": [
        "def wish(name,age,address):\n",
        "  print(\"Good Day!\", name)\n",
        "  print(\"Hi\",name,\"your age is\",age)\n",
        "  print(\"and, you live in\", address )\n",
        "\n",
        "wish(\"Manish\",25,\"Chennai\")"
      ],
      "execution_count": 0,
      "outputs": [
        {
          "output_type": "stream",
          "text": [
            "Good Day! Manish\n",
            "Hi Manish your age is 25\n",
            "and, you live in Chennai\n"
          ],
          "name": "stdout"
        }
      ]
    },
    {
      "cell_type": "markdown",
      "metadata": {
        "id": "4I9AAaAt-H96",
        "colab_type": "text"
      },
      "source": [
        "# 38. Write a Python program to solve (x + y) * (x + y)."
      ]
    },
    {
      "cell_type": "code",
      "metadata": {
        "id": "C4mCqhlS9ihx",
        "colab_type": "code",
        "outputId": "ab9b4cd0-eb9c-4268-b926-bc160d4a364d",
        "colab": {
          "base_uri": "https://localhost:8080/",
          "height": 67
        }
      },
      "source": [
        "def to_solve(x,y):\n",
        "  prog = (x+y)**2\n",
        "\n",
        "  print(\"The output is: \",prog)\n",
        "\n",
        "to_solve(5,5)\n",
        "to_solve(4,3)\n",
        "to_solve(10,10)"
      ],
      "execution_count": 0,
      "outputs": [
        {
          "output_type": "stream",
          "text": [
            "The output is:  8\n",
            "The output is:  5\n",
            "The output is:  22\n"
          ],
          "name": "stdout"
        }
      ]
    },
    {
      "cell_type": "markdown",
      "metadata": {
        "id": "XIW1HBGn_DqR",
        "colab_type": "text"
      },
      "source": [
        "# 39. Write a Python program to compute the future value of a specified principal amount, rate of interest, and a number of years."
      ]
    },
    {
      "cell_type": "code",
      "metadata": {
        "id": "LUgDf3mW-rvy",
        "colab_type": "code",
        "outputId": "1e3e9d66-7f87-4e4b-966c-6b669338f391",
        "colab": {
          "base_uri": "https://localhost:8080/",
          "height": 34
        }
      },
      "source": [
        "amt = 10000\n",
        "intr = 3.5\n",
        "years = 7\n",
        "\n",
        "future_value = amt*((1+(0.01*intr))**years)\n",
        "print(round(future_value,2))"
      ],
      "execution_count": 0,
      "outputs": [
        {
          "output_type": "stream",
          "text": [
            "12722.79\n"
          ],
          "name": "stdout"
        }
      ]
    },
    {
      "cell_type": "markdown",
      "metadata": {
        "id": "AZS8yxolCKz1",
        "colab_type": "text"
      },
      "source": [
        "# 40. Write a Python program to compute the distance between the points (x1, y1) and (x2, y2)."
      ]
    },
    {
      "cell_type": "code",
      "metadata": {
        "id": "QXV_Rh3uAJTt",
        "colab_type": "code",
        "outputId": "9aaa17d0-9327-4f04-ba2d-21c4f08cf8d0",
        "colab": {
          "base_uri": "https://localhost:8080/",
          "height": 34
        }
      },
      "source": [
        "import math\n",
        "\n",
        "p1 = [4,0]\n",
        "\n",
        "p2 = [6,6]\n",
        "\n",
        "distance = math.sqrt(((p1[0]-p2[0])**2)+ ((p1[1]-p2[1])**2))\n",
        "\n",
        "print(distance)"
      ],
      "execution_count": 0,
      "outputs": [
        {
          "output_type": "stream",
          "text": [
            "6.324555320336759\n"
          ],
          "name": "stdout"
        }
      ]
    },
    {
      "cell_type": "markdown",
      "metadata": {
        "id": "NjugqIpDIRIh",
        "colab_type": "text"
      },
      "source": [
        "# 41. Write a Python program to check whether a file exists."
      ]
    },
    {
      "cell_type": "code",
      "metadata": {
        "id": "oOzGlaexGILw",
        "colab_type": "code",
        "outputId": "55b81234-b616-4ce2-ac0a-bb404d307363",
        "colab": {
          "base_uri": "https://localhost:8080/",
          "height": 34
        }
      },
      "source": [
        "import os.path\n",
        "open('abc.txt','w')\n",
        "\n",
        "print(os.path.isfile('abc.txt'))\n"
      ],
      "execution_count": 0,
      "outputs": [
        {
          "output_type": "stream",
          "text": [
            "True\n"
          ],
          "name": "stdout"
        }
      ]
    },
    {
      "cell_type": "markdown",
      "metadata": {
        "id": "tH5R-uCqIgma",
        "colab_type": "text"
      },
      "source": [
        "# 42. Write a Python program to determine if a Python shell is executing in 32bit or 64bit mode on OS. "
      ]
    },
    {
      "cell_type": "code",
      "metadata": {
        "id": "jAKL19gYIKRv",
        "colab_type": "code",
        "outputId": "390f9b5b-bcc9-4cec-cf69-538298a056c3",
        "colab": {
          "base_uri": "https://localhost:8080/",
          "height": 34
        }
      },
      "source": [
        "# For 32 bit it will return 32 and for 64 bit it will return 64\n",
        "\n",
        "import struct\n",
        "\n",
        "print(struct.calcsize(\"P\")*8)"
      ],
      "execution_count": 0,
      "outputs": [
        {
          "output_type": "stream",
          "text": [
            "64\n"
          ],
          "name": "stdout"
        }
      ]
    },
    {
      "cell_type": "markdown",
      "metadata": {
        "id": "FRwEUrtIJFR2",
        "colab_type": "text"
      },
      "source": [
        "# 43. Write a Python program to get OS name, platform and release information."
      ]
    },
    {
      "cell_type": "code",
      "metadata": {
        "id": "UkdigwWJItfW",
        "colab_type": "code",
        "outputId": "39037346-72c0-4043-8eda-20142b1fb3ca",
        "colab": {
          "base_uri": "https://localhost:8080/",
          "height": 67
        }
      },
      "source": [
        "import platform\n",
        "import os\n",
        "\n",
        "print(os.name)\n",
        "print(platform.system())\n",
        "print(platform.release())"
      ],
      "execution_count": 0,
      "outputs": [
        {
          "output_type": "stream",
          "text": [
            "posix\n",
            "Linux\n",
            "4.14.137+\n"
          ],
          "name": "stdout"
        }
      ]
    },
    {
      "cell_type": "markdown",
      "metadata": {
        "id": "qLFYq8saJg0a",
        "colab_type": "text"
      },
      "source": [
        "# 44. Write a Python program to locate Python site-packages. "
      ]
    },
    {
      "cell_type": "code",
      "metadata": {
        "id": "g6nNfZznJZH4",
        "colab_type": "code",
        "outputId": "cadbc12e-7162-437f-df6a-75d2df4d341d",
        "colab": {
          "base_uri": "https://localhost:8080/",
          "height": 34
        }
      },
      "source": [
        "import site\n",
        "\n",
        "print(site.getsitepackages())"
      ],
      "execution_count": 0,
      "outputs": [
        {
          "output_type": "stream",
          "text": [
            "['/usr/local/lib/python3.6/dist-packages', '/usr/lib/python3/dist-packages', '/usr/lib/python3.6/dist-packages']\n"
          ],
          "name": "stdout"
        }
      ]
    },
    {
      "cell_type": "code",
      "metadata": {
        "id": "WThIVSIfJ1Hw",
        "colab_type": "code",
        "colab": {}
      },
      "source": [
        ""
      ],
      "execution_count": 0,
      "outputs": []
    },
    {
      "cell_type": "markdown",
      "metadata": {
        "id": "gsEHvbi_KeFn",
        "colab_type": "text"
      },
      "source": [
        "# Write a python program to call an external command in Python."
      ]
    },
    {
      "cell_type": "code",
      "metadata": {
        "id": "1yqLkUxTKfcC",
        "colab_type": "code",
        "outputId": "7c0c5b52-9a5d-4122-bf80-4718631c0d80",
        "colab": {
          "base_uri": "https://localhost:8080/",
          "height": 34
        }
      },
      "source": [
        "from subprocess import call\n",
        "call([\"ls\",\"-1\"])"
      ],
      "execution_count": 0,
      "outputs": [
        {
          "output_type": "execute_result",
          "data": {
            "text/plain": [
              "0"
            ]
          },
          "metadata": {
            "tags": []
          },
          "execution_count": 39
        }
      ]
    },
    {
      "cell_type": "code",
      "metadata": {
        "id": "IWC1Bh_3K1Fd",
        "colab_type": "code",
        "colab": {}
      },
      "source": [
        ""
      ],
      "execution_count": 0,
      "outputs": []
    },
    {
      "cell_type": "markdown",
      "metadata": {
        "id": "R55cPc0sLCdV",
        "colab_type": "text"
      },
      "source": [
        "# 46. Write a python program to get the path and name of the file that is currently executing."
      ]
    },
    {
      "cell_type": "code",
      "metadata": {
        "id": "A2fXFVx9LDol",
        "colab_type": "code",
        "outputId": "b51a2761-d0d5-4cc1-dd18-a30e7438b07b",
        "colab": {
          "base_uri": "https://localhost:8080/",
          "height": 195
        }
      },
      "source": [
        "import os\n",
        "\n",
        "print(\"The current file name is: \",os.path.realpath(__file__))"
      ],
      "execution_count": 0,
      "outputs": [
        {
          "output_type": "error",
          "ename": "NameError",
          "evalue": "ignored",
          "traceback": [
            "\u001b[0;31m---------------------------------------------------------------------------\u001b[0m",
            "\u001b[0;31mNameError\u001b[0m                                 Traceback (most recent call last)",
            "\u001b[0;32m<ipython-input-41-795e0e813eab>\u001b[0m in \u001b[0;36m<module>\u001b[0;34m()\u001b[0m\n\u001b[1;32m      1\u001b[0m \u001b[0;32mimport\u001b[0m \u001b[0mos\u001b[0m\u001b[0;34m\u001b[0m\u001b[0;34m\u001b[0m\u001b[0m\n\u001b[1;32m      2\u001b[0m \u001b[0;34m\u001b[0m\u001b[0m\n\u001b[0;32m----> 3\u001b[0;31m \u001b[0mprint\u001b[0m\u001b[0;34m(\u001b[0m\u001b[0;34m\"The current file name is: \"\u001b[0m\u001b[0;34m,\u001b[0m\u001b[0mos\u001b[0m\u001b[0;34m.\u001b[0m\u001b[0mpath\u001b[0m\u001b[0;34m.\u001b[0m\u001b[0mrealpath\u001b[0m\u001b[0;34m(\u001b[0m\u001b[0m__file__\u001b[0m\u001b[0;34m)\u001b[0m\u001b[0;34m)\u001b[0m\u001b[0;34m\u001b[0m\u001b[0;34m\u001b[0m\u001b[0m\n\u001b[0m",
            "\u001b[0;31mNameError\u001b[0m: name '__file__' is not defined"
          ]
        }
      ]
    },
    {
      "cell_type": "markdown",
      "metadata": {
        "id": "0BI2B9MLLkst",
        "colab_type": "text"
      },
      "source": [
        "# 47. Write a Python program to find out the number of CPUs using."
      ]
    },
    {
      "cell_type": "code",
      "metadata": {
        "id": "7fVbJZxTLTC2",
        "colab_type": "code",
        "outputId": "583eeea8-791d-4460-dfdb-89b0407f6ab1",
        "colab": {
          "base_uri": "https://localhost:8080/",
          "height": 34
        }
      },
      "source": [
        "import multiprocessing\n",
        "\n",
        "print(multiprocessing.cpu_count())"
      ],
      "execution_count": 0,
      "outputs": [
        {
          "output_type": "stream",
          "text": [
            "2\n"
          ],
          "name": "stdout"
        }
      ]
    },
    {
      "cell_type": "markdown",
      "metadata": {
        "id": "897_7b7RMX_9",
        "colab_type": "text"
      },
      "source": [
        "# 48. Write a Python program to parse a string to Float or Integer."
      ]
    },
    {
      "cell_type": "code",
      "metadata": {
        "id": "x5gz8ww_LzNI",
        "colab_type": "code",
        "outputId": "5efecf66-7bd0-4fdb-a50c-6176dcfbab17",
        "colab": {
          "base_uri": "https://localhost:8080/",
          "height": 34
        }
      },
      "source": [
        "n = \"246.2458\"\n",
        "\n",
        "f = float(n)\n",
        "# i = int(float(n)) # not working in colab \n",
        "\n",
        "\n",
        "print(f)\n",
        "# print(i)"
      ],
      "execution_count": 0,
      "outputs": [
        {
          "output_type": "stream",
          "text": [
            "246.2458\n"
          ],
          "name": "stdout"
        }
      ]
    },
    {
      "cell_type": "markdown",
      "metadata": {
        "id": "wSAOjbCVOywB",
        "colab_type": "text"
      },
      "source": [
        "# 49. Write a Python program to list all files in a directory in Python."
      ]
    },
    {
      "cell_type": "code",
      "metadata": {
        "id": "vCFcpuyZMm0-",
        "colab_type": "code",
        "colab": {}
      },
      "source": [
        "from os import listdir\n",
        "from os.path import isfile, join\n",
        "files_list = [f for f in listdir('/home/students') if isfile(join('/home/students', f))]\n",
        "print(files_list);\n",
        "#doesnot work in colab"
      ],
      "execution_count": 0,
      "outputs": []
    },
    {
      "cell_type": "markdown",
      "metadata": {
        "id": "MdqJMxO8PqDu",
        "colab_type": "text"
      },
      "source": [
        "# 50. Write a Python program to print without newline or space. "
      ]
    },
    {
      "cell_type": "code",
      "metadata": {
        "id": "qwDLXWCGPchy",
        "colab_type": "code",
        "outputId": "e51ecb11-ea97-449e-e41a-d86a3553bae0",
        "colab": {
          "base_uri": "https://localhost:8080/",
          "height": 185
        }
      },
      "source": [
        "row =8 \n",
        "col = 4\n",
        "\n",
        "for i in range(1,row+1):\n",
        "  print('*'*row,end='')\n",
        "print()\n",
        "\n",
        "print()\n",
        "row =8 \n",
        "\n",
        "\n",
        "for i in range(1,row+1):\n",
        "  print('*'*row)\n",
        "\n"
      ],
      "execution_count": 0,
      "outputs": [
        {
          "output_type": "stream",
          "text": [
            "****************************************************************\n",
            "\n",
            "********\n",
            "********\n",
            "********\n",
            "********\n",
            "********\n",
            "********\n",
            "********\n",
            "********\n"
          ],
          "name": "stdout"
        }
      ]
    },
    {
      "cell_type": "code",
      "metadata": {
        "id": "s8jGDEoqQKID",
        "colab_type": "code",
        "colab": {}
      },
      "source": [
        ""
      ],
      "execution_count": 0,
      "outputs": []
    }
  ]
}