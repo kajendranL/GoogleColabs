{
  "nbformat": 4,
  "nbformat_minor": 0,
  "metadata": {
    "colab": {
      "name": "W3Resources_Basic_Part1.ipynb",
      "provenance": [],
      "collapsed_sections": [],
      "include_colab_link": true
    },
    "kernelspec": {
      "name": "python3",
      "display_name": "Python 3"
    },
    "accelerator": "GPU"
  },
  "cells": [
    {
      "cell_type": "markdown",
      "metadata": {
        "id": "view-in-github",
        "colab_type": "text"
      },
      "source": [
        "<a href=\"https://colab.research.google.com/github/kajendranL/GoogleColabs/blob/master/W3Resources_Basic_Part1.ipynb\" target=\"_parent\"><img src=\"https://colab.research.google.com/assets/colab-badge.svg\" alt=\"Open In Colab\"/></a>"
      ]
    },
    {
      "cell_type": "markdown",
      "metadata": {
        "id": "_mod5QYUR3B_",
        "colab_type": "text"
      },
      "source": [
        "# Python basic (Part -I) [150 exercises with solution]\n"
      ]
    },
    {
      "cell_type": "markdown",
      "metadata": {
        "id": "Fhpi6OAmSj1o",
        "colab_type": "text"
      },
      "source": [
        "#1. Write a Python program to print the following string in a specific format (see the output). Go to the editor\n",
        "Sample String : \"Twinkle, twinkle, little star, How I wonder what you are! Up above the world so high, Like a diamond in the sky. Twinkle, twinkle, little star, How I wonder what you are\" Output :\n",
        "\n",
        "Twinkle, twinkle, little star,\n",
        "\tHow I wonder what you are! \n",
        "\t\tUp above the world so high,   \t\t\n",
        "\t\tLike a diamond in the sky. \n",
        "Twinkle, twinkle, little star, \n",
        "\tHow I wonder what you are"
      ]
    },
    {
      "cell_type": "code",
      "metadata": {
        "id": "CeLueBpwRTvv",
        "colab_type": "code",
        "colab": {
          "base_uri": "https://localhost:8080/",
          "height": 118
        },
        "outputId": "d570f151-d690-44e0-8bc4-46f9e9c65b1f"
      },
      "source": [
        "print(\"Twinke, twinkle, little star, \\n\\tHow I wonder What you are! \\n\\t\\tUp above the world so high, \\n\\t\\tLike a diamond in the sky. \\nTwinkle,twinkle,little star,\\n\\tHow i wonder whar you are\")"
      ],
      "execution_count": 2,
      "outputs": [
        {
          "output_type": "stream",
          "text": [
            "Twinke, twinkle, little star, \n",
            "\tHow I wonder What you are! \n",
            "\t\tUp above the world so high, \n",
            "\t\tLike a diamond in the sky. \n",
            "Twinkle,twinkle,little star,\n",
            "\tHow i wonder whar you are\n"
          ],
          "name": "stdout"
        }
      ]
    },
    {
      "cell_type": "markdown",
      "metadata": {
        "id": "Bl1rAsJdTWV0",
        "colab_type": "text"
      },
      "source": [
        "#2.Write a Python program to get the Python version you are using"
      ]
    },
    {
      "cell_type": "code",
      "metadata": {
        "id": "VkGL2GBsTWGN",
        "colab_type": "code",
        "colab": {
          "base_uri": "https://localhost:8080/",
          "height": 67
        },
        "outputId": "b217cd19-44fc-428c-c100-9c74fed0aebf"
      },
      "source": [
        "import sys\n",
        "print(\"Python version\", sys.version)\n",
        "print(\"Python version info\", sys.version_info)"
      ],
      "execution_count": 4,
      "outputs": [
        {
          "output_type": "stream",
          "text": [
            "Python version 3.6.8 (default, Jan 14 2019, 11:02:34) \n",
            "[GCC 8.0.1 20180414 (experimental) [trunk revision 259383]]\n",
            "Python version info sys.version_info(major=3, minor=6, micro=8, releaselevel='final', serial=0)\n"
          ],
          "name": "stdout"
        }
      ]
    },
    {
      "cell_type": "markdown",
      "metadata": {
        "id": "b7vaBqw7T-Xs",
        "colab_type": "text"
      },
      "source": [
        "# 3. Write a Python program to display the current date and time.\n",
        "Sample Output :\n",
        "Current date and time :\n",
        "2014-07-05 14:34:14"
      ]
    },
    {
      "cell_type": "code",
      "metadata": {
        "id": "nHk7mkxqTImc",
        "colab_type": "code",
        "colab": {
          "base_uri": "https://localhost:8080/",
          "height": 50
        },
        "outputId": "2e5b26be-ded0-4afc-ac4e-a025eeccda6b"
      },
      "source": [
        "import datetime\n",
        "time = datetime.datetime.now()\n",
        "print(\"Current date and time:\" ,time)\n",
        "print(time.strftime(\"%y-%m-%d %H:%M:%S\"))"
      ],
      "execution_count": 9,
      "outputs": [
        {
          "output_type": "stream",
          "text": [
            "Current date and time: 2019-10-13 13:34:54.242968\n",
            "19-10-13 13:34:54\n"
          ],
          "name": "stdout"
        }
      ]
    },
    {
      "cell_type": "markdown",
      "metadata": {
        "id": "07dpUE6pVNH-",
        "colab_type": "text"
      },
      "source": [
        "# 4. Write a Python program which accepts the radius of a circle from the user and compute the area. \n",
        "Sample Output :\n",
        "r = 1.1\n",
        "Area = 3.8013271108436504\n",
        "\n",
        "πr2. "
      ]
    },
    {
      "cell_type": "code",
      "metadata": {
        "id": "SeeyHerVUJvI",
        "colab_type": "code",
        "colab": {
          "base_uri": "https://localhost:8080/",
          "height": 50
        },
        "outputId": "2e02d2a3-7e9e-4aa1-b620-ff769074e695"
      },
      "source": [
        "from math import pi\n",
        "r = float(input(\"Enter the radius of the circle\"))\n",
        "Circle = (pi*r**2)\n",
        "\n",
        "print(\"The area of the circle with the radius,\",r , \"is:\", Circle)"
      ],
      "execution_count": 11,
      "outputs": [
        {
          "output_type": "stream",
          "text": [
            "Enter the radius of the circle3.5\n",
            "The area of the circle with the radius, 3.5 is: 38.48451000647496\n"
          ],
          "name": "stdout"
        }
      ]
    },
    {
      "cell_type": "markdown",
      "metadata": {
        "id": "fz6H9colWupQ",
        "colab_type": "text"
      },
      "source": [
        "# 5. Write a Python program which accepts the user's first and last name and print them in reverse order with a space between them"
      ]
    },
    {
      "cell_type": "code",
      "metadata": {
        "id": "JMLQKvcZWYcJ",
        "colab_type": "code",
        "colab": {
          "base_uri": "https://localhost:8080/",
          "height": 67
        },
        "outputId": "efc14ed3-46fa-4ee5-d9ef-46aea4d8a926"
      },
      "source": [
        "first = input(\"What is your first name?: \")\n",
        "last = input(\"What is your last name?: \")\n",
        "print(last +\" \"+  first)"
      ],
      "execution_count": 14,
      "outputs": [
        {
          "output_type": "stream",
          "text": [
            "What is your first name?: Joseph\n",
            "What is your last name?: Epifano\n",
            "Epifano Joseph\n"
          ],
          "name": "stdout"
        }
      ]
    },
    {
      "cell_type": "markdown",
      "metadata": {
        "id": "ouyYwczeXymC",
        "colab_type": "text"
      },
      "source": [
        "# 6.Write a Python program which accepts a sequence of comma-separated numbers from user and generate a list and a tuple with those numbers. "
      ]
    },
    {
      "cell_type": "code",
      "metadata": {
        "id": "Yv1BM7JEXMBn",
        "colab_type": "code",
        "colab": {
          "base_uri": "https://localhost:8080/",
          "height": 67
        },
        "outputId": "c80010e7-1e03-4644-b8dd-4c330941c2ec"
      },
      "source": [
        "csn = input('Enter comma separated numbers: ')\n",
        "list = csn.split(',')\n",
        "\n",
        "print(list)\n",
        "print(tuple(list))"
      ],
      "execution_count": 21,
      "outputs": [
        {
          "output_type": "stream",
          "text": [
            "Enter comma separated numbers: 15 48 96 35 \n",
            "['15 48 96 35 ']\n",
            "('15 48 96 35 ',)\n"
          ],
          "name": "stdout"
        }
      ]
    },
    {
      "cell_type": "markdown",
      "metadata": {
        "id": "EZaRNN3IZdvh",
        "colab_type": "text"
      },
      "source": [
        "# 7. Write a Python program to accept a filename from the user and print the extension of that.\n",
        "Sample filename : abc.java\n",
        "Output : java"
      ]
    },
    {
      "cell_type": "code",
      "metadata": {
        "id": "g5Ke3VBqYK1D",
        "colab_type": "code",
        "colab": {
          "base_uri": "https://localhost:8080/",
          "height": 50
        },
        "outputId": "6ea61eae-2143-48a7-f41f-3de8504965b1"
      },
      "source": [
        "fname1 = input(\"What is the name of the file? \")\n",
        "\n",
        "extname = fname1.split('.')\n",
        "\n",
        "print(\"The extension name is: \",extname[-1])\n"
      ],
      "execution_count": 23,
      "outputs": [
        {
          "output_type": "stream",
          "text": [
            "What is the name of the file? abc.csv\n",
            "csv\n"
          ],
          "name": "stdout"
        }
      ]
    },
    {
      "cell_type": "markdown",
      "metadata": {
        "id": "wDF82TlkbCuA",
        "colab_type": "text"
      },
      "source": [
        ""
      ]
    },
    {
      "cell_type": "markdown",
      "metadata": {
        "id": "ItIjLeZ_bA2S",
        "colab_type": "text"
      },
      "source": [
        "# 8. Write a Python program to display the first and last colors from the following list.\n",
        "color_list = [\"Red\",\"Green\",\"White\" ,\"Black\"]"
      ]
    },
    {
      "cell_type": "code",
      "metadata": {
        "id": "Ce8GW4Gtad11",
        "colab_type": "code",
        "colab": {
          "base_uri": "https://localhost:8080/",
          "height": 34
        },
        "outputId": "330988d8-6db6-43cc-8cd0-082a4cdfefdd"
      },
      "source": [
        "color_list = [\"Red\",\"Green\",\"White\" ,\"Black\"]\n",
        "\n",
        "print(color_list[0],color_list[-1])"
      ],
      "execution_count": 24,
      "outputs": [
        {
          "output_type": "stream",
          "text": [
            "Red Black\n"
          ],
          "name": "stdout"
        }
      ]
    },
    {
      "cell_type": "markdown",
      "metadata": {
        "id": "S90bHxX8bc2G",
        "colab_type": "text"
      },
      "source": [
        "# 9. Write a Python program to display the examination schedule. (extract the date from exam_st_date).\n",
        "\n",
        "exam_st_date = (11, 12, 2014)\n",
        "Sample Output : The examination will start from : 11 / 12 / 2014"
      ]
    },
    {
      "cell_type": "code",
      "metadata": {
        "id": "qEHNz36ubUMC",
        "colab_type": "code",
        "colab": {
          "base_uri": "https://localhost:8080/",
          "height": 34
        },
        "outputId": "8152a55b-ef93-4d7a-f919-5ddad548a6ed"
      },
      "source": [
        "exam_st_date = (11, 12, 2014)\n",
        "\n",
        "print(\"The exam will start from %i / %i / %i \"%exam_st_date)\n"
      ],
      "execution_count": 33,
      "outputs": [
        {
          "output_type": "stream",
          "text": [
            "The exam will start from 11 / 12 / 2014 \n"
          ],
          "name": "stdout"
        }
      ]
    },
    {
      "cell_type": "markdown",
      "metadata": {
        "id": "BZReiRrJercl",
        "colab_type": "text"
      },
      "source": [
        "# 10. Write a Python program that accepts an integer (n) and computes the value of n+nn+nnn. \n",
        "Sample value of n is 5\n",
        "Expected Result : 615"
      ]
    },
    {
      "cell_type": "code",
      "metadata": {
        "id": "Fwu5xvXcb7dP",
        "colab_type": "code",
        "colab": {
          "base_uri": "https://localhost:8080/",
          "height": 50
        },
        "outputId": "bbe05a5b-7cf8-4cac-b409-0a67355f232d"
      },
      "source": [
        "n = int(input(\"Enter a number:\"))\n",
        "\n",
        "n1 = int(\"%s\" %(n))\n",
        "n2 = int(\"%s%s\"%(n,n))\n",
        "n3 = int('%s%s%s'%(n,n,n))\n",
        "\n",
        "print(n1+n2+n3)"
      ],
      "execution_count": 4,
      "outputs": [
        {
          "output_type": "stream",
          "text": [
            "Enter a number:5\n",
            "615\n"
          ],
          "name": "stdout"
        }
      ]
    },
    {
      "cell_type": "markdown",
      "metadata": {
        "id": "ThleVd1kpVW1",
        "colab_type": "text"
      },
      "source": [
        "# 11. Write a Python program to print the documents (syntax, description etc.) of Python built-in function(s)."
      ]
    },
    {
      "cell_type": "code",
      "metadata": {
        "id": "CjrRCCjufAms",
        "colab_type": "code",
        "colab": {
          "base_uri": "https://localhost:8080/",
          "height": 34
        },
        "outputId": "128aa2e9-1c5d-4c0b-c599-573f5e7eb5c8"
      },
      "source": [
        "print(abs.__doc__)"
      ],
      "execution_count": 9,
      "outputs": [
        {
          "output_type": "stream",
          "text": [
            "Return the absolute value of the argument.\n"
          ],
          "name": "stdout"
        }
      ]
    },
    {
      "cell_type": "markdown",
      "metadata": {
        "id": "8q7pu-zcqf5f",
        "colab_type": "text"
      },
      "source": [
        "# 12. Write a Python program to print the calendar of a given month and year.\n",
        "Note : Use 'calendar' module.\n"
      ]
    },
    {
      "cell_type": "code",
      "metadata": {
        "id": "uJEH-Lgjpdyb",
        "colab_type": "code",
        "colab": {
          "base_uri": "https://localhost:8080/",
          "height": 185
        },
        "outputId": "cf752dee-63d3-4614-d618-6e315a1dd8f1"
      },
      "source": [
        "import calendar\n",
        "y = int(input(\"The number of year \"))\n",
        "m = int(input(\"The number of the month \"))\n",
        "\n",
        "print(calendar.month(y,m))"
      ],
      "execution_count": 17,
      "outputs": [
        {
          "output_type": "stream",
          "text": [
            "The number of year 2020\n",
            "The number of the month 4\n",
            "     April 2020\n",
            "Mo Tu We Th Fr Sa Su\n",
            "       1  2  3  4  5\n",
            " 6  7  8  9 10 11 12\n",
            "13 14 15 16 17 18 19\n",
            "20 21 22 23 24 25 26\n",
            "27 28 29 30\n",
            "\n"
          ],
          "name": "stdout"
        }
      ]
    },
    {
      "cell_type": "markdown",
      "metadata": {
        "id": "qIU4HdW9sDsQ",
        "colab_type": "text"
      },
      "source": [
        "# 13. Write a Python program to print the following here document.\n"
      ]
    },
    {
      "cell_type": "code",
      "metadata": {
        "id": "Vmpf_D7gqogD",
        "colab_type": "code",
        "colab": {
          "base_uri": "https://localhost:8080/",
          "height": 84
        },
        "outputId": "64f511c4-aa48-4fe7-e19f-22d3cee9f111"
      },
      "source": [
        "print('''a string that you \"don't\" have to escape\n",
        "This\n",
        "is a ....... multi-line\n",
        "heredoc string --------> example''')"
      ],
      "execution_count": 18,
      "outputs": [
        {
          "output_type": "stream",
          "text": [
            "a string that you \"don't\" have to escape\n",
            "This\n",
            "is a ....... multi-line\n",
            "heredoc string --------> example\n"
          ],
          "name": "stdout"
        }
      ]
    },
    {
      "cell_type": "markdown",
      "metadata": {
        "id": "xGwg8OlHsT8Z",
        "colab_type": "text"
      },
      "source": [
        "# 14. Write a Python program to calculate number of days between two dates"
      ]
    },
    {
      "cell_type": "code",
      "metadata": {
        "id": "4ODd_SflsLCK",
        "colab_type": "code",
        "colab": {
          "base_uri": "https://localhost:8080/",
          "height": 34
        },
        "outputId": "f65258f8-680b-4ba6-a480-f3a2b12d84da"
      },
      "source": [
        "from datetime import date\n",
        "\n",
        "fdate = date(2019, 7, 14)\n",
        "ldate = date(2019, 10, 13)\n",
        "\n",
        "print(\"The difference between number of days:\", (ldate - fdate).days)"
      ],
      "execution_count": 21,
      "outputs": [
        {
          "output_type": "stream",
          "text": [
            "The difference between number of days: 91\n"
          ],
          "name": "stdout"
        }
      ]
    },
    {
      "cell_type": "markdown",
      "metadata": {
        "id": "E1_zm2KPt8Rv",
        "colab_type": "text"
      },
      "source": [
        "# Write a Python program to get the volume of a sphere with radius 6."
      ]
    },
    {
      "cell_type": "code",
      "metadata": {
        "id": "_dw1gJXCsozN",
        "colab_type": "code",
        "colab": {
          "base_uri": "https://localhost:8080/",
          "height": 34
        },
        "outputId": "26d19bae-df0e-4617-beef-ab812552c0e0"
      },
      "source": [
        "from math import pi\n",
        "\n",
        "\n",
        "rad = 6\n",
        "\n",
        "formu = 4/3*pi*rad*rad*rad \n",
        "\n",
        "print(\"The volume of the sphere is: \", formu)\n"
      ],
      "execution_count": 23,
      "outputs": [
        {
          "output_type": "stream",
          "text": [
            "The volume of the sphere is:  904.7786842338604\n"
          ],
          "name": "stdout"
        }
      ]
    },
    {
      "cell_type": "markdown",
      "metadata": {
        "id": "nwPIcVnZwL5w",
        "colab_type": "text"
      },
      "source": [
        "# 16. Write a Python program to get the difference between a given number and 17, if the number is greater than 17 return double the absolute difference."
      ]
    },
    {
      "cell_type": "code",
      "metadata": {
        "id": "0tT9imROvEjp",
        "colab_type": "code",
        "colab": {
          "base_uri": "https://localhost:8080/",
          "height": 50
        },
        "outputId": "55672e7d-6f07-4d4e-8949-609cfcd6306f"
      },
      "source": [
        "def gname(n):\n",
        "  if n <= 17:\n",
        "    return n-17\n",
        "  else:\n",
        "    return (n-17)*2\n",
        "\n",
        "n= int(input(\"Enter a number: \"))\n",
        "\n",
        "gname(n)\n"
      ],
      "execution_count": 34,
      "outputs": [
        {
          "output_type": "stream",
          "text": [
            "Enter a number: 14\n"
          ],
          "name": "stdout"
        },
        {
          "output_type": "execute_result",
          "data": {
            "text/plain": [
              "-3"
            ]
          },
          "metadata": {
            "tags": []
          },
          "execution_count": 34
        }
      ]
    },
    {
      "cell_type": "markdown",
      "metadata": {
        "id": "17l9tO6VzA7k",
        "colab_type": "text"
      },
      "source": [
        "# 17. Write a Python program to test whether a number is within 100 of 1000 or 2000."
      ]
    },
    {
      "cell_type": "code",
      "metadata": {
        "id": "ZmMs4o5YxAwh",
        "colab_type": "code",
        "colab": {
          "base_uri": "https://localhost:8080/",
          "height": 67
        },
        "outputId": "42ee9284-24d2-4194-a48c-f7f6aeee7c51"
      },
      "source": [
        "def near_thousand(n):\n",
        "\n",
        "  return ((abs(1000-n)<=100)or(abs(2000-n)<=100))\n",
        "\n",
        "\n",
        "print(near_thousand(2000))\n",
        "print(near_thousand(600))\n",
        "print(near_thousand(1000))"
      ],
      "execution_count": 40,
      "outputs": [
        {
          "output_type": "stream",
          "text": [
            "True\n",
            "False\n",
            "True\n"
          ],
          "name": "stdout"
        }
      ]
    },
    {
      "cell_type": "code",
      "metadata": {
        "id": "JzIwHFetzy6M",
        "colab_type": "code",
        "colab": {}
      },
      "source": [
        ""
      ],
      "execution_count": 0,
      "outputs": []
    },
    {
      "cell_type": "markdown",
      "metadata": {
        "id": "S5Y6Y6Z70Vlp",
        "colab_type": "text"
      },
      "source": [
        "# 18. Write a Python program to calculate the sum of three given numbers, if the values are equal then return three times of their sum."
      ]
    },
    {
      "cell_type": "code",
      "metadata": {
        "id": "zzT1IfGQ0W43",
        "colab_type": "code",
        "colab": {
          "base_uri": "https://localhost:8080/",
          "height": 50
        },
        "outputId": "d2f0b543-19e5-42b6-946c-f1c14e8e68ed"
      },
      "source": [
        "def three_num(a,b,c):\n",
        "  sum  = a+b+c\n",
        "\n",
        "  if a==b==c:\n",
        "    sum = sum*3  \n",
        "  return sum\n",
        "\n",
        "\n",
        "print(three_num(1,2,3))\n",
        "print(three_num(5,5,5))\n",
        "\n"
      ],
      "execution_count": 54,
      "outputs": [
        {
          "output_type": "stream",
          "text": [
            "6\n",
            "45\n"
          ],
          "name": "stdout"
        }
      ]
    },
    {
      "cell_type": "markdown",
      "metadata": {
        "id": "0Pwja45o3bEc",
        "colab_type": "text"
      },
      "source": [
        "# 19. Write a Python program to get a new string from a given string where \"Is\" has been added to the front. If the given string already begins with \"Is\" then return the string unchanged."
      ]
    },
    {
      "cell_type": "code",
      "metadata": {
        "id": "iasQXu8b1C6X",
        "colab_type": "code",
        "colab": {
          "base_uri": "https://localhost:8080/",
          "height": 84
        },
        "outputId": "f79fa81e-ac8d-4062-b0ba-9d25bc302f09"
      },
      "source": [
        "def isstring(str):\n",
        "  if str.startswith('Is'):\n",
        "    return str\n",
        "  else:\n",
        "    return 'Is' + ' '+ str \n",
        "\n",
        "print(isstring(\"Is empty\"))\n",
        "print(isstring(\"Python is\"))\n",
        "print(isstring(\"Is Yazhini\"))\n",
        "print(isstring(\"Epifano\"))\n",
        "\n"
      ],
      "execution_count": 58,
      "outputs": [
        {
          "output_type": "stream",
          "text": [
            "Is empty\n",
            "Is Python is\n",
            "Is Yazhini\n",
            "Is Epifano\n"
          ],
          "name": "stdout"
        }
      ]
    },
    {
      "cell_type": "markdown",
      "metadata": {
        "id": "JOMGgIHQ5G26",
        "colab_type": "text"
      },
      "source": [
        "# 20. Write a Python program to get a string which is n (non-negative integer) copies of a given string. "
      ]
    },
    {
      "cell_type": "code",
      "metadata": {
        "id": "4a7GP_KW4oWU",
        "colab_type": "code",
        "colab": {
          "base_uri": "https://localhost:8080/",
          "height": 34
        },
        "outputId": "bcd824ea-e92a-4e90-8f2d-28977a49c30f"
      },
      "source": [
        "def str_copy(str,n):\n",
        "  return str*n\n",
        "\n",
        "print(str_copy(\"test\",3))"
      ],
      "execution_count": 60,
      "outputs": [
        {
          "output_type": "stream",
          "text": [
            "testtesttest\n"
          ],
          "name": "stdout"
        }
      ]
    },
    {
      "cell_type": "code",
      "metadata": {
        "id": "JwKxY9vT5sNg",
        "colab_type": "code",
        "colab": {}
      },
      "source": [
        ""
      ],
      "execution_count": 0,
      "outputs": []
    },
    {
      "cell_type": "markdown",
      "metadata": {
        "id": "BCYseql66MvV",
        "colab_type": "text"
      },
      "source": [
        "# 21. Write a Python program to find whether a given number (accept from the user) is even or odd, print out an appropriate message to the user."
      ]
    },
    {
      "cell_type": "code",
      "metadata": {
        "id": "T8NOjcWh6Nxd",
        "colab_type": "code",
        "colab": {
          "base_uri": "https://localhost:8080/",
          "height": 67
        },
        "outputId": "04e74a94-4120-4118-d834-427db29bb4e4"
      },
      "source": [
        "def accept_num(n):\n",
        "  Even = []\n",
        "  Odd = []\n",
        "  for i in range(n):\n",
        "\n",
        "    if i % 2 ==0:\n",
        "      Even.append(i)\n",
        "    else:\n",
        "      Odd.append(i)\n",
        "\n",
        "      \n",
        "  print(\"Even numbers are \", Even)\n",
        "  print(\"The Odd numbers are :\",Odd)\n",
        "\n",
        "\n",
        "y = int(input(\"Enter a number of your choice: \"))\n",
        "accept_num(y)"
      ],
      "execution_count": 69,
      "outputs": [
        {
          "output_type": "stream",
          "text": [
            "Enter a number of your choice: 10\n",
            "Even numbers are  [0, 2, 4, 6, 8]\n",
            "The Odd numbers are : [1, 3, 5, 7, 9]\n"
          ],
          "name": "stdout"
        }
      ]
    },
    {
      "cell_type": "markdown",
      "metadata": {
        "id": "PJFAHy8Q9aOQ",
        "colab_type": "text"
      },
      "source": [
        "# 22. Write a Python program to count the number 4 in a given list."
      ]
    },
    {
      "cell_type": "code",
      "metadata": {
        "id": "28VWv-ut63cM",
        "colab_type": "code",
        "colab": {
          "base_uri": "https://localhost:8080/",
          "height": 50
        },
        "outputId": "1fbab631-bc0c-4853-bf3b-5ff85e07ed34"
      },
      "source": [
        "def find_four(lst):\n",
        "  four = 0\n",
        "  for i in lst:\n",
        "    if i == 4:\n",
        "      four +=1\n",
        "     \n",
        "  return four \n",
        "\n",
        "\n",
        "print(\"The number of times Four appear\")\n",
        "lst= [ 1, 4, 5, 4 , 6, 4 ]\n",
        "print(find_four(lst))\n"
      ],
      "execution_count": 86,
      "outputs": [
        {
          "output_type": "stream",
          "text": [
            "The number of times Four appear\n",
            "3\n"
          ],
          "name": "stdout"
        }
      ]
    },
    {
      "cell_type": "markdown",
      "metadata": {
        "id": "e88-rh5LA_c-",
        "colab_type": "text"
      },
      "source": [
        "# 23. Write a Python program to get the n (non-negative integer) copies of the first 2 characters of a given string. Return the n copies of the whole string if the length is less than 2."
      ]
    },
    {
      "cell_type": "code",
      "metadata": {
        "id": "QM8cucE8_UB5",
        "colab_type": "code",
        "colab": {
          "base_uri": "https://localhost:8080/",
          "height": 67
        },
        "outputId": "49a7e63e-effc-45e9-c092-17d9b81cda6b"
      },
      "source": [
        "def copy_str(str,n):\n",
        "  if len(str) < 2:\n",
        "    return str*n\n",
        "  else:\n",
        "    return str[:2]*n\n",
        "  \n",
        " \n",
        "\n",
        "\n",
        "print(copy_str(\"abc\",2))\n",
        "print(copy_str('Python',3))\n",
        "print(copy_str('k',3))\n"
      ],
      "execution_count": 107,
      "outputs": [
        {
          "output_type": "stream",
          "text": [
            "abab\n",
            "PyPyPy\n",
            "kkk\n"
          ],
          "name": "stdout"
        }
      ]
    },
    {
      "cell_type": "code",
      "metadata": {
        "id": "HPfe2BiyB00C",
        "colab_type": "code",
        "colab": {}
      },
      "source": [
        ""
      ],
      "execution_count": 0,
      "outputs": []
    },
    {
      "cell_type": "markdown",
      "metadata": {
        "id": "yzuO0-EIEEU8",
        "colab_type": "text"
      },
      "source": [
        "# 24. Write a Python program to test whether a passed letter is a vowel or not. "
      ]
    },
    {
      "cell_type": "code",
      "metadata": {
        "id": "rayTqtUGEFfe",
        "colab_type": "code",
        "colab": {
          "base_uri": "https://localhost:8080/",
          "height": 50
        },
        "outputId": "c2bf0772-08ec-46b8-e906-79b6442f5ecf"
      },
      "source": [
        "def find_out(V):\n",
        "  vowels = 'A','a','E','e','I','i','O','o','U','u'\n",
        "  \n",
        "  if V in vowels:\n",
        "    return (V, \"is a Vowel\")\n",
        "  else:\n",
        "    return (V, \"is not a vowel\")\n",
        "\n",
        "V= input(\"Enter a letter:  \")\n",
        "print(find_out(V))\n",
        "\n"
      ],
      "execution_count": 113,
      "outputs": [
        {
          "output_type": "stream",
          "text": [
            "Enter a letter:  M\n",
            "('M', 'is not a vowel')\n"
          ],
          "name": "stdout"
        }
      ]
    },
    {
      "cell_type": "markdown",
      "metadata": {
        "id": "ClrtsH45GtlX",
        "colab_type": "text"
      },
      "source": [
        "# 25. Write a Python program to check whether a specified value is contained in a group of values."
      ]
    },
    {
      "cell_type": "code",
      "metadata": {
        "id": "VmNrvzsHFo1U",
        "colab_type": "code",
        "colab": {
          "base_uri": "https://localhost:8080/",
          "height": 50
        },
        "outputId": "d8f4b111-297a-4eef-a7a4-26f98fe2ac09"
      },
      "source": [
        "def specific_Values(Vals, n):\n",
        "  if n in Vals:\n",
        "    return(n, \"is found in the group of values\")\n",
        "  else:\n",
        "    return(n,\"is not found in the group of values\")\n",
        "\n",
        "print(specific_Values([1,2,3,4,5,6],3))\n",
        "print(specific_Values([15,13,12,14,18,19,20,21],6))"
      ],
      "execution_count": 117,
      "outputs": [
        {
          "output_type": "stream",
          "text": [
            "(3, 'is found in the group of values')\n",
            "(6, 'is not found in the group of values')\n"
          ],
          "name": "stdout"
        }
      ]
    },
    {
      "cell_type": "code",
      "metadata": {
        "id": "hShmfmM7HojO",
        "colab_type": "code",
        "colab": {}
      },
      "source": [
        ""
      ],
      "execution_count": 0,
      "outputs": []
    },
    {
      "cell_type": "markdown",
      "metadata": {
        "id": "uGXFRIg6ICYG",
        "colab_type": "text"
      },
      "source": [
        "# 26. Write a Python program to create a histogram from a given list of integers."
      ]
    },
    {
      "cell_type": "code",
      "metadata": {
        "id": "lYIVB390IDZi",
        "colab_type": "code",
        "colab": {
          "base_uri": "https://localhost:8080/",
          "height": 235
        },
        "outputId": "fcde8ac6-5cca-4908-f13f-9b1a3ca300c1"
      },
      "source": [
        "def histogram(items):\n",
        "  for i in items:\n",
        "    output = ''\n",
        "    times = i\n",
        "\n",
        "    while(times >0):\n",
        "      output +='*'\n",
        "      times = times-1\n",
        "    print(output)\n",
        "\n",
        "print(histogram([2, 3, 6, 5]))\n",
        "print()\n",
        "print(histogram([2,3,4,5,6,7]))"
      ],
      "execution_count": 124,
      "outputs": [
        {
          "output_type": "stream",
          "text": [
            "**\n",
            "***\n",
            "******\n",
            "*****\n",
            "None\n",
            "\n",
            "**\n",
            "***\n",
            "****\n",
            "*****\n",
            "******\n",
            "*******\n",
            "None\n"
          ],
          "name": "stdout"
        }
      ]
    },
    {
      "cell_type": "markdown",
      "metadata": {
        "id": "bZkMS4B7J45J",
        "colab_type": "text"
      },
      "source": [
        "# 27. Write a Python program to concatenate all elements in a list into a string and return it."
      ]
    },
    {
      "cell_type": "code",
      "metadata": {
        "id": "dWbVnn0dJKqo",
        "colab_type": "code",
        "colab": {
          "base_uri": "https://localhost:8080/",
          "height": 34
        },
        "outputId": "70667dd7-705e-4998-945e-c648ce86b1cf"
      },
      "source": [
        "def lst_str(C):\n",
        "  joint = ''\n",
        "  for i in C:\n",
        "    joint +=str(i)\n",
        "  return (joint)\n",
        "\n",
        "lst_str([45,1,23,6])\n",
        "\n"
      ],
      "execution_count": 126,
      "outputs": [
        {
          "output_type": "execute_result",
          "data": {
            "text/plain": [
              "'451236'"
            ]
          },
          "metadata": {
            "tags": []
          },
          "execution_count": 126
        }
      ]
    },
    {
      "cell_type": "markdown",
      "metadata": {
        "id": "1JSd-wYYLCWn",
        "colab_type": "text"
      },
      "source": [
        "# 28. Write a Python program to print all even numbers from a given numbers list in the same order and stop the printing if any numbers that come after 237 in the sequence. Go to the editor\n",
        "Sample numbers list :\n",
        "\n",
        "numbers = [    \n",
        "    386, 462, 47, 418, 907, 344, 236, 375, 823, 566, 597, 978, 328, 615, 953, 345, \n",
        "    399, 162, 758, 219, 918, 237, 412, 566, 826, 248, 866, 950, 626, 949, 687, 217, \n",
        "    815, 67, 104, 58, 512, 24, 892, 894, 767, 553, 81, 379, 843, 831, 445, 742, 717, \n",
        "    958,743, 527\n",
        "    ]"
      ]
    },
    {
      "cell_type": "code",
      "metadata": {
        "id": "BEUZA1QpKtbT",
        "colab_type": "code",
        "colab": {
          "base_uri": "https://localhost:8080/",
          "height": 34
        },
        "outputId": "bfdf9565-1e55-4cbe-89a0-32b856e11227"
      },
      "source": [
        "numbers = [386, 462, 47, 418, 907, 344, 236, 375, 823, 566, 597, 978, 328, 615, 953, 345, 399, 162, 758, 219, 918, 237, 412, 566, 826, 248, 866, 950, 626, 949, 687, 217, 815, 67, 104, 58, 512, 24, 892, 894, 767, 553, 81, 379, 843, 831, 445, 742, 717, 958,743, 527 ]\n",
        "Even = []\n",
        "\n",
        "for i in (numbers):\n",
        "  if i == 237:\n",
        "      break\n",
        "\n",
        "  elif i % 2 ==0:\n",
        "    Even.append(i)\n",
        "    \n",
        "print(Even)\n",
        "\n"
      ],
      "execution_count": 130,
      "outputs": [
        {
          "output_type": "stream",
          "text": [
            "[386, 462, 418, 344, 236, 566, 978, 328, 162, 758, 918]\n"
          ],
          "name": "stdout"
        }
      ]
    },
    {
      "cell_type": "markdown",
      "metadata": {
        "id": "_DAW5UGvMRGh",
        "colab_type": "text"
      },
      "source": [
        "# 29. Write a Python program to print out a set containing all the colors from color_list_1 which are not present in color_list_2. Go to the editor\n",
        "Test Data :\n",
        "color_list_1 = set([\"White\", \"Black\", \"Red\"])\n",
        "color_list_2 = set([\"Red\", \"Green\"])\n",
        "Expected Output :\n",
        "{'Black', 'White'}"
      ]
    },
    {
      "cell_type": "code",
      "metadata": {
        "id": "TcJtEuwvLi1A",
        "colab_type": "code",
        "colab": {
          "base_uri": "https://localhost:8080/",
          "height": 34
        },
        "outputId": "f123f55f-b6d0-4f65-b70d-0071eec553a7"
      },
      "source": [
        "def color_lst(lst1,lst2):\n",
        "  return lst1.difference(lst2)\n",
        "\n",
        "color_list_1 = set([\"White\", \"Black\", \"Red\"]) \n",
        "color_list_2 = set([\"Red\", \"Green\"])\n",
        "\n",
        "print(color_lst(color_list_1, color_list_2))"
      ],
      "execution_count": 131,
      "outputs": [
        {
          "output_type": "stream",
          "text": [
            "{'Black', 'White'}\n"
          ],
          "name": "stdout"
        }
      ]
    },
    {
      "cell_type": "markdown",
      "metadata": {
        "id": "__aZHGJ4OGuM",
        "colab_type": "text"
      },
      "source": [
        "# 30. Write a Python program that will accept the base and height of a triangle and compute the area."
      ]
    },
    {
      "cell_type": "code",
      "metadata": {
        "id": "nFMpH7-ZNqia",
        "colab_type": "code",
        "colab": {
          "base_uri": "https://localhost:8080/",
          "height": 67
        },
        "outputId": "f38039af-1e0f-490e-9f7f-78bdd334486e"
      },
      "source": [
        "def triangle(base, height):\n",
        "  Area =  base*height/2\n",
        "  return Area\n",
        "\n",
        "B = eval(input(\"What is the base?\"))\n",
        "H = eval(input(\"What is the Height?\"))\n",
        "\n",
        "triangle(B,H)"
      ],
      "execution_count": 133,
      "outputs": [
        {
          "output_type": "stream",
          "text": [
            "What is the base?20\n",
            "What is the Height?40\n"
          ],
          "name": "stdout"
        },
        {
          "output_type": "execute_result",
          "data": {
            "text/plain": [
              "400.0"
            ]
          },
          "metadata": {
            "tags": []
          },
          "execution_count": 133
        }
      ]
    },
    {
      "cell_type": "markdown",
      "metadata": {
        "id": "lRQ1KeAOPQsP",
        "colab_type": "text"
      },
      "source": [
        "# 31. Write a Python program to compute the greatest common divisor (GCD) of two positive integers."
      ]
    },
    {
      "cell_type": "code",
      "metadata": {
        "id": "7KXdgrBxO0rU",
        "colab_type": "code",
        "colab": {
          "base_uri": "https://localhost:8080/",
          "height": 34
        },
        "outputId": "88afb6b4-19cd-4860-dd91-7a8f46b22ae8"
      },
      "source": [
        "def hcf_GCD(x,y):\n",
        "\n",
        "  if x > y:\n",
        "    smaller = y\n",
        "  else: \n",
        "    smaller = x\n",
        "\n",
        "  for i in range(1,smaller+1):\n",
        "    if ((x % i == 0) and ( y % i == 0)):\n",
        "      gcd = i\n",
        "  return gcd\n",
        "\n",
        "num1 =54\n",
        "num2 = 24\n",
        "\n",
        "print(\"The GCD of\",num1,\"and\",num2, \"is\",(hcf_GCD(num1,num2)))"
      ],
      "execution_count": 144,
      "outputs": [
        {
          "output_type": "stream",
          "text": [
            "The GCD of 54 and 24 is 6\n"
          ],
          "name": "stdout"
        }
      ]
    },
    {
      "cell_type": "markdown",
      "metadata": {
        "id": "dq_BGo4DThwp",
        "colab_type": "text"
      },
      "source": [
        "# 32. Write a Python program to get the least common multiple (LCM) of two positive integers."
      ]
    },
    {
      "cell_type": "code",
      "metadata": {
        "id": "9FLKyuZpRr9O",
        "colab_type": "code",
        "colab": {
          "base_uri": "https://localhost:8080/",
          "height": 34
        },
        "outputId": "2444d1b5-3e7f-4e07-b865-cb337ced12ec"
      },
      "source": [
        "def LCM(x,y):\n",
        "\n",
        "  if x > y:\n",
        "    greater = x\n",
        "  else:\n",
        "    greater = y\n",
        "\n",
        "  while True:\n",
        "    if ((greater % x == 0) and (greater % y ==0)):\n",
        "      lcm = greater\n",
        "\n",
        "      break\n",
        "    greater +=1\n",
        "  return lcm\n",
        "\n",
        "\n",
        "num1 = 54\n",
        "num2 =24\n",
        "\n",
        "print(\"The LCM of\",num1,\"and\",num2,\"is\",(LCM(num1,num2)))\n"
      ],
      "execution_count": 147,
      "outputs": [
        {
          "output_type": "stream",
          "text": [
            "The LCM of 54 and 24 is 216\n"
          ],
          "name": "stdout"
        }
      ]
    },
    {
      "cell_type": "markdown",
      "metadata": {
        "id": "xhaHhh-uVSoY",
        "colab_type": "text"
      },
      "source": [
        "# 33. Write a Python program to sum of three given integers. However, if two values are equal sum will be zero."
      ]
    },
    {
      "cell_type": "code",
      "metadata": {
        "id": "87kB2oEGUk7Z",
        "colab_type": "code",
        "colab": {
          "base_uri": "https://localhost:8080/",
          "height": 84
        },
        "outputId": "48198dd7-21c2-4885-a8de-7373d976f701"
      },
      "source": [
        "def three_int(m,n,o):\n",
        "  if ((m ==n) or (n == o) or (m==o)):\n",
        "    sum= 0\n",
        "  else:\n",
        "    sum = m+n+o\n",
        "  return sum\n",
        "\n",
        "print(three_int(2, 1, 2))\n",
        "print(three_int(3, 2, 2))\n",
        "print(three_int(2, 2, 2))\n",
        "print(three_int(1, 2, 3))\n"
      ],
      "execution_count": 157,
      "outputs": [
        {
          "output_type": "stream",
          "text": [
            "0\n",
            "0\n",
            "0\n",
            "6\n"
          ],
          "name": "stdout"
        }
      ]
    },
    {
      "cell_type": "markdown",
      "metadata": {
        "id": "JINSgQkdXcyk",
        "colab_type": "text"
      },
      "source": [
        "# 34. Write a Python program to sum of two given integers. However, if the sum is between 15 to 20 it will return 20."
      ]
    },
    {
      "cell_type": "code",
      "metadata": {
        "id": "noFtFq3pWSQQ",
        "colab_type": "code",
        "colab": {
          "base_uri": "https://localhost:8080/",
          "height": 67
        },
        "outputId": "0a9812be-1ba7-4392-d064-d77b56f12ddb"
      },
      "source": [
        "def sum_two(j,k):\n",
        "  sum = j+k\n",
        "  if sum in range(15,20):\n",
        "    sum = 20\n",
        "    return sum\n",
        "\n",
        "  else:\n",
        "    sum = j+k\n",
        "  return sum\n",
        "\n",
        "print(sum_two(5,10))\n",
        "print(sum_two(20,25))\n",
        "print(sum_two(9,10))"
      ],
      "execution_count": 160,
      "outputs": [
        {
          "output_type": "stream",
          "text": [
            "20\n",
            "45\n",
            "20\n"
          ],
          "name": "stdout"
        }
      ]
    },
    {
      "cell_type": "markdown",
      "metadata": {
        "id": "ZHynk1WPYgOS",
        "colab_type": "text"
      },
      "source": [
        "# 35. Write a Python program that will return true if the two given integer values are equal or their sum or difference is 5."
      ]
    },
    {
      "cell_type": "code",
      "metadata": {
        "id": "2h_7rmQ3YQB5",
        "colab_type": "code",
        "colab": {
          "base_uri": "https://localhost:8080/",
          "height": 84
        },
        "outputId": "80f7de1b-0b54-43df-ef30-dced68475461"
      },
      "source": [
        "def sumORdiff(x,y):\n",
        "  if x == y or abs(x-y) ==5 or (x+y) == 5:\n",
        "    return True\n",
        "  else:\n",
        "    return False\n",
        "\n",
        "print(sumORdiff(7,3))\n",
        "print(sumORdiff(3,2))\n",
        "print(sumORdiff(2,2))\n",
        "print(sumORdiff(4,2))\n",
        "\n",
        "\n"
      ],
      "execution_count": 168,
      "outputs": [
        {
          "output_type": "stream",
          "text": [
            "False\n",
            "True\n",
            "True\n",
            "False\n"
          ],
          "name": "stdout"
        }
      ]
    },
    {
      "cell_type": "markdown",
      "metadata": {
        "id": "xhHRnH_BcBVV",
        "colab_type": "text"
      },
      "source": [
        "# 36. Write a Python program to add two objects if both objects are an integer type."
      ]
    },
    {
      "cell_type": "code",
      "metadata": {
        "id": "TJp66GYnbLQm",
        "colab_type": "code",
        "colab": {}
      },
      "source": [
        ""
      ],
      "execution_count": 0,
      "outputs": []
    }
  ]
}