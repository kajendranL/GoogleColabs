{
  "nbformat": 4,
  "nbformat_minor": 0,
  "metadata": {
    "colab": {
      "name": "http://www.decodeschool.com/.ipynb",
      "provenance": [],
      "authorship_tag": "ABX9TyNZzgIey8f6hZQHIP6QPdnh",
      "include_colab_link": true
    },
    "kernelspec": {
      "name": "python3",
      "display_name": "Python 3"
    }
  },
  "cells": [
    {
      "cell_type": "markdown",
      "metadata": {
        "id": "view-in-github",
        "colab_type": "text"
      },
      "source": [
        "<a href=\"https://colab.research.google.com/github/kajendranL/GoogleColabs/blob/master/http_www_decodeschool_com_.ipynb\" target=\"_parent\"><img src=\"https://colab.research.google.com/assets/colab-badge.svg\" alt=\"Open In Colab\"/></a>"
      ]
    },
    {
      "cell_type": "code",
      "metadata": {
        "id": "g4mmDRDyEUTU",
        "colab_type": "code",
        "colab": {}
      },
      "source": [
        ""
      ],
      "execution_count": 0,
      "outputs": []
    },
    {
      "cell_type": "markdown",
      "metadata": {
        "id": "UQ9kmHk_Eua-",
        "colab_type": "text"
      },
      "source": [
        "#http://www.decodeschool.com/\n"
      ]
    },
    {
      "cell_type": "markdown",
      "metadata": {
        "id": "FH9BBtsVE-Pz",
        "colab_type": "text"
      },
      "source": [
        "# Write Python Program to print Hello World"
      ]
    },
    {
      "cell_type": "code",
      "metadata": {
        "id": "tBCw03AIEv5d",
        "colab_type": "code",
        "colab": {
          "base_uri": "https://localhost:8080/",
          "height": 34
        },
        "outputId": "d05aef9a-52b3-46c7-aa3c-3b11ee4e1931"
      },
      "source": [
        "print(\"Hello world\")"
      ],
      "execution_count": 1,
      "outputs": [
        {
          "output_type": "stream",
          "text": [
            "Hello world\n"
          ],
          "name": "stdout"
        }
      ]
    },
    {
      "cell_type": "markdown",
      "metadata": {
        "id": "sXk9n4d_FNC8",
        "colab_type": "text"
      },
      "source": [
        "# WAP \n",
        "Python Program to get input from the user.\n",
        "Sample Input:\n",
        "hi boss\n",
        "Sample Output:\n",
        "hi boss"
      ]
    },
    {
      "cell_type": "code",
      "metadata": {
        "id": "xAZoUVhkFD5e",
        "colab_type": "code",
        "colab": {}
      },
      "source": [
        "message = input(\"hi boss\")\n",
        "print(message)"
      ],
      "execution_count": 0,
      "outputs": []
    },
    {
      "cell_type": "code",
      "metadata": {
        "id": "WwqJhARPFZg7",
        "colab_type": "code",
        "colab": {}
      },
      "source": [
        ""
      ],
      "execution_count": 0,
      "outputs": []
    }
  ]
}