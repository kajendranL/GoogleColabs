{
  "nbformat": 4,
  "nbformat_minor": 0,
  "metadata": {
    "colab": {
      "name": "http://www.decodeschool.com/.ipynb",
      "provenance": [],
      "collapsed_sections": [],
      "include_colab_link": true
    },
    "kernelspec": {
      "name": "python3",
      "display_name": "Python 3"
    },
    "accelerator": "GPU"
  },
  "cells": [
    {
      "cell_type": "markdown",
      "metadata": {
        "id": "view-in-github",
        "colab_type": "text"
      },
      "source": [
        "<a href=\"https://colab.research.google.com/github/kajendranL/GoogleColabs/blob/master/http_www_decodeschool_com_.ipynb\" target=\"_parent\"><img src=\"https://colab.research.google.com/assets/colab-badge.svg\" alt=\"Open In Colab\"/></a>"
      ]
    },
    {
      "cell_type": "markdown",
      "metadata": {
        "id": "UQ9kmHk_Eua-",
        "colab_type": "text"
      },
      "source": [
        "#http://www.decodeschool.com/\n"
      ]
    },
    {
      "cell_type": "markdown",
      "metadata": {
        "id": "FH9BBtsVE-Pz",
        "colab_type": "text"
      },
      "source": [
        "# Write Python Program to print Hello World"
      ]
    },
    {
      "cell_type": "code",
      "metadata": {
        "id": "tBCw03AIEv5d",
        "colab_type": "code",
        "outputId": "d05aef9a-52b3-46c7-aa3c-3b11ee4e1931",
        "colab": {
          "base_uri": "https://localhost:8080/",
          "height": 34
        }
      },
      "source": [
        "print(\"Hello world\")"
      ],
      "execution_count": 0,
      "outputs": [
        {
          "output_type": "stream",
          "text": [
            "Hello world\n"
          ],
          "name": "stdout"
        }
      ]
    },
    {
      "cell_type": "markdown",
      "metadata": {
        "id": "sXk9n4d_FNC8",
        "colab_type": "text"
      },
      "source": [
        "# WAP \n",
        "Python Program to get input from the user.\n",
        "Sample Input:\n",
        "hi boss\n",
        "Sample Output:\n",
        "hi boss"
      ]
    },
    {
      "cell_type": "code",
      "metadata": {
        "id": "xAZoUVhkFD5e",
        "colab_type": "code",
        "outputId": "9414bf9f-3c93-4bfd-bb9e-284603a47d4b",
        "colab": {
          "base_uri": "https://localhost:8080/",
          "height": 50
        }
      },
      "source": [
        "message = input(\"Type in the input as 'hi boss' \")\n",
        "print(message)"
      ],
      "execution_count": 0,
      "outputs": [
        {
          "output_type": "stream",
          "text": [
            "Type in the input as 'hi boss' hi boss\n",
            "hi boss\n"
          ],
          "name": "stdout"
        }
      ]
    },
    {
      "cell_type": "markdown",
      "metadata": {
        "id": "32mVZuFpGsxo",
        "colab_type": "text"
      },
      "source": [
        "# Python Program to get an integer input from the user"
      ]
    },
    {
      "cell_type": "code",
      "metadata": {
        "id": "0_af8KaZGt1c",
        "colab_type": "code",
        "outputId": "aed3d29c-bb6d-458a-a88e-3c135626cea1",
        "colab": {
          "base_uri": "https://localhost:8080/",
          "height": 50
        }
      },
      "source": [
        "num = int(input(\"Enter a number:\"))\n",
        "print(num)"
      ],
      "execution_count": 0,
      "outputs": [
        {
          "output_type": "stream",
          "text": [
            "Enter a number56\n",
            "56\n"
          ],
          "name": "stdout"
        }
      ]
    },
    {
      "cell_type": "markdown",
      "metadata": {
        "id": "yag5OjV3JB9Y",
        "colab_type": "text"
      },
      "source": [
        "# Python program to get fractional number from the user."
      ]
    },
    {
      "cell_type": "code",
      "metadata": {
        "id": "yCeplB7hJeub",
        "colab_type": "code",
        "outputId": "89803327-5e02-4fb9-d98b-8e0ae0037195",
        "colab": {
          "base_uri": "https://localhost:8080/",
          "height": 50
        }
      },
      "source": [
        "float_input = float(input(\"Enter a fractional number: \"))\n",
        "\n",
        "print(float_input)"
      ],
      "execution_count": 0,
      "outputs": [
        {
          "output_type": "stream",
          "text": [
            "Enter a fractional number: 56.43\n",
            "56.43\n"
          ],
          "name": "stdout"
        }
      ]
    },
    {
      "cell_type": "markdown",
      "metadata": {
        "id": "jnxflEdZKAhX",
        "colab_type": "text"
      },
      "source": [
        "# Python program to get two integer numbers, add both the integers and dispaly the sum."
      ]
    },
    {
      "cell_type": "code",
      "metadata": {
        "id": "uXQgnrsqKGfy",
        "colab_type": "code",
        "outputId": "de286d4b-8276-4371-bd0c-9ff2e2083c7f",
        "colab": {
          "base_uri": "https://localhost:8080/",
          "height": 84
        }
      },
      "source": [
        "f_num = int(input(\"Enter a number: \"))\n",
        "s_num = int(input(\"Enter another number :\"))\n",
        "\n",
        "add_it = f_num +s_num\n",
        "\n",
        "print(\"Addition is\", add_it)\n",
        "\n",
        "\n",
        "sub_it = f_num - s_num\n",
        "\n",
        "print(\"substraction is\", sub_it)"
      ],
      "execution_count": 0,
      "outputs": [
        {
          "output_type": "stream",
          "text": [
            "Enter a number: 456\n",
            "Enter another number :654\n",
            "Addition is 1110\n",
            "substraction is -198\n"
          ],
          "name": "stdout"
        }
      ]
    },
    {
      "cell_type": "markdown",
      "metadata": {
        "id": "2CoYFcHVIdUd",
        "colab_type": "text"
      },
      "source": [
        ""
      ]
    },
    {
      "cell_type": "markdown",
      "metadata": {
        "id": "n3C4aJ-nLFRm",
        "colab_type": "text"
      },
      "source": [
        "# Python program to get Kilometer km from user and find meter m"
      ]
    },
    {
      "cell_type": "code",
      "metadata": {
        "id": "_ozUVPnMLGQu",
        "colab_type": "code",
        "outputId": "7381966e-0940-4a37-8f86-2a04d66eeab9",
        "colab": {
          "base_uri": "https://localhost:8080/",
          "height": 50
        }
      },
      "source": [
        "Kilo_meter = int(input(\"How many meeters\" ))\n",
        "\n",
        "Meters = Kilo_meter *1000\n",
        "\n",
        "print(Kilo_meter, \"km  is \", Meters,\"meters\")\n"
      ],
      "execution_count": 0,
      "outputs": [
        {
          "output_type": "stream",
          "text": [
            "How many meeters56\n",
            "56 km  is  56000 meters\n"
          ],
          "name": "stdout"
        }
      ]
    },
    {
      "cell_type": "markdown",
      "metadata": {
        "id": "yC-uhzAbMKdU",
        "colab_type": "text"
      },
      "source": [
        "# Python program to get meter m from user and find kilometer km"
      ]
    },
    {
      "cell_type": "code",
      "metadata": {
        "id": "FqxCWYHjL4s9",
        "colab_type": "code",
        "outputId": "0d056bc0-e32f-4aa3-f0d5-fd1a15e489e6",
        "colab": {
          "base_uri": "https://localhost:8080/",
          "height": 50
        }
      },
      "source": [
        "meters= int(input(\"Enter the number of meters: \"))\n",
        "\n",
        "k_m = meters / 1000\n",
        "\n",
        "print(\"{} meters is {} kilo meters\".format(meters, k_m))"
      ],
      "execution_count": 0,
      "outputs": [
        {
          "output_type": "stream",
          "text": [
            "Enter the number of meters: 56000\n",
            "56000 meters is 56.0 kilo meters\n"
          ],
          "name": "stdout"
        }
      ]
    },
    {
      "cell_type": "markdown",
      "metadata": {
        "id": "D1rgZv2UNzjY",
        "colab_type": "text"
      },
      "source": [
        "# Python program to get side of square and find area of square\n"
      ]
    },
    {
      "cell_type": "code",
      "metadata": {
        "id": "TsIbNUKtMx-Q",
        "colab_type": "code",
        "outputId": "a8222d97-a26f-4a69-dbe5-29335e7820b1",
        "colab": {
          "base_uri": "https://localhost:8080/",
          "height": 50
        }
      },
      "source": [
        "a = int(input(\"Enter the length of the side: \"))\n",
        "Square = a*a\n",
        "\n",
        "print(\"The side of square is {}\".format(Square))"
      ],
      "execution_count": 0,
      "outputs": [
        {
          "output_type": "stream",
          "text": [
            "Enter the length of the side: 5\n",
            "The side of square is 25\n"
          ],
          "name": "stdout"
        }
      ]
    },
    {
      "cell_type": "markdown",
      "metadata": {
        "id": "ioxCqEMvOmAI",
        "colab_type": "text"
      },
      "source": [
        "# Python program to getlength and breadth of rectangle and find area of rectangle\n"
      ]
    },
    {
      "cell_type": "code",
      "metadata": {
        "id": "bnQc4X1fOZBY",
        "colab_type": "code",
        "outputId": "d44e0cb2-e8e0-4f35-ba56-7d4e32f3eb44",
        "colab": {
          "base_uri": "https://localhost:8080/",
          "height": 67
        }
      },
      "source": [
        "Width = int(input(\"Enter the base of the Rectangle: \"))\n",
        "Height = int(input(\"Enter the vertical height of the Rectangle: \"))\n",
        "\n",
        "Rectangle = Width*Height\n",
        "\n",
        "print(\"The are of the Rectangle is {}\".format(Rectangle))"
      ],
      "execution_count": 0,
      "outputs": [
        {
          "output_type": "stream",
          "text": [
            "Enter the base of the Triangle: 6\n",
            "Enter the vertical height of the Triangle6\n",
            "The are of the Triangle is 36\n"
          ],
          "name": "stdout"
        }
      ]
    },
    {
      "cell_type": "markdown",
      "metadata": {
        "id": "tBVURvCRP43Z",
        "colab_type": "text"
      },
      "source": [
        "# Python program to get length and width of right angled trianlgle and find area of right angled triangle\n",
        "\n",
        "1.Acute angle triangle: When the angle between 2 sides is less than 90 degrees it is called an acute angle triangle.\n",
        "2.Right angle triangle: When the angle between any two sides is equal to 90 degrees it is called as right angle triangle.\n",
        "3.Obtuse angle triangle: When the angle between any two sides is greater than 90 degrees it is called an obtuse angle triangle."
      ]
    },
    {
      "cell_type": "markdown",
      "metadata": {
        "id": "LMTXyOknQbYC",
        "colab_type": "text"
      },
      "source": [
        ""
      ]
    },
    {
      "cell_type": "code",
      "metadata": {
        "id": "VYtLSyxXP_Mj",
        "colab_type": "code",
        "outputId": "1589569b-771f-4673-ff1d-48add97d28c0",
        "colab": {
          "base_uri": "https://localhost:8080/",
          "height": 67
        }
      },
      "source": [
        "base = int(input(\"Enter the base of the Triangle: \"))\n",
        "length = int(input(\"Enter the length of the Triangle: \"))\n",
        "\n",
        "Right_triangle = (base * length) / 2\n",
        "\n",
        "print(\"so the area of the right angled Triangle is {}\".format(Right_triangle))"
      ],
      "execution_count": 0,
      "outputs": [
        {
          "output_type": "stream",
          "text": [
            "Enter the base of the Triangle: 6\n",
            "Enter the length of the Triangle: 6\n",
            "so the area of the right angled Triangle is 18.0\n"
          ],
          "name": "stdout"
        }
      ]
    },
    {
      "cell_type": "markdown",
      "metadata": {
        "id": "QxeU4E3SUL1a",
        "colab_type": "text"
      },
      "source": [
        "# Python program to get base width and height of triangle and find area of triangle\n"
      ]
    },
    {
      "cell_type": "code",
      "metadata": {
        "id": "oyBn-KdmUeCh",
        "colab_type": "code",
        "outputId": "699f88c1-e6ac-4945-a097-b0b97d22d4f6",
        "colab": {
          "base_uri": "https://localhost:8080/",
          "height": 67
        }
      },
      "source": [
        "base = int(input(\"what is the base: \"))\n",
        "height = int(input(\"What is the height: \"))\n",
        "\n",
        "area = (base*height) /2\n",
        "\n",
        "print(\"The area of the triangle is {}\".format(area))"
      ],
      "execution_count": 0,
      "outputs": [
        {
          "output_type": "stream",
          "text": [
            "what is the base: 6\n",
            "What is the height: 12\n",
            "The area of the triangle is 36.0\n"
          ],
          "name": "stdout"
        }
      ]
    },
    {
      "cell_type": "markdown",
      "metadata": {
        "id": "6BYOpsybYTwm",
        "colab_type": "text"
      },
      "source": [
        "# Python program to get radius of circle and find area of circle.\n"
      ]
    },
    {
      "cell_type": "code",
      "metadata": {
        "id": "42NZM_OsYU1O",
        "colab_type": "code",
        "outputId": "7697e30c-9123-4033-b74f-8807d916a24c",
        "colab": {
          "base_uri": "https://localhost:8080/",
          "height": 50
        }
      },
      "source": [
        "import math\n",
        "\n",
        "\n",
        "\n",
        "radius = int(input(\"Enter the raidus: \"))\n",
        "area  = 3.14 *radius*radius\n",
        "\n",
        "print (area)"
      ],
      "execution_count": 0,
      "outputs": [
        {
          "output_type": "stream",
          "text": [
            "Enter the raidus: 4\n",
            "50.24\n"
          ],
          "name": "stdout"
        }
      ]
    },
    {
      "cell_type": "markdown",
      "metadata": {
        "id": "SdMe4IbocpcC",
        "colab_type": "text"
      },
      "source": [
        "#Python program to get radius of circle and find circumference of circle.\n"
      ]
    },
    {
      "cell_type": "code",
      "metadata": {
        "id": "JpBFeWtpcqb7",
        "colab_type": "code",
        "outputId": "2dfe5c48-5c0b-4f4e-f967-2676fe82116b",
        "colab": {
          "base_uri": "https://localhost:8080/",
          "height": 50
        }
      },
      "source": [
        "radius = int(input(\"Enter the rdius: \"))\n",
        "\n",
        "cirum = 2* 3.14*radius\n",
        "\n",
        "print(cirum)"
      ],
      "execution_count": 0,
      "outputs": [
        {
          "output_type": "stream",
          "text": [
            "Enter the rdius: 4\n",
            "25.12\n"
          ],
          "name": "stdout"
        }
      ]
    },
    {
      "cell_type": "markdown",
      "metadata": {
        "id": "t_8zh1GfdxRm",
        "colab_type": "text"
      },
      "source": [
        "# Python program to get employee wages and number of days worked from user and find Basic Pay, DA, HRA, PF and Net Pay.\n",
        "(Note HRA, DA and PF are 10%,5%and 12% of basicpay respectively.)"
      ]
    },
    {
      "cell_type": "code",
      "metadata": {
        "id": "YUxToQmkdJ_A",
        "colab_type": "code",
        "outputId": "53fe3f81-9b84-4592-c8b6-0cbb1578e974",
        "colab": {
          "base_uri": "https://localhost:8080/",
          "height": 67
        }
      },
      "source": [
        "num_days = float(input(\"Enter the number of days worked: \"))\n",
        "wage = float (input(\"Enter the wages: \"))\n",
        "basic_pay = num_days*wage\n",
        "\n",
        "HRA = basic_pay*0.1\n",
        "DA = basic_pay*0.05\n",
        "PF = basic_pay*0.12\n",
        "\n",
        "net_salary = basic_pay + HRA + DA - PF\n",
        "\n",
        "print(net_salary)"
      ],
      "execution_count": 0,
      "outputs": [
        {
          "output_type": "stream",
          "text": [
            "Enter the number of days worked: 30\n",
            "Enter the wages: 16450.00\n",
            "508305.0\n"
          ],
          "name": "stdout"
        }
      ]
    },
    {
      "cell_type": "markdown",
      "metadata": {
        "id": "CYZ6nP5X5np_",
        "colab_type": "text"
      },
      "source": [
        "#Python program to get kilobytes kb from user and find bytes b\n",
        "\n"
      ]
    },
    {
      "cell_type": "code",
      "metadata": {
        "id": "Prx12TZH502G",
        "colab_type": "code",
        "outputId": "d32fbd0f-45d8-4f10-eade-4fbe4c5d9543",
        "colab": {
          "base_uri": "https://localhost:8080/",
          "height": 51
        }
      },
      "source": [
        "kb = int(input(\"Enter the kb size: \"))\n",
        "\n",
        "b = kb*1024\n",
        "\n",
        "print(\"The bytes of {}kb is {}\".format(kb, b))\n"
      ],
      "execution_count": 0,
      "outputs": [
        {
          "output_type": "stream",
          "text": [
            "Enter the kb size: 2\n",
            "The bytes of 2kb is 2096\n"
          ],
          "name": "stdout"
        }
      ]
    },
    {
      "cell_type": "markdown",
      "metadata": {
        "id": "A7gv9NlA645H",
        "colab_type": "text"
      },
      "source": [
        "#Python program to get bytes b from user and  find kilobytes kb"
      ]
    },
    {
      "cell_type": "code",
      "metadata": {
        "id": "aAsVe7Y56deB",
        "colab_type": "code",
        "outputId": "b981ea2e-f9b8-49bc-f0f4-9562e436adbf",
        "colab": {
          "base_uri": "https://localhost:8080/",
          "height": 51
        }
      },
      "source": [
        "b = int(input(\"Enter the bytes to be converted to kb:\"))\n",
        "\n",
        "kb = b/1024\n",
        "\n",
        "print(\"Ther kb of b {} is {}\".format(b, kb))"
      ],
      "execution_count": 0,
      "outputs": [
        {
          "output_type": "stream",
          "text": [
            "Enter the bytes to be converted to kb:2000\n",
            "Ther kb of b 2000 is 1.953125\n"
          ],
          "name": "stdout"
        }
      ]
    },
    {
      "cell_type": "markdown",
      "metadata": {
        "id": "OOKN5RrT7UJT",
        "colab_type": "text"
      },
      "source": [
        "#Python program to get Principle amount, number of months, rate of interest from user and caluculate simple interest.\n"
      ]
    },
    {
      "cell_type": "code",
      "metadata": {
        "id": "UaFuSMXs7Mez",
        "colab_type": "code",
        "outputId": "2b44df09-7008-492c-80df-8ffb2f637705",
        "colab": {
          "base_uri": "https://localhost:8080/",
          "height": 85
        }
      },
      "source": [
        "principal = float(input(\"What is the principal amount?\"))\n",
        "\n",
        "months = int(input(\"How many number of months?\"))\n",
        "interst = float(input(\"What is the interest rate?\"))\n",
        "\n",
        "sim = (principal*months *interst)/100\n",
        "\n",
        "print(sim)"
      ],
      "execution_count": 0,
      "outputs": [
        {
          "output_type": "stream",
          "text": [
            "What is the principal amount?5000\n",
            "How many number of months?12\n",
            "What is the interest rate?1\n",
            "600.0\n"
          ],
          "name": "stdout"
        }
      ]
    },
    {
      "cell_type": "markdown",
      "metadata": {
        "id": "5ZYesOiG83CK",
        "colab_type": "text"
      },
      "source": [
        "#Python program to get two integers a and b from user and swap the values\n"
      ]
    },
    {
      "cell_type": "code",
      "metadata": {
        "id": "Jh251jq774Ay",
        "colab_type": "code",
        "outputId": "49e50aed-c766-494f-b91a-5f9c1a44ab2b",
        "colab": {
          "base_uri": "https://localhost:8080/",
          "height": 68
        }
      },
      "source": [
        "a = int(input(\"Enter first number: \"))\n",
        "b = int(input(\"Enter a second number: \"))\n",
        "\n",
        "a,b =b,a\n",
        "\n",
        "print(a,b)"
      ],
      "execution_count": 0,
      "outputs": [
        {
          "output_type": "stream",
          "text": [
            "Enter first number: 10\n",
            "Enter a second number: 5\n",
            "5 10\n"
          ],
          "name": "stdout"
        }
      ]
    },
    {
      "cell_type": "markdown",
      "metadata": {
        "id": "H5Rc8JVKW3M6",
        "colab_type": "text"
      },
      "source": [
        "#Python program to get an number  n from user  and display the last digit of n\n"
      ]
    },
    {
      "cell_type": "code",
      "metadata": {
        "id": "EIBYeIrn9FqD",
        "colab_type": "code",
        "outputId": "97039c7b-adf5-46f1-a0e0-a31bd4b648d1",
        "colab": {
          "base_uri": "https://localhost:8080/",
          "height": 50
        }
      },
      "source": [
        "num = int(input(\"Please enter a number: \"))\n",
        "\n",
        "lastdigit = num % 10\n",
        "569\n",
        "print(\"The last digit of {} is {}\".format(num, lastdigit))"
      ],
      "execution_count": 0,
      "outputs": [
        {
          "output_type": "stream",
          "text": [
            "Please enter a number: 569\n",
            "The last digit of 569 is 9\n"
          ],
          "name": "stdout"
        }
      ]
    },
    {
      "cell_type": "markdown",
      "metadata": {
        "id": "QuZWiziDXn0f",
        "colab_type": "text"
      },
      "source": [
        "# Branching Statements in python programming\n",
        "\n",
        "\n",
        "Python Program to get price and quantity of a product, calculate bill amount and claculate 10% discount \n",
        "for the billamount 5000 and above."
      ]
    },
    {
      "cell_type": "code",
      "metadata": {
        "id": "QZe51DSHXox9",
        "colab_type": "code",
        "outputId": "c52da8a6-5dd8-4b14-876c-c06c66087808",
        "colab": {
          "base_uri": "https://localhost:8080/",
          "height": 67
        }
      },
      "source": [
        "price = int(input(\"what is the price of the product?\"))\n",
        "\n",
        "quan = int(input(\"What is the quantity of the same?\"))\n",
        "\n",
        "bill = price * quan\n",
        "\n",
        "if (bill >= 5000):\n",
        "\n",
        "  discount = bill*0.1\n",
        "  \n",
        "  bill  = bill - discount\n",
        "  print(bill)\n",
        "\n",
        "else:\n",
        "  print(bill)\n",
        "  \n",
        "  \n",
        "\n",
        "\n"
      ],
      "execution_count": 0,
      "outputs": [
        {
          "output_type": "stream",
          "text": [
            "what is the price of the product?300\n",
            "What is the quantity of the same?10\n",
            "3000\n"
          ],
          "name": "stdout"
        }
      ]
    },
    {
      "cell_type": "markdown",
      "metadata": {
        "id": "1LTcO-TkbHEw",
        "colab_type": "text"
      },
      "source": [
        "# Python Program to get two numbers num1 and num2 and find the greatest one among and smallest one\n"
      ]
    },
    {
      "cell_type": "code",
      "metadata": {
        "id": "UHxh-x83Y0hj",
        "colab_type": "code",
        "outputId": "0ae90df4-bbd8-4b6d-fc9d-5e137a83d9dd",
        "colab": {
          "base_uri": "https://localhost:8080/",
          "height": 84
        }
      },
      "source": [
        "num1 = int(input(\"Enter a number:\"))\n",
        "\n",
        "num2 = int(input(\"Enter another number:\"))\n",
        "\n",
        "greatest = max(num1, num2)\n",
        "smallest = min(num1, num2)\n",
        "print(\"The greatest number among {} and {} is {}\".format(num1, num2, greatest))\n",
        "print(\"The smallest number among {} and {} is {}\".format(num1, num2, smallest))\n"
      ],
      "execution_count": 0,
      "outputs": [
        {
          "output_type": "stream",
          "text": [
            "Enter a number:565\n",
            "Enter another number:987\n",
            "The greatest number among 565 and 987 is 987\n",
            "The smallest number among 565 and 987 is 565\n"
          ],
          "name": "stdout"
        }
      ]
    },
    {
      "cell_type": "markdown",
      "metadata": {
        "id": "FuuBzOsbcp8k",
        "colab_type": "text"
      },
      "source": [
        "# Python Program to get a number num and check whether num is odd or even?\n"
      ]
    },
    {
      "cell_type": "code",
      "metadata": {
        "id": "AknEtWoob7GA",
        "colab_type": "code",
        "outputId": "e67a993c-9797-43e1-a602-2c8e13d93478",
        "colab": {
          "base_uri": "https://localhost:8080/",
          "height": 50
        }
      },
      "source": [
        "num1 = int(input(\"Enter a number: \"))\n",
        "\n",
        "if (num1 % 2==0):\n",
        "  print(\"{} is an even number\".format(num1))\n",
        "else:\n",
        "  print(\"{} is an Odd number\".format(num1))\n",
        "\n"
      ],
      "execution_count": 0,
      "outputs": [
        {
          "output_type": "stream",
          "text": [
            "Enter a number: 95\n",
            "95 is an Odd number\n"
          ],
          "name": "stdout"
        }
      ]
    },
    {
      "cell_type": "markdown",
      "metadata": {
        "id": "kM5lFlFGhtR_",
        "colab_type": "text"
      },
      "source": [
        "#Python Program to get a number num and check whether num is three digit number or not?.\n"
      ]
    },
    {
      "cell_type": "code",
      "metadata": {
        "id": "l2TzZJSLhVTU",
        "colab_type": "code",
        "outputId": "f6312279-1fbf-42e4-9bd1-88909677ecf8",
        "colab": {
          "base_uri": "https://localhost:8080/",
          "height": 50
        }
      },
      "source": [
        "num1 = int(input(\"Enter the numbers:\"))\n",
        "\n",
        "count = 0\n",
        "\n",
        "while (num1>0):\n",
        "  count = count+1\n",
        "\n",
        "  num1 = num1//10\n",
        "\n",
        "print(\"The total digits in given numbers are {}\".format(count))\n"
      ],
      "execution_count": 0,
      "outputs": [
        {
          "output_type": "stream",
          "text": [
            "Enter the numbers:45632\n",
            "The total digits in given numbers are 5\n"
          ],
          "name": "stdout"
        }
      ]
    },
    {
      "cell_type": "markdown",
      "metadata": {
        "id": "j4n78ys0jqex",
        "colab_type": "text"
      },
      "source": [
        "#Python Program to get three numbers num1, num2 and num3 and find the greatest and the smallest one among num1,num2 and num3.\n"
      ]
    },
    {
      "cell_type": "code",
      "metadata": {
        "id": "Z--_VesIishO",
        "colab_type": "code",
        "outputId": "25e3df13-531e-47ee-a6c8-894f61024c28",
        "colab": {
          "base_uri": "https://localhost:8080/",
          "height": 84
        }
      },
      "source": [
        "num1= int(input(\"Enter a first num:\"))\n",
        "\n",
        "num2=int(input(\"Enter the second number:\"))\n",
        "\n",
        "num3= int(input(\"Enter the third number: \"))\n",
        "\n",
        "big = max(num1, num2, num3)\n",
        "small=min(num1, num2, num3)\n",
        "\n",
        "\n",
        "print(\"The greatest num among the three is : {}, and the smallest number is :{}\".format(big, small))\n",
        "\n"
      ],
      "execution_count": 0,
      "outputs": [
        {
          "output_type": "stream",
          "text": [
            "Enter a first num:45\n",
            "Enter the second number:65\n",
            "Enter the third number89\n",
            "The greatest num among the three is 89, and the smallest number is 45\n"
          ],
          "name": "stdout"
        }
      ]
    },
    {
      "cell_type": "markdown",
      "metadata": {
        "id": "NneSswLJnQFv",
        "colab_type": "text"
      },
      "source": [
        "#Python Program to get a number num and check whether num is divisible by 3.\n"
      ]
    },
    {
      "cell_type": "code",
      "metadata": {
        "id": "LnuF8jBIm9cM",
        "colab_type": "code",
        "outputId": "c8cab2f7-3657-4f5e-8190-5f2c8ef7c7c4",
        "colab": {
          "base_uri": "https://localhost:8080/",
          "height": 50
        }
      },
      "source": [
        "num4 = int(input(\"Enter a number:\"))\n",
        "\n",
        "if (num4 % 3 ==0):\n",
        "  print(num4, \"is divisible by 3\")\n",
        "\n",
        "else:\n",
        "  print(\"{}, is not divisible by 3\".format(num4))\n",
        "\n",
        "  "
      ],
      "execution_count": 0,
      "outputs": [
        {
          "output_type": "stream",
          "text": [
            "Enter a number:47\n",
            "47, is not divisible by 3\n"
          ],
          "name": "stdout"
        }
      ]
    },
    {
      "cell_type": "markdown",
      "metadata": {
        "id": "6ov72B97TeX9",
        "colab_type": "text"
      },
      "source": [
        "#Python Program to get a year and check whether year is leap year or not.\n"
      ]
    },
    {
      "cell_type": "code",
      "metadata": {
        "id": "ETZD0vAuTfLg",
        "colab_type": "code",
        "colab": {
          "base_uri": "https://localhost:8080/",
          "height": 51
        },
        "outputId": "483af129-1078-4b54-8add-0974144c5bc1"
      },
      "source": [
        "year = int(input(\"Enter a year to find if it is Leap year or not: \"))\n",
        "\n",
        "if (year % 4 ==0 and year %100 != 0 and year % 400):\n",
        "  print(\"{}, it is a leap year\".format(year))\n",
        "else:\n",
        "  print(\"{}, it is not a leap year\".format(year))\n"
      ],
      "execution_count": 13,
      "outputs": [
        {
          "output_type": "stream",
          "text": [
            "Enter a year to find if it is Leap year or not: 1997\n",
            "1997, it is not a leap year\n"
          ],
          "name": "stdout"
        }
      ]
    },
    {
      "cell_type": "markdown",
      "metadata": {
        "id": "gY3kvwkGYn-O",
        "colab_type": "text"
      },
      "source": [
        "#Python Program to get a number num and check whether last digit of num is divisible by three.\n"
      ]
    },
    {
      "cell_type": "code",
      "metadata": {
        "id": "uksG0CQ7W8F7",
        "colab_type": "code",
        "colab": {
          "base_uri": "https://localhost:8080/",
          "height": 51
        },
        "outputId": "4378692c-0a64-413e-9f0c-edbe182b95d6"
      },
      "source": [
        "numb = int(input(\"Enter a number to find if the last digit can be divided by 3: \"))\n",
        "\n",
        "find_last = numb % 10\n",
        "if (find_last % 3 ==0):\n",
        "  print(\"The last digits of {}, is {} and it can be divided by 3\".format(numb, find_last))\n",
        "else:\n",
        "  print(\"The last digit is : {}, and it  is not divisible by 3\".format(find_last))\n",
        "\n",
        "\n",
        "\n",
        "\n"
      ],
      "execution_count": 17,
      "outputs": [
        {
          "output_type": "stream",
          "text": [
            "Enter a number to find if the last digit can be divided by 3: 6\n",
            "The last digits of 6, is 6 and it can be divided by 3\n"
          ],
          "name": "stdout"
        }
      ]
    },
    {
      "cell_type": "markdown",
      "metadata": {
        "id": "QOcE5CJJakOj",
        "colab_type": "text"
      },
      "source": [
        "# Python Program to get a binary arthmetic expression and solve the expression.\n"
      ]
    },
    {
      "cell_type": "code",
      "metadata": {
        "id": "DRN8266WZ3dU",
        "colab_type": "code",
        "colab": {
          "base_uri": "https://localhost:8080/",
          "height": 85
        },
        "outputId": "65fc2807-45ef-46f9-f9b8-2a7fa3f84b47"
      },
      "source": [
        "num = int(input(\"Type in a number:\"))\n",
        "num2 = int(input(\"Type in another number:\"))\n",
        "\n",
        "do = input(\"What you want to do?\")\n",
        "\n",
        "if do == \"+\":\n",
        "  result = num +num2\n",
        "elif do =='-':\n",
        "  result = num - num2\n",
        "elif do == '*':\n",
        "  result = num * num2\n",
        "elif do == '/':\n",
        "  result = num/num2\n",
        "  \n",
        "\n",
        "else:\n",
        "  print(\"Please enter the right operator code\")\n",
        "\n",
        "print(\"{} the result of {} and {} is\".format(result, num, num2))\n",
        "\n"
      ],
      "execution_count": 22,
      "outputs": [
        {
          "output_type": "stream",
          "text": [
            "Type in a number:9\n",
            "Type in another number:9\n",
            "What you want to do?*\n",
            "81 the result of 9 and 9 is\n"
          ],
          "name": "stdout"
        }
      ]
    },
    {
      "cell_type": "markdown",
      "metadata": {
        "id": "RZX7epJWkZFP",
        "colab_type": "text"
      },
      "source": [
        "# Python Program to get price and quantity of a product, calculate bill amount, claculate 10% discount for the billamount 5000 and above, 5% discount for the bill amount 1000 and above.\n"
      ]
    },
    {
      "cell_type": "code",
      "metadata": {
        "id": "BLpTB_T7dTOO",
        "colab_type": "code",
        "colab": {
          "base_uri": "https://localhost:8080/",
          "height": 68
        },
        "outputId": "e17e5ce8-28cb-40f3-d9f4-fa803c66e354"
      },
      "source": [
        "price = float(input(\"What is the price?\"))\n",
        "\n",
        "quant = int(input(\"How many do you need?\"))\n",
        "\n",
        "bill = price * quant\n",
        "\n",
        "if bill >= 1000:\n",
        "  disc = bill*0.05\n",
        "  total = bill - disc\n",
        "elif bill >=5000:\n",
        "  disc = bill *0.1\n",
        "  total = bill - disc\n",
        "  \n",
        "else:\n",
        "  print(bill)\n",
        "\n",
        "print(\"The total is\",total)\n",
        "\n"
      ],
      "execution_count": 26,
      "outputs": [
        {
          "output_type": "stream",
          "text": [
            "What is the price?500\n",
            "How many do you need?10\n",
            "The total is 4750.0\n"
          ],
          "name": "stdout"
        }
      ]
    },
    {
      "cell_type": "markdown",
      "metadata": {
        "id": "G0jLao4noh2e",
        "colab_type": "text"
      },
      "source": [
        "#Python program to get input n and print natural numbers till n.\n",
        "\n"
      ]
    },
    {
      "cell_type": "code",
      "metadata": {
        "id": "nygahGGmlkCt",
        "colab_type": "code",
        "colab": {
          "base_uri": "https://localhost:8080/",
          "height": 153
        },
        "outputId": "4e8a9366-b638-42a9-d936-70bce24cdfff"
      },
      "source": [
        "n = int(input(\"Enter a number:\"))\n",
        "for i in range(1,n+1):\n",
        "  print(i)"
      ],
      "execution_count": 29,
      "outputs": [
        {
          "output_type": "stream",
          "text": [
            "Enter a number:7\n",
            "1\n",
            "2\n",
            "3\n",
            "4\n",
            "5\n",
            "6\n",
            "7\n"
          ],
          "name": "stdout"
        }
      ]
    },
    {
      "cell_type": "code",
      "metadata": {
        "id": "mMoriElDpGwA",
        "colab_type": "code",
        "colab": {}
      },
      "source": [
        "7\n"
      ],
      "execution_count": 0,
      "outputs": []
    }
  ]
}