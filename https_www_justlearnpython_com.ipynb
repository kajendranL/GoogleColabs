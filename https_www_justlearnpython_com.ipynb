{
  "nbformat": 4,
  "nbformat_minor": 0,
  "metadata": {
    "colab": {
      "name": "https://www.justlearnpython.com.ipynb",
      "provenance": [],
      "include_colab_link": true
    },
    "kernelspec": {
      "name": "python3",
      "display_name": "Python 3"
    },
    "accelerator": "GPU"
  },
  "cells": [
    {
      "cell_type": "markdown",
      "metadata": {
        "id": "view-in-github",
        "colab_type": "text"
      },
      "source": [
        "<a href=\"https://colab.research.google.com/github/kajendranL/GoogleColabs/blob/master/https_www_justlearnpython_com.ipynb\" target=\"_parent\"><img src=\"https://colab.research.google.com/assets/colab-badge.svg\" alt=\"Open In Colab\"/></a>"
      ]
    },
    {
      "cell_type": "markdown",
      "metadata": {
        "id": "_GpOw7mtJ8AS",
        "colab_type": "text"
      },
      "source": [
        "# Exercise 2: Say Hello to user, Expected, ‘Hello John’, “Hello Mary” etc…"
      ]
    },
    {
      "cell_type": "code",
      "metadata": {
        "id": "E0DV3GuaJvhc",
        "colab_type": "code",
        "colab": {
          "base_uri": "https://localhost:8080/",
          "height": 67
        },
        "outputId": "f3d4f16a-30e6-4734-8e31-6ee762c17359"
      },
      "source": [
        "def wish(name):\n",
        "  return \"Hello!\",name\n",
        "\n",
        "print(wish('John'))\n",
        "print(wish('Mary'))\n",
        "print(wish('Yazhini'))"
      ],
      "execution_count": 3,
      "outputs": [
        {
          "output_type": "stream",
          "text": [
            "('Hello!', 'John')\n",
            "('Hello!', 'Mary')\n",
            "('Hello!', 'Yazhini')\n"
          ],
          "name": "stdout"
        }
      ]
    },
    {
      "cell_type": "markdown",
      "metadata": {
        "id": "JXwEswIPK1e1",
        "colab_type": "text"
      },
      "source": [
        "# Exercise 3: Take two numbers from user, print the sum."
      ]
    },
    {
      "cell_type": "code",
      "metadata": {
        "id": "GVBG3Fv9KY8Z",
        "colab_type": "code",
        "colab": {
          "base_uri": "https://localhost:8080/",
          "height": 67
        },
        "outputId": "421d62d0-6390-48a1-b64b-dfd9b68a6dd5"
      },
      "source": [
        "def addition(n1,n2):\n",
        "  print(\"The sum of {}, and {} is {}\".format(n1,n2,n1+n2))\n",
        "\n",
        "\n",
        "a = int(input(\"Enter a number to add: \"))\n",
        "b = int(input(\"Enter another number to add: \"))\n",
        "addition(a,b)"
      ],
      "execution_count": 10,
      "outputs": [
        {
          "output_type": "stream",
          "text": [
            "Enter a number to add: 50698\n",
            "Enter another number to add: 235469\n",
            "The sum of 50698, and 235469 is 286167\n"
          ],
          "name": "stdout"
        }
      ]
    },
    {
      "cell_type": "markdown",
      "metadata": {
        "id": "JZnayY9zMsjy",
        "colab_type": "text"
      },
      "source": [
        "# Exercise 4: Print even numbers below 100."
      ]
    },
    {
      "cell_type": "code",
      "metadata": {
        "id": "qEeL_sPWLE74",
        "colab_type": "code",
        "colab": {
          "base_uri": "https://localhost:8080/",
          "height": 34
        },
        "outputId": "1ca61cb9-9b6e-44e6-d45b-aa92ceb3c87f"
      },
      "source": [
        "for i in range(1,100):\n",
        "  even = 0\n",
        "  if i % 2 == 0:\n",
        "    even=even+i\n",
        "    print(even,end=',')\n",
        "\n"
      ],
      "execution_count": 22,
      "outputs": [
        {
          "output_type": "stream",
          "text": [
            "2,4,6,8,10,12,14,16,18,20,22,24,26,28,30,32,34,36,38,40,42,44,46,48,50,52,54,56,58,60,62,64,66,68,70,72,74,76,78,80,82,84,86,88,90,92,94,96,98,"
          ],
          "name": "stdout"
        }
      ]
    },
    {
      "cell_type": "markdown",
      "metadata": {
        "id": "S51PLiDnNxxI",
        "colab_type": "text"
      },
      "source": [
        "# Exercise 5: Print odd numbers below 50, in descending order"
      ]
    },
    {
      "cell_type": "code",
      "metadata": {
        "id": "WXW_X91nNFyd",
        "colab_type": "code",
        "colab": {
          "base_uri": "https://localhost:8080/",
          "height": 34
        },
        "outputId": "2017f34b-a644-4cbe-ef3c-e5368b013b78"
      },
      "source": [
        "for i in range(50):\n",
        "  odd = []\n",
        "  if i % 2 !=0:\n",
        "    odd.append(i)\n",
        "    print(odd,end=',')\n",
        "# find out the descendint order\n",
        "#odd.sort(reverse=True)"
      ],
      "execution_count": 49,
      "outputs": [
        {
          "output_type": "stream",
          "text": [
            "[1],[3],[5],[7],[9],[11],[13],[15],[17],[19],[21],[23],[25],[27],[29],[31],[33],[35],[37],[39],[41],[43],[45],[47],[49],"
          ],
          "name": "stdout"
        }
      ]
    },
    {
      "cell_type": "markdown",
      "metadata": {
        "id": "r23hoRvqRm3h",
        "colab_type": "text"
      },
      "source": [
        "# Exercise 6: Print prime numbers below 100."
      ]
    },
    {
      "cell_type": "code",
      "metadata": {
        "id": "b5VhE_yLOEXe",
        "colab_type": "code",
        "colab": {
          "base_uri": "https://localhost:8080/",
          "height": 67
        },
        "outputId": "d0ecb071-4632-4600-8be0-e0db59fe336f"
      },
      "source": [
        "num = 100\n",
        "\n",
        "if num >1:\n",
        "  pmnum = 0\n",
        "  for i in range (2,100):\n",
        "    if num % i == 0:\n",
        "      print(num,\"This is not a prime number\")\n",
        "      print(i,\"times\",num//i,\"is\",num)\n",
        "      break\n",
        "  else:\n",
        "    pmnum+=i\n",
        "    print(num, \"is a prime number\")\n",
        "else:\n",
        "  print(num,\"It is a prime number\")\n",
        "\n",
        "print()\n",
        "\n",
        "\n"
      ],
      "execution_count": 57,
      "outputs": [
        {
          "output_type": "stream",
          "text": [
            "100 This is not a prime number\n",
            "2 times 50 is 100\n",
            "\n"
          ],
          "name": "stdout"
        }
      ]
    },
    {
      "cell_type": "code",
      "metadata": {
        "id": "2D_mxReHTDyJ",
        "colab_type": "code",
        "colab": {
          "base_uri": "https://localhost:8080/",
          "height": 34
        },
        "outputId": "7eeaf8d7-0862-411a-b429-aa58b7d4a491"
      },
      "source": [
        "def is_prime(num):\n",
        "  divi = int(num/2)+1\n",
        "\n",
        "  for i in range(2,divi):\n",
        "    if num%i==0:\n",
        "      return False\n",
        "    return True\n",
        "      \n",
        "\n",
        "for num in range(2,100):\n",
        "  if is_prime(num):\n",
        "\n",
        "    print(num,end=',')"
      ],
      "execution_count": 63,
      "outputs": [
        {
          "output_type": "stream",
          "text": [
            "5,7,9,11,13,15,17,19,21,23,25,27,29,31,33,35,37,39,41,43,45,47,49,51,53,55,57,59,61,63,65,67,69,71,73,75,77,79,81,83,85,87,89,91,93,95,97,99,"
          ],
          "name": "stdout"
        }
      ]
    },
    {
      "cell_type": "markdown",
      "metadata": {
        "id": "x0h6k7FmVRaB",
        "colab_type": "text"
      },
      "source": [
        "# Exercise 7: Take two numbers from user, and print the biggest."
      ]
    },
    {
      "cell_type": "code",
      "metadata": {
        "id": "G2DERTUGVSdD",
        "colab_type": "code",
        "colab": {
          "base_uri": "https://localhost:8080/",
          "height": 67
        },
        "outputId": "fe8373a8-9df3-4b5b-de47-cf5f3eae4abe"
      },
      "source": [
        "num1= int(input(\"Enter a number: \"))\n",
        "num2 = int(input(\"Enter another number: \"))\n",
        "if num1 >num2:\n",
        "  print(num1, \"is the biggest\")\n",
        "else:\n",
        "  print(\"The biggest number is \",num2)\n"
      ],
      "execution_count": 65,
      "outputs": [
        {
          "output_type": "stream",
          "text": [
            "Enter a number4698\n",
            "Enter another number6542\n",
            "The biggest number is  6542\n"
          ],
          "name": "stdout"
        }
      ]
    },
    {
      "cell_type": "markdown",
      "metadata": {
        "id": "-OVSEMdbWHDo",
        "colab_type": "text"
      },
      "source": [
        "# Exercise 8: Take three numbers from user, and print the biggest."
      ]
    },
    {
      "cell_type": "code",
      "metadata": {
        "id": "Hta1CEyAVlUS",
        "colab_type": "code",
        "colab": {
          "base_uri": "https://localhost:8080/",
          "height": 84
        },
        "outputId": "d0a30ff6-c7de-4207-e4dd-4d285ffa0884"
      },
      "source": [
        "num1 = int(input())\n",
        "num2 = int(input())\n",
        "num3 = int(input())\n",
        "\n",
        "bigg = max(num1,num2,num3)\n",
        "\n",
        "print(\"The biggest numbers of {},{},{}, is {}\".format(num1,num2,num3, bigg))"
      ],
      "execution_count": 66,
      "outputs": [
        {
          "output_type": "stream",
          "text": [
            "45\n",
            "52\n",
            "62\n",
            "The biggest numbers of 45,52,62, is 62\n"
          ],
          "name": "stdout"
        }
      ]
    },
    {
      "cell_type": "markdown",
      "metadata": {
        "id": "yJzH6tSrDm7G",
        "colab_type": "text"
      },
      "source": [
        "# Exercise 9: Ask the user for a number,to pick the color from the list."
      ]
    },
    {
      "cell_type": "code",
      "metadata": {
        "id": "ngVyPK-BWh13",
        "colab_type": "code",
        "colab": {
          "base_uri": "https://localhost:8080/",
          "height": 50
        },
        "outputId": "e2b8b4f7-51be-4e49-a22b-8566ac5eaba3"
      },
      "source": [
        "colors = ['Blue','Green','Orange','Red']\n",
        "\n",
        "color = int(input(\"Enter the choice of your number: \"))\n",
        "\n",
        "if color >4 or color <1:\n",
        "  print(\"Enter the right choice\")\n",
        "\n",
        "else:\n",
        "  color -=1\n",
        "\n",
        "  if colors [color] =='Blue':\n",
        "    print(\"You have picked 'Blue'\")\n",
        "\n",
        "  elif colors [color] == 'Green':\n",
        "    print(\"you have picked 'Green'\")\n",
        "  elif colors[color] == \"Orange\":\n",
        "    print(\"You have picked 'Orange'\")\n",
        "  elif colors[color] == \"Red\":\n",
        "      print(\"You have picked 'Red' \")\n",
        "\n",
        "  \n",
        "\n"
      ],
      "execution_count": 8,
      "outputs": [
        {
          "output_type": "stream",
          "text": [
            "Enter the choice of your number: 1\n",
            "You have picked 'Blue'\n"
          ],
          "name": "stdout"
        }
      ]
    },
    {
      "cell_type": "markdown",
      "metadata": {
        "id": "h2tb4ZEbJ1Qz",
        "colab_type": "text"
      },
      "source": [
        "# String Exercises\n",
        " \n",
        "# Exercise 1: Check if ‘is’ present in str1\n",
        "\n",
        "str1 = “this is a sample DaTaa”"
      ]
    },
    {
      "cell_type": "code",
      "metadata": {
        "id": "bZSh7L20IIvq",
        "colab_type": "code",
        "colab": {
          "base_uri": "https://localhost:8080/",
          "height": 34
        },
        "outputId": "b5773264-6506-4950-9b29-b8278dd5fedf"
      },
      "source": [
        "str1 = \"this is a sample DaTaa\"\n",
        "if 'is' in str1:\n",
        "  print(\"Yes it is True, 'is' is present \")\n",
        "else:\n",
        "  print(\"no it is not\")"
      ],
      "execution_count": 10,
      "outputs": [
        {
          "output_type": "stream",
          "text": [
            "Yes it is True, 'is' is present \n"
          ],
          "name": "stdout"
        }
      ]
    },
    {
      "cell_type": "markdown",
      "metadata": {
        "id": "tXhVfdMNKikY",
        "colab_type": "text"
      },
      "source": [
        "# Exercise 2: Check if ‘was’ not present in str1"
      ]
    },
    {
      "cell_type": "code",
      "metadata": {
        "id": "-tYdzSuSKTlg",
        "colab_type": "code",
        "colab": {
          "base_uri": "https://localhost:8080/",
          "height": 34
        },
        "outputId": "e19415d8-7b2b-414f-9e33-4cf266a630aa"
      },
      "source": [
        "str1 = \"this is a sample DaTaa\"\n",
        "if 'was' not in str1:\n",
        "  print(\"That is right 'was' is not present in the srting\")\n",
        "else:\n",
        "  print(\"It is present\")\n",
        "  "
      ],
      "execution_count": 11,
      "outputs": [
        {
          "output_type": "stream",
          "text": [
            "That is right 'was' is not present in the srting\n"
          ],
          "name": "stdout"
        }
      ]
    },
    {
      "cell_type": "markdown",
      "metadata": {
        "id": "cdOlKH_pK65V",
        "colab_type": "text"
      },
      "source": [
        "# Exercise 3: Print str1 in uppercase"
      ]
    },
    {
      "cell_type": "code",
      "metadata": {
        "id": "cwNTFxetK2GV",
        "colab_type": "code",
        "colab": {
          "base_uri": "https://localhost:8080/",
          "height": 34
        },
        "outputId": "a7c78a89-4715-4389-c74f-720b30cd55ab"
      },
      "source": [
        "up= str1.upper()\n",
        "print(up)"
      ],
      "execution_count": 13,
      "outputs": [
        {
          "output_type": "stream",
          "text": [
            "THIS IS A SAMPLE DATAA\n"
          ],
          "name": "stdout"
        }
      ]
    },
    {
      "cell_type": "markdown",
      "metadata": {
        "id": "7Hr1xmACLTAx",
        "colab_type": "text"
      },
      "source": [
        "# Exercise 5: Print str1 as title"
      ]
    },
    {
      "cell_type": "code",
      "metadata": {
        "id": "HYSBWjbKLCuD",
        "colab_type": "code",
        "colab": {
          "base_uri": "https://localhost:8080/",
          "height": 34
        },
        "outputId": "fa823cb1-4433-4002-9ac3-08421e0030f8"
      },
      "source": [
        "str1 = \"this is a sample DaTaa\"\n",
        "title = str1.title()\n",
        "print(title)"
      ],
      "execution_count": 18,
      "outputs": [
        {
          "output_type": "stream",
          "text": [
            "This Is A Sample Dataa\n"
          ],
          "name": "stdout"
        }
      ]
    },
    {
      "cell_type": "markdown",
      "metadata": {
        "id": "WS2-2nrXMpbI",
        "colab_type": "text"
      },
      "source": [
        "# Exercise 6: Get a new string from str1 ‘DatTaa’ as ‘Data’"
      ]
    },
    {
      "cell_type": "code",
      "metadata": {
        "id": "fFbPAs5ULlqr",
        "colab_type": "code",
        "colab": {
          "base_uri": "https://localhost:8080/",
          "height": 34
        },
        "outputId": "50555c6f-5b2c-4276-8191-04aac54a62d3"
      },
      "source": [
        "str1 = \"this is a sample DaTaa\"\n",
        "new_str1 = str1.replace('DaTaa','Data')\n",
        "print(new_str1)"
      ],
      "execution_count": 19,
      "outputs": [
        {
          "output_type": "stream",
          "text": [
            "this is a sample Data\n"
          ],
          "name": "stdout"
        }
      ]
    },
    {
      "cell_type": "code",
      "metadata": {
        "id": "tdUPn5lcNQBz",
        "colab_type": "code",
        "colab": {}
      },
      "source": [
        ""
      ],
      "execution_count": 0,
      "outputs": []
    },
    {
      "cell_type": "markdown",
      "metadata": {
        "id": "YVeFTMfCNXhr",
        "colab_type": "text"
      },
      "source": [
        "# Exercise 7: Get a new string from str1 with exra ‘a’ removed from ‘DatTaa’"
      ]
    },
    {
      "cell_type": "code",
      "metadata": {
        "id": "v9NV09tHNZAn",
        "colab_type": "code",
        "colab": {
          "base_uri": "https://localhost:8080/",
          "height": 67
        },
        "outputId": "d74bdef3-2eba-4df6-a7de-08301080d526"
      },
      "source": [
        "re_str1=str1[:-1]\n",
        "print(\"After removing last 'a'\",re_str1)\n",
        "\n",
        "print()\n",
        "#reverse the string\n",
        "rev_str1 = str1[::-1]\n",
        "print(rev_str1)"
      ],
      "execution_count": 24,
      "outputs": [
        {
          "output_type": "stream",
          "text": [
            "After removing last 'a' this is a sample DaTa\n",
            "\n",
            "aaTaD elpmas a si siht\n"
          ],
          "name": "stdout"
        }
      ]
    },
    {
      "cell_type": "markdown",
      "metadata": {
        "id": "BUBZB-FkOlsi",
        "colab_type": "text"
      },
      "source": [
        "# Exercise 8: Display date, month and year form 10-Jan-2020"
      ]
    },
    {
      "cell_type": "code",
      "metadata": {
        "id": "5GMzUqIvNmbD",
        "colab_type": "code",
        "colab": {
          "base_uri": "https://localhost:8080/",
          "height": 34
        },
        "outputId": "e2fa5dbf-2601-4fd4-e87a-9ccf197f951a"
      },
      "source": [
        "Dates = '10-Jan-2020'\n",
        "\n",
        "d,m,y = Dates.split('-')\n",
        "\n",
        "print(\"date:{},month:{},Year{}\".format(d,m,y))"
      ],
      "execution_count": 28,
      "outputs": [
        {
          "output_type": "stream",
          "text": [
            "date:10,month:Jan,Year2020\n"
          ],
          "name": "stdout"
        }
      ]
    },
    {
      "cell_type": "markdown",
      "metadata": {
        "id": "v7TVTeVcP-CP",
        "colab_type": "text"
      },
      "source": [
        "# Exercise 9: Display ‘sample’ word from ‘ this is another sample string ‘"
      ]
    },
    {
      "cell_type": "code",
      "metadata": {
        "id": "hglLvIqbPTrj",
        "colab_type": "code",
        "colab": {
          "base_uri": "https://localhost:8080/",
          "height": 50
        },
        "outputId": "ef8a7820-2fe3-444f-8293-0476899cabfe"
      },
      "source": [
        "str2 = 'this is another sample string'\n",
        "\n",
        "new_word = str2.strip().split()[-2]\n",
        "print(new_word)\n",
        "\n"
      ],
      "execution_count": 32,
      "outputs": [
        {
          "output_type": "stream",
          "text": [
            "sample\n",
            "The word'Sample' is present in the string\n"
          ],
          "name": "stdout"
        }
      ]
    },
    {
      "cell_type": "markdown",
      "metadata": {
        "id": "d3pLLO4iRRnY",
        "colab_type": "text"
      },
      "source": [
        "# Exercise 10: arr = “10,20,30,40,50,60,70”, get “50,60”"
      ]
    },
    {
      "cell_type": "code",
      "metadata": {
        "id": "Wi1jNrA0QQzg",
        "colab_type": "code",
        "colab": {
          "base_uri": "https://localhost:8080/",
          "height": 128
        },
        "outputId": "7a04aed8-9648-4a32-b7d1-c1ca06b7b95c"
      },
      "source": [
        "arr = “10,20,30,40,50,60,70”\n",
        "\n",
        "new_str = ','join(arr.split(',')[4:6])\n",
        "print(new_str)\n",
        "\n",
        "# find the error"
      ],
      "execution_count": 35,
      "outputs": [
        {
          "output_type": "error",
          "ename": "SyntaxError",
          "evalue": "ignored",
          "traceback": [
            "\u001b[0;36m  File \u001b[0;32m\"<ipython-input-35-3f45db2cc905>\"\u001b[0;36m, line \u001b[0;32m1\u001b[0m\n\u001b[0;31m    arr = “10,20,30,40,50,60,70”\u001b[0m\n\u001b[0m            ^\u001b[0m\n\u001b[0;31mSyntaxError\u001b[0m\u001b[0;31m:\u001b[0m invalid character in identifier\n"
          ]
        }
      ]
    },
    {
      "cell_type": "markdown",
      "metadata": {
        "id": "RjhxSpKBSaYh",
        "colab_type": "text"
      },
      "source": [
        "# Exercise 11: Find the sum of elements arr = “10,20,30,40,50,60,70”"
      ]
    },
    {
      "cell_type": "code",
      "metadata": {
        "id": "ApZQ3UHyRxXC",
        "colab_type": "code",
        "colab": {
          "base_uri": "https://localhost:8080/",
          "height": 212
        },
        "outputId": "b0c75122-1c54-40fb-9194-dfb94202beb0"
      },
      "source": [
        "arr = '10,20,30,40,50,60,70'\n",
        "divide = (arr.split(','))\n",
        "\n",
        "total = 0\n",
        "for i in list(divide):\n",
        "  total +=i\n",
        "  print(total)\n",
        "# need to work on it"
      ],
      "execution_count": 63,
      "outputs": [
        {
          "output_type": "error",
          "ename": "TypeError",
          "evalue": "ignored",
          "traceback": [
            "\u001b[0;31m---------------------------------------------------------------------------\u001b[0m",
            "\u001b[0;31mTypeError\u001b[0m                                 Traceback (most recent call last)",
            "\u001b[0;32m<ipython-input-63-8ccc3a9503dc>\u001b[0m in \u001b[0;36m<module>\u001b[0;34m()\u001b[0m\n\u001b[1;32m      4\u001b[0m \u001b[0mtotal\u001b[0m \u001b[0;34m=\u001b[0m \u001b[0;36m0\u001b[0m\u001b[0;34m\u001b[0m\u001b[0;34m\u001b[0m\u001b[0m\n\u001b[1;32m      5\u001b[0m \u001b[0;32mfor\u001b[0m \u001b[0mi\u001b[0m \u001b[0;32min\u001b[0m \u001b[0mlist\u001b[0m\u001b[0;34m(\u001b[0m\u001b[0mdivide\u001b[0m\u001b[0;34m)\u001b[0m\u001b[0;34m:\u001b[0m\u001b[0;34m\u001b[0m\u001b[0;34m\u001b[0m\u001b[0m\n\u001b[0;32m----> 6\u001b[0;31m   \u001b[0mtotal\u001b[0m \u001b[0;34m+=\u001b[0m\u001b[0mi\u001b[0m\u001b[0;34m\u001b[0m\u001b[0;34m\u001b[0m\u001b[0m\n\u001b[0m\u001b[1;32m      7\u001b[0m   \u001b[0mprint\u001b[0m\u001b[0;34m(\u001b[0m\u001b[0mtotal\u001b[0m\u001b[0;34m)\u001b[0m\u001b[0;34m\u001b[0m\u001b[0;34m\u001b[0m\u001b[0m\n",
            "\u001b[0;31mTypeError\u001b[0m: unsupported operand type(s) for +=: 'int' and 'str'"
          ]
        }
      ]
    },
    {
      "cell_type": "markdown",
      "metadata": {
        "id": "CUuDmvtCbmo9",
        "colab_type": "text"
      },
      "source": [
        "# Exercise 14: From given list create separate lists of strings and numbers."
      ]
    },
    {
      "cell_type": "code",
      "metadata": {
        "id": "sBrTsSILStfU",
        "colab_type": "code",
        "colab": {
          "base_uri": "https://localhost:8080/",
          "height": 50
        },
        "outputId": "b5f9eeb3-d603-4225-dc24-403f1f34687e"
      },
      "source": [
        "gadgets = [\"Mobile\", \"Laptop\", 100, \"Camera\", 310.28, \"Speakers\", 27.00, \n",
        "           \"Television\", 1000, \"Laptop Case\", \"Camera Lens\"]\n",
        "str_items = []\n",
        "int_items=[]\n",
        "for item in gadgets:\n",
        "  if isinstance(item,str):\n",
        "    str_items.append(item)\n",
        "  if isinstance(item,int) or isinstance(item,float):\n",
        "    int_items.append(item)\n",
        "print(str_items)\n",
        "print(int_items)\n"
      ],
      "execution_count": 72,
      "outputs": [
        {
          "output_type": "stream",
          "text": [
            "['Mobile', 'Laptop', 'Camera', 'Speakers', 'Television', 'Laptop Case', 'Camera Lens']\n",
            "[100, 310.28, 27.0, 1000]\n"
          ],
          "name": "stdout"
        }
      ]
    },
    {
      "cell_type": "markdown",
      "metadata": {
        "id": "VGfULa-tfTh4",
        "colab_type": "text"
      },
      "source": [
        "# Exercise 15: Given two strings check first is reverse of second. Ex ‘ABC’, ‘CBA’"
      ]
    },
    {
      "cell_type": "code",
      "metadata": {
        "id": "7EWWJrMFbX_X",
        "colab_type": "code",
        "colab": {
          "base_uri": "https://localhost:8080/",
          "height": 134
        },
        "outputId": "d3ddcea7-9051-408e-f79c-cd82e2a9aff1"
      },
      "source": [
        "# Model 1\n",
        "def reverse(word):\n",
        "  reve= ''\n",
        "  for i in word:\n",
        "    reve = i+ reve\n",
        "  return (reve)\n",
        "\n",
        "word = 'ABCDEFG'\n",
        "print(reverse(word))\n",
        "\n",
        "print()\n",
        "# Model 2\n",
        "\n",
        "def reverse2(s1):\n",
        "  if len(s1)==0:\n",
        "    return(s1)\n",
        "  else:\n",
        "    return reverse(s1[1:])+s1[0]\n",
        "\n",
        "word = 'ABCDEFG'\n",
        "print(reverse2(word))\n",
        "\n",
        "print()\n",
        "\n",
        "def reverse3(s3):\n",
        "  s3 = s3[::-1]\n",
        "  return s3\n",
        "word = 'ABCDEFG'\n",
        "print(reverse3(word))\n",
        "\n",
        "print()\n",
        "def reverse4(s4):\n",
        "  s4 = ''.join(reversed(s4))\n",
        "  return s4\n",
        "\n",
        "word = 'ABCDEFG'\n",
        "print(reverse4(word))"
      ],
      "execution_count": 78,
      "outputs": [
        {
          "output_type": "stream",
          "text": [
            "GFEDCBA\n",
            "\n",
            "GFEDCBA\n",
            "\n",
            "GFEDCBA\n",
            "\n",
            "GFEDCBA\n"
          ],
          "name": "stdout"
        }
      ]
    },
    {
      "cell_type": "markdown",
      "metadata": {
        "id": "mULQ12NqigLg",
        "colab_type": "text"
      },
      "source": [
        "# Exercise 16: Given a strings check first and last words are same."
      ]
    },
    {
      "cell_type": "code",
      "metadata": {
        "id": "HoxJm0tIfrx7",
        "colab_type": "code",
        "colab": {
          "base_uri": "https://localhost:8080/",
          "height": 34
        },
        "outputId": "97964e8f-e975-4536-b235-39df9f1ef6b3"
      },
      "source": [
        "def check_same(string):\n",
        "  word_list = string.strip().split()\n",
        "  if word_list[0] == word_list[-1]:\n",
        "    print(\"First and last words are the same\")\n",
        "  else:\n",
        "    print(\"The first and last words are not the same\")\n",
        "\n",
        "same = \"Apples should compared with Apples\"\n",
        "check_same(same)"
      ],
      "execution_count": 87,
      "outputs": [
        {
          "output_type": "stream",
          "text": [
            "First and last words are the same\n"
          ],
          "name": "stdout"
        }
      ]
    },
    {
      "cell_type": "markdown",
      "metadata": {
        "id": "MZ4VcKZckikn",
        "colab_type": "text"
      },
      "source": [
        "# Exercise 17: From the given list calculate total scores."
      ]
    },
    {
      "cell_type": "code",
      "metadata": {
        "id": "nd7KIxzUi9dO",
        "colab_type": "code",
        "colab": {}
      },
      "source": [
        "#display student name and total scores\n",
        "\n",
        "def total_score(student_score):\n",
        "  for item in student_score:\n",
        "    f,s = item.split('|')\n",
        "    # print(f)\n",
        "    sum=0\n",
        "    for i in s:\n",
        "      sum +=i\n",
        "    print(sum)\n",
        "    \n",
        "\n",
        "\n",
        "student_scores =['Alex|75 50 90 80 90 70',\n",
        "                'Mary|76 72 71 68 85 69',\n",
        "                'John|69 67 68 71 68 67',\n",
        "                'Anne|80 69 59 82 71 81',\n",
        "                'Mark|79 81 74 71 69 73'\n",
        "                ]\n",
        "total_score(student_scores)\n",
        "\n",
        "# find an answer"
      ],
      "execution_count": 0,
      "outputs": []
    },
    {
      "cell_type": "markdown",
      "metadata": {
        "id": "O7-ncRx5nxud",
        "colab_type": "text"
      },
      "source": [
        "# Exercise 18: write a function encrypt a given string,\n",
        "input sample :\n",
        "1) abcaaadddbvvsscccc => abca3d3bv2c4\n",
        "2) abc => abc\n",
        "3) wwww => w4\n",
        "4) abcaaddbbvvsscd => abca2d2b2v2cd"
      ]
    },
    {
      "cell_type": "code",
      "metadata": {
        "id": "5g4RgxcclX28",
        "colab_type": "code",
        "colab": {}
      },
      "source": [
        "# fidn durga sir notes  "
      ],
      "execution_count": 0,
      "outputs": []
    },
    {
      "cell_type": "markdown",
      "metadata": {
        "id": "8XjXhpkipyKy",
        "colab_type": "text"
      },
      "source": [
        "# List Exercises in Python"
      ]
    },
    {
      "cell_type": "markdown",
      "metadata": {
        "id": "yXuDlXp_qf_r",
        "colab_type": "text"
      },
      "source": [
        "# Exercise 1: Given 2D array calculate the sum of diagonal elements."
      ]
    },
    {
      "cell_type": "code",
      "metadata": {
        "id": "-QqttODMqt3b",
        "colab_type": "code",
        "colab": {}
      },
      "source": [
        "def sum_of_diagonal(a):\n",
        "  sum = 0\n",
        "  for i in range(a):\n",
        "    sum += a[i][i]\n",
        "  return sum\n",
        "\n",
        "\n",
        "a_2d = ([1,2,3],[4,5,6],[7,8,9])\n",
        "b_2d = ([1,0,1],[1,1,0],[1,1,1])\n",
        "c_2d = ([2,0],[0,2])\n",
        "print(\"sum a_2d: \",sum_of_diagonal(a_2d))\n",
        "print(\"sum b_2d: \",sum_of_diagonal(b_2d))\n",
        "print(\"sum c_2d: \",sum_of_diagonal(c_2d))"
      ],
      "execution_count": 0,
      "outputs": []
    },
    {
      "cell_type": "markdown",
      "metadata": {
        "id": "LEgiJ1X3pxXM",
        "colab_type": "text"
      },
      "source": [
        ""
      ]
    }
  ]
}