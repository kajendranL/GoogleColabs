{
  "nbformat": 4,
  "nbformat_minor": 0,
  "metadata": {
    "colab": {
      "name": "https://edabit.com.ipynb",
      "provenance": [],
      "include_colab_link": true
    },
    "kernelspec": {
      "name": "python3",
      "display_name": "Python 3"
    },
    "accelerator": "GPU"
  },
  "cells": [
    {
      "cell_type": "markdown",
      "metadata": {
        "id": "view-in-github",
        "colab_type": "text"
      },
      "source": [
        "<a href=\"https://colab.research.google.com/github/kajendranL/GoogleColabs/blob/master/https_edabit_com.ipynb\" target=\"_parent\"><img src=\"https://colab.research.google.com/assets/colab-badge.svg\" alt=\"Open In Colab\"/></a>"
      ]
    },
    {
      "cell_type": "markdown",
      "metadata": {
        "id": "3u_lUTiEc5_7",
        "colab_type": "text"
      },
      "source": [
        "# Create a function that returns the number of hashes and pluses in a string.\n"
      ]
    },
    {
      "cell_type": "code",
      "metadata": {
        "id": "UuHEXR7sb5J6",
        "colab_type": "code",
        "colab": {
          "base_uri": "https://localhost:8080/",
          "height": 85
        },
        "outputId": "edfc0956-67e5-45c2-dc96-907b7b589ee8"
      },
      "source": [
        "def hash_plus_count(txt):\n",
        "\thashes = 0\n",
        "\tplus = 0\n",
        "\tfor i in txt:\n",
        "\t\tif i == '#':\n",
        "\t\t\thashes +=1\n",
        "\t\telif i == '+':\n",
        "\t\t\tplus += 1\n",
        "\t\telif i == '':\n",
        "\t\t\treturn [0,0]\n",
        "\treturn ([hashes ,plus])\n",
        " \n",
        "print(hash_plus_count(\"###+\")) # ➞ [3, 1]\n",
        "print(hash_plus_count(\"##+++#\")) # ➞ [3, 3]\n",
        "print(hash_plus_count(\"#+++#+#++#\"))# ➞ [4, 6]\n",
        "print(hash_plus_count(\"\"))# ➞ [0, 0]"
      ],
      "execution_count": 2,
      "outputs": [
        {
          "output_type": "stream",
          "text": [
            "[3, 1]\n",
            "[3, 3]\n",
            "[4, 6]\n",
            "[0, 0]\n"
          ],
          "name": "stdout"
        }
      ]
    },
    {
      "cell_type": "code",
      "metadata": {
        "id": "tTTG_-IKdAxl",
        "colab_type": "code",
        "colab": {}
      },
      "source": [
        ""
      ],
      "execution_count": 0,
      "outputs": []
    }
  ]
}