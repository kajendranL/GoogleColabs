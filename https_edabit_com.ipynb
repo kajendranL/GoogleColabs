{
  "nbformat": 4,
  "nbformat_minor": 0,
  "metadata": {
    "colab": {
      "name": "https://edabit.com.ipynb",
      "provenance": [],
      "collapsed_sections": [],
      "include_colab_link": true
    },
    "kernelspec": {
      "name": "python3",
      "display_name": "Python 3"
    },
    "accelerator": "GPU"
  },
  "cells": [
    {
      "cell_type": "markdown",
      "metadata": {
        "id": "view-in-github",
        "colab_type": "text"
      },
      "source": [
        "<a href=\"https://colab.research.google.com/github/kajendranL/GoogleColabs/blob/master/https_edabit_com.ipynb\" target=\"_parent\"><img src=\"https://colab.research.google.com/assets/colab-badge.svg\" alt=\"Open In Colab\"/></a>"
      ]
    },
    {
      "cell_type": "markdown",
      "metadata": {
        "id": "3u_lUTiEc5_7",
        "colab_type": "text"
      },
      "source": [
        "# Create a function that returns the number of hashes and pluses in a string.\n"
      ]
    },
    {
      "cell_type": "code",
      "metadata": {
        "id": "UuHEXR7sb5J6",
        "colab_type": "code",
        "outputId": "edfc0956-67e5-45c2-dc96-907b7b589ee8",
        "colab": {
          "base_uri": "https://localhost:8080/",
          "height": 85
        }
      },
      "source": [
        "def hash_plus_count(txt):\n",
        "\thashes = 0\n",
        "\tplus = 0\n",
        "\tfor i in txt:\n",
        "\t\tif i == '#':\n",
        "\t\t\thashes +=1\n",
        "\t\telif i == '+':\n",
        "\t\t\tplus += 1\n",
        "\t\telif i == '':\n",
        "\t\t\treturn [0,0]\n",
        "\treturn ([hashes ,plus])\n",
        " \n",
        "print(hash_plus_count(\"###+\")) # ➞ [3, 1]\n",
        "print(hash_plus_count(\"##+++#\")) # ➞ [3, 3]\n",
        "print(hash_plus_count(\"#+++#+#++#\"))# ➞ [4, 6]\n",
        "print(hash_plus_count(\"\"))# ➞ [0, 0]"
      ],
      "execution_count": 0,
      "outputs": [
        {
          "output_type": "stream",
          "text": [
            "[3, 1]\n",
            "[3, 3]\n",
            "[4, 6]\n",
            "[0, 0]\n"
          ],
          "name": "stdout"
        }
      ]
    },
    {
      "cell_type": "markdown",
      "metadata": {
        "id": "et051y-KtC-6",
        "colab_type": "text"
      },
      "source": [
        "# Given a list of numbers, negate all elements contained within."
      ]
    },
    {
      "cell_type": "code",
      "metadata": {
        "id": "tTTG_-IKdAxl",
        "colab_type": "code",
        "colab": {
          "base_uri": "https://localhost:8080/",
          "height": 68
        },
        "outputId": "724edd57-42d7-414a-adce-f05209b65e37"
      },
      "source": [
        "def negate(lst):\n",
        "\tif lst == \"\":\n",
        "\t\treturn []\n",
        "\telse:\n",
        "\t\tfor i in range(len(lst)):\n",
        "\t\t\tlst[i]=-lst[i]\n",
        "\t\treturn lst\n",
        "\n",
        "print(negate([1, 2, 3, 4])) #➞ [-1, -2, -3, -4]\n",
        "\n",
        "print(negate([-1, 2, -3, 4])) #➞ [1, -2, 3, -4]\n",
        "\n",
        "print(negate([])) #➞ []\n",
        "  "
      ],
      "execution_count": 1,
      "outputs": [
        {
          "output_type": "stream",
          "text": [
            "[-1, -2, -3, -4]\n",
            "[1, -2, 3, -4]\n",
            "[]\n"
          ],
          "name": "stdout"
        }
      ]
    },
    {
      "cell_type": "code",
      "metadata": {
        "id": "N-IOZ4xTtWEW",
        "colab_type": "code",
        "colab": {}
      },
      "source": [
        ""
      ],
      "execution_count": 0,
      "outputs": []
    },
    {
      "cell_type": "markdown",
      "metadata": {
        "id": "QNoOpspDu4ZB",
        "colab_type": "text"
      },
      "source": [
        "# Create a function that returns True if an input string contains only uppercase or only lowercase letters."
      ]
    },
    {
      "cell_type": "code",
      "metadata": {
        "id": "2Vj0R5c0u6Z5",
        "colab_type": "code",
        "colab": {
          "base_uri": "https://localhost:8080/",
          "height": 85
        },
        "outputId": "5f6d2015-eab5-464a-de2d-7afb20aa93a0"
      },
      "source": [
        "def same_case(txt):\n",
        "\tif txt == txt.lower():\n",
        "\t\treturn True\n",
        "\telif txt == txt.upper():\n",
        "\t\treturn True\n",
        "\telse:\n",
        "\t\treturn False\n",
        "\n",
        "print(same_case(\"hello\"))# ➞ True\n",
        "print(same_case(\"HELLO\")) #➞ True\n",
        "print(same_case(\"Hello\")) #➞ False\n",
        "print(same_case(\"ketcHUp\"))# ➞ False"
      ],
      "execution_count": 2,
      "outputs": [
        {
          "output_type": "stream",
          "text": [
            "True\n",
            "True\n",
            "False\n",
            "False\n"
          ],
          "name": "stdout"
        }
      ]
    },
    {
      "cell_type": "markdown",
      "metadata": {
        "id": "ds7btNjCwKAi",
        "colab_type": "text"
      },
      "source": [
        "# Create a function that returns True if the first list can be nested inside the second.\n",
        "\n",
        "list1 can be nested inside list2 if:\n",
        "\n",
        "list1's min is greater than list2's min.\n",
        "list1's max is less than list2's max."
      ]
    },
    {
      "cell_type": "code",
      "metadata": {
        "id": "NmjGryx0vKm0",
        "colab_type": "code",
        "colab": {
          "base_uri": "https://localhost:8080/",
          "height": 85
        },
        "outputId": "e0343f5c-cada-46af-c7b1-050c16a572dd"
      },
      "source": [
        "def can_nest(list1, list2):\n",
        "\tif min(list1) > min(list2) and max(list1)< max(list2):\n",
        "\t\treturn True\n",
        "\telse:\n",
        "\t\treturn False\n",
        "\n",
        "print(can_nest([1, 2, 3, 4], [0, 6]))# ➞ True\n",
        "print(can_nest([3, 1], [4, 0]))# ➞ True\n",
        "print(can_nest([9, 9, 8], [8, 9]))# ➞ False\n",
        "print(can_nest([1, 2, 3, 4], [2, 3]))# ➞ False"
      ],
      "execution_count": 4,
      "outputs": [
        {
          "output_type": "stream",
          "text": [
            "True\n",
            "True\n",
            "False\n",
            "False\n"
          ],
          "name": "stdout"
        }
      ]
    },
    {
      "cell_type": "code",
      "metadata": {
        "id": "ZgCQYrX-wIjL",
        "colab_type": "code",
        "colab": {}
      },
      "source": [
        ""
      ],
      "execution_count": 0,
      "outputs": []
    }
  ]
}