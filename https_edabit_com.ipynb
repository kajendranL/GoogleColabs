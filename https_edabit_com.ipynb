{
  "nbformat": 4,
  "nbformat_minor": 0,
  "metadata": {
    "colab": {
      "name": "https://edabit.com.ipynb",
      "provenance": [],
      "collapsed_sections": [],
      "include_colab_link": true
    },
    "kernelspec": {
      "name": "python3",
      "display_name": "Python 3"
    },
    "accelerator": "GPU"
  },
  "cells": [
    {
      "cell_type": "markdown",
      "metadata": {
        "id": "view-in-github",
        "colab_type": "text"
      },
      "source": [
        "<a href=\"https://colab.research.google.com/github/kajendranL/GoogleColabs/blob/master/https_edabit_com.ipynb\" target=\"_parent\"><img src=\"https://colab.research.google.com/assets/colab-badge.svg\" alt=\"Open In Colab\"/></a>"
      ]
    },
    {
      "cell_type": "markdown",
      "metadata": {
        "id": "3u_lUTiEc5_7",
        "colab_type": "text"
      },
      "source": [
        "# Create a function that returns the number of hashes and pluses in a string.\n"
      ]
    },
    {
      "cell_type": "code",
      "metadata": {
        "id": "UuHEXR7sb5J6",
        "colab_type": "code",
        "outputId": "edfc0956-67e5-45c2-dc96-907b7b589ee8",
        "colab": {
          "base_uri": "https://localhost:8080/",
          "height": 85
        }
      },
      "source": [
        "def hash_plus_count(txt):\n",
        "\thashes = 0\n",
        "\tplus = 0\n",
        "\tfor i in txt:\n",
        "\t\tif i == '#':\n",
        "\t\t\thashes +=1\n",
        "\t\telif i == '+':\n",
        "\t\t\tplus += 1\n",
        "\t\telif i == '':\n",
        "\t\t\treturn [0,0]\n",
        "\treturn ([hashes ,plus])\n",
        " \n",
        "print(hash_plus_count(\"###+\")) # ➞ [3, 1]\n",
        "print(hash_plus_count(\"##+++#\")) # ➞ [3, 3]\n",
        "print(hash_plus_count(\"#+++#+#++#\"))# ➞ [4, 6]\n",
        "print(hash_plus_count(\"\"))# ➞ [0, 0]"
      ],
      "execution_count": 0,
      "outputs": [
        {
          "output_type": "stream",
          "text": [
            "[3, 1]\n",
            "[3, 3]\n",
            "[4, 6]\n",
            "[0, 0]\n"
          ],
          "name": "stdout"
        }
      ]
    },
    {
      "cell_type": "markdown",
      "metadata": {
        "id": "et051y-KtC-6",
        "colab_type": "text"
      },
      "source": [
        "# Given a list of numbers, negate all elements contained within."
      ]
    },
    {
      "cell_type": "code",
      "metadata": {
        "id": "tTTG_-IKdAxl",
        "colab_type": "code",
        "outputId": "724edd57-42d7-414a-adce-f05209b65e37",
        "colab": {
          "base_uri": "https://localhost:8080/",
          "height": 68
        }
      },
      "source": [
        "def negate(lst):\n",
        "\tif lst == \"\":\n",
        "\t\treturn []\n",
        "\telse:\n",
        "\t\tfor i in range(len(lst)):\n",
        "\t\t\tlst[i]=-lst[i]\n",
        "\t\treturn lst\n",
        "\n",
        "print(negate([1, 2, 3, 4])) #➞ [-1, -2, -3, -4]\n",
        "\n",
        "print(negate([-1, 2, -3, 4])) #➞ [1, -2, 3, -4]\n",
        "\n",
        "print(negate([])) #➞ []\n",
        "  "
      ],
      "execution_count": 0,
      "outputs": [
        {
          "output_type": "stream",
          "text": [
            "[-1, -2, -3, -4]\n",
            "[1, -2, 3, -4]\n",
            "[]\n"
          ],
          "name": "stdout"
        }
      ]
    },
    {
      "cell_type": "code",
      "metadata": {
        "id": "N-IOZ4xTtWEW",
        "colab_type": "code",
        "colab": {}
      },
      "source": [
        ""
      ],
      "execution_count": 0,
      "outputs": []
    },
    {
      "cell_type": "markdown",
      "metadata": {
        "id": "QNoOpspDu4ZB",
        "colab_type": "text"
      },
      "source": [
        "# Create a function that returns True if an input string contains only uppercase or only lowercase letters."
      ]
    },
    {
      "cell_type": "code",
      "metadata": {
        "id": "2Vj0R5c0u6Z5",
        "colab_type": "code",
        "outputId": "5f6d2015-eab5-464a-de2d-7afb20aa93a0",
        "colab": {
          "base_uri": "https://localhost:8080/",
          "height": 85
        }
      },
      "source": [
        "def same_case(txt):\n",
        "\tif txt == txt.lower():\n",
        "\t\treturn True\n",
        "\telif txt == txt.upper():\n",
        "\t\treturn True\n",
        "\telse:\n",
        "\t\treturn False\n",
        "\n",
        "print(same_case(\"hello\"))# ➞ True\n",
        "print(same_case(\"HELLO\")) #➞ True\n",
        "print(same_case(\"Hello\")) #➞ False\n",
        "print(same_case(\"ketcHUp\"))# ➞ False"
      ],
      "execution_count": 0,
      "outputs": [
        {
          "output_type": "stream",
          "text": [
            "True\n",
            "True\n",
            "False\n",
            "False\n"
          ],
          "name": "stdout"
        }
      ]
    },
    {
      "cell_type": "markdown",
      "metadata": {
        "id": "ds7btNjCwKAi",
        "colab_type": "text"
      },
      "source": [
        "# Create a function that returns True if the first list can be nested inside the second.\n",
        "\n",
        "list1 can be nested inside list2 if:\n",
        "\n",
        "list1's min is greater than list2's min.\n",
        "list1's max is less than list2's max."
      ]
    },
    {
      "cell_type": "code",
      "metadata": {
        "id": "NmjGryx0vKm0",
        "colab_type": "code",
        "outputId": "e0343f5c-cada-46af-c7b1-050c16a572dd",
        "colab": {
          "base_uri": "https://localhost:8080/",
          "height": 85
        }
      },
      "source": [
        "def can_nest(list1, list2):\n",
        "\tif min(list1) > min(list2) and max(list1)< max(list2):\n",
        "\t\treturn True\n",
        "\telse:\n",
        "\t\treturn False\n",
        "\n",
        "print(can_nest([1, 2, 3, 4], [0, 6]))# ➞ True\n",
        "print(can_nest([3, 1], [4, 0]))# ➞ True\n",
        "print(can_nest([9, 9, 8], [8, 9]))# ➞ False\n",
        "print(can_nest([1, 2, 3, 4], [2, 3]))# ➞ False"
      ],
      "execution_count": 0,
      "outputs": [
        {
          "output_type": "stream",
          "text": [
            "True\n",
            "True\n",
            "False\n",
            "False\n"
          ],
          "name": "stdout"
        }
      ]
    },
    {
      "cell_type": "code",
      "metadata": {
        "id": "ZgCQYrX-wIjL",
        "colab_type": "code",
        "colab": {}
      },
      "source": [
        ""
      ],
      "execution_count": 0,
      "outputs": []
    },
    {
      "cell_type": "markdown",
      "metadata": {
        "id": "UfcJYQDeZ_w6",
        "colab_type": "text"
      },
      "source": [
        "# Create a function that counts the number of syllables a word has. Each syllable is separated with a dash -."
      ]
    },
    {
      "cell_type": "code",
      "metadata": {
        "id": "1K8iD7zcaCVW",
        "colab_type": "code",
        "colab": {
          "base_uri": "https://localhost:8080/",
          "height": 85
        },
        "outputId": "84159ee9-b2aa-4924-c571-05b7a4134a9c"
      },
      "source": [
        "def number_syllables(word):\n",
        "\tsyll = word.split('-')\n",
        "\treturn len(syll)\n",
        " \n",
        "print(number_syllables(\"buf-fet\"))# ➞ 2\n",
        "print(number_syllables(\"beau-ti-ful\"))# ➞ 3\n",
        "print(number_syllables(\"mon-u-men-tal\")) #➞ 4\n",
        "print(number_syllables(\"on-o-mat-o-poe-ia\"))# ➞ 6"
      ],
      "execution_count": 1,
      "outputs": [
        {
          "output_type": "stream",
          "text": [
            "2\n",
            "3\n",
            "4\n",
            "6\n"
          ],
          "name": "stdout"
        }
      ]
    },
    {
      "cell_type": "code",
      "metadata": {
        "id": "pNor2hu3aQOs",
        "colab_type": "code",
        "colab": {
          "base_uri": "https://localhost:8080/",
          "height": 85
        },
        "outputId": "b80b5aa1-462e-434b-bf68-4747c2fc9fd6"
      },
      "source": [
        "def limit_number(num, range_low, range_high):\n",
        "\treturn range_high if num > range_high else range_low if num < range_low else num\n",
        "\t\t\n",
        "  \n",
        "\n",
        "print(limit_number(5, 1, 10))# ➞ 5\n",
        "print(limit_number(-3, 1, 10))# ➞ 1\n",
        "print(limit_number(14, 1, 10))# ➞ 10\n",
        "print(limit_number(4.6, 1, 10))# ➞ 4.6"
      ],
      "execution_count": 13,
      "outputs": [
        {
          "output_type": "stream",
          "text": [
            "5\n",
            "1\n",
            "10\n",
            "4.6\n"
          ],
          "name": "stdout"
        }
      ]
    },
    {
      "cell_type": "markdown",
      "metadata": {
        "id": "JJerUHjzdr8O",
        "colab_type": "text"
      },
      "source": [
        "# Write a function to reverse a list."
      ]
    },
    {
      "cell_type": "code",
      "metadata": {
        "id": "sC3mWaEybxMu",
        "colab_type": "code",
        "colab": {
          "base_uri": "https://localhost:8080/",
          "height": 68
        },
        "outputId": "c14e35e3-da50-47dc-804c-6130528e79a6"
      },
      "source": [
        "def reverse(lst):\n",
        "\tif lst == []:\n",
        "\t\treturn []\n",
        "\telse:\n",
        "\t\treve = lst[::-1]\n",
        "\t\treturn reve\n",
        "\n",
        "print(reverse([1, 2, 3, 4]))# ➞ [4, 3, 2, 1]\n",
        "print(reverse([9, 9, 2, 3, 4]))# ➞ [4, 3, 2, 9, 9]\n",
        "print(reverse([]))# ➞ []\n",
        "\t"
      ],
      "execution_count": 14,
      "outputs": [
        {
          "output_type": "stream",
          "text": [
            "[4, 3, 2, 1]\n",
            "[4, 3, 2, 9, 9]\n",
            "[]\n"
          ],
          "name": "stdout"
        }
      ]
    },
    {
      "cell_type": "markdown",
      "metadata": {
        "id": "gr8AE39tibAZ",
        "colab_type": "text"
      },
      "source": [
        "# Next Element in Arithmetic Sequence\n",
        "\n",
        "Create a function that returns the next element in an arithmetic sequence. In an arithmetic sequence, each element is formed by adding the same constant to the previous element."
      ]
    },
    {
      "cell_type": "code",
      "metadata": {
        "id": "Kg9onzKrd5CY",
        "colab_type": "code",
        "colab": {
          "base_uri": "https://localhost:8080/",
          "height": 68
        },
        "outputId": "9c4276b9-05c8-478d-b471-1b61c3462194"
      },
      "source": [
        "def next_element(lst):\n",
        "\tfind = lst[1] - lst[0]\n",
        "\treturn lst[-1]+find\n",
        "\n",
        "print(next_element([3, 5, 7, 9]))# ➞ 11\n",
        "print(next_element([-5, -6, -7]))# ➞ -8\n",
        "print(next_element([2, 2, 2, 2, 2]))# ➞ 2"
      ],
      "execution_count": 15,
      "outputs": [
        {
          "output_type": "stream",
          "text": [
            "11\n",
            "-8\n",
            "2\n"
          ],
          "name": "stdout"
        }
      ]
    },
    {
      "cell_type": "markdown",
      "metadata": {
        "id": "wop1ZoJJi2jT",
        "colab_type": "text"
      },
      "source": [
        "# Add, Subtract, Multiply or Divide?\n",
        "Write a function that takes two numbers and returns if they should be added, subtracted, multiplied or divided to get 24. If none of the operations can give 24, return None."
      ]
    },
    {
      "cell_type": "code",
      "metadata": {
        "id": "Pw-q9LiFiXTn",
        "colab_type": "code",
        "colab": {
          "base_uri": "https://localhost:8080/",
          "height": 68
        },
        "outputId": "963c2aed-b668-43ff-b5d3-b283c455e4ec"
      },
      "source": [
        "def operation(num1, num2):\n",
        "\tresult = 24\n",
        "\tif num1 + num2 == result:\n",
        "\t\treturn \"added\"\n",
        "\telif num1 * num2 == result:\n",
        "\t\treturn \"multiplied\"\n",
        "\telif num1 - num2 == result:\n",
        "\t\treturn \"subtracted\"\n",
        "\telif num1 / num2 == result:\n",
        "\t\treturn \"divided\"\n",
        "\telse:\n",
        "\t\treturn None\n",
        "\n",
        "print(operation(15, 9))# ➞ \"added\"\n",
        "print(operation(26, 2))# ➞ \"subtracted\"\n",
        "print(operation(11, 11))# ➞ None"
      ],
      "execution_count": 16,
      "outputs": [
        {
          "output_type": "stream",
          "text": [
            "added\n",
            "subtracted\n",
            "None\n"
          ],
          "name": "stdout"
        }
      ]
    },
    {
      "cell_type": "code",
      "metadata": {
        "id": "MhQwc-o-kM_u",
        "colab_type": "code",
        "colab": {
          "base_uri": "https://localhost:8080/",
          "height": 68
        },
        "outputId": "bcf101c9-cc2d-4786-abc0-9eca280b32f2"
      },
      "source": [
        "def operation(num1, num2):\n",
        "  oper = {(num1+num2): \"added\", (num1-num2): \"subtracted\", (num1*num2): 'multiplied',(num1/num2):\"divided\"}\n",
        "  if 24 in oper.keys():\n",
        "    return oper[24]\n",
        "  else:\n",
        "    return None\n",
        "\n",
        "print(operation(15, 9))# ➞ \"added\"\n",
        "print(operation(26, 2))# ➞ \"subtracted\"\n",
        "print(operation(11, 11))# ➞ None\n"
      ],
      "execution_count": 18,
      "outputs": [
        {
          "output_type": "stream",
          "text": [
            "added\n",
            "subtracted\n",
            "None\n"
          ],
          "name": "stdout"
        }
      ]
    },
    {
      "cell_type": "markdown",
      "metadata": {
        "id": "_RE_fFukmBR_",
        "colab_type": "text"
      },
      "source": [
        "#Stack the Boxes\n",
        "Here's an image of four models. Some of the cubes are hidden behind other cubes. Model one consists of one cube. Model two consists of four cubes, and so on...\n",
        "![stack photo](https://drive.google.com/uc?id=18jZ2zCHfeoy817c_ygadfk5knhU4UZeh)"
      ]
    },
    {
      "cell_type": "code",
      "metadata": {
        "id": "AZMgBcT8lcGE",
        "colab_type": "code",
        "colab": {
          "base_uri": "https://localhost:8080/",
          "height": 68
        },
        "outputId": "e41a874c-f3f4-43b3-ef27-866fdebfc4f7"
      },
      "source": [
        "def stack_boxes(n):\n",
        "\treturn n**2\n",
        "\n",
        "print(stack_boxes(1))# ➞ 1\n",
        "\n",
        "print(stack_boxes(2))# ➞ 4\n",
        "\n",
        "print(stack_boxes(0))# ➞ 0"
      ],
      "execution_count": 19,
      "outputs": [
        {
          "output_type": "stream",
          "text": [
            "1\n",
            "4\n",
            "0\n"
          ],
          "name": "stdout"
        }
      ]
    },
    {
      "cell_type": "code",
      "metadata": {
        "id": "Q54JE9o0n6W_",
        "colab_type": "code",
        "colab": {
          "base_uri": "https://localhost:8080/",
          "height": 68
        },
        "outputId": "1f65a2b5-7afe-426c-8990-d33b641ec9e5"
      },
      "source": [
        "def calculate_scores(txt):\n",
        "  A = 0\n",
        "  B = 0\n",
        "  C = 0\n",
        "  for i in txt:\n",
        "    if i =='A':\n",
        "      A +=1\n",
        "    if i =='B':\n",
        "      B +=1\n",
        "    if i =='C':\n",
        "      C +=1\n",
        "  return [A,B,C]\n",
        "  \n",
        "  \n",
        "  \n",
        "print(calculate_scores(\"A\"))# ➞ [1, 0, 0]\n",
        "print(calculate_scores(\"ABC\"))# ➞ [1, 1, 1]\n",
        "print(calculate_scores(\"ABCBACC\"))# ➞ [2, 2, 3]\n",
        "\n",
        "# read Durga sir notes"
      ],
      "execution_count": 45,
      "outputs": [
        {
          "output_type": "stream",
          "text": [
            "[1, 0, 0]\n",
            "[1, 1, 1]\n",
            "[2, 2, 3]\n"
          ],
          "name": "stdout"
        }
      ]
    },
    {
      "cell_type": "code",
      "metadata": {
        "id": "wx96ZypQ0fXa",
        "colab_type": "code",
        "colab": {}
      },
      "source": [
        ""
      ],
      "execution_count": 0,
      "outputs": []
    }
  ]
}